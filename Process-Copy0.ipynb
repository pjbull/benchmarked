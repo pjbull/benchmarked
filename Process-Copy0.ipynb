{
 "metadata": {
  "name": ""
 },
 "nbformat": 3,
 "nbformat_minor": 0,
 "worksheets": [
  {
   "cells": [
    {
     "cell_type": "code",
     "collapsed": false,
     "input": [
      "%matplotlib inline\n",
      "\n",
      "from __future__ import division\n",
      "\n",
      "from pattern.web import PDF\n",
      "import requests\n",
      "import json\n",
      "import re\n",
      "import urllib\n",
      "import os\n",
      "import operator\n",
      "import networkx as nx\n",
      "import fnmatch\n",
      "from itertools import combinations\n",
      "\n",
      "import pandas as pd\n",
      "import numpy as np\n",
      "import scipy.stats as stats\n",
      "import math\n",
      "from collections import Counter\n",
      "from collections import defaultdict\n",
      "\n",
      "import prettyplotlib as pplt\n",
      "import matplotlib.pyplot as plt\n",
      "from matplotlib import rcParams\n",
      "import matplotlib.cm as cm\n",
      "import matplotlib as mpl\n",
      "import pylab as pl\n",
      "\n",
      "from sklearn import metrics\n",
      "from sklearn.cluster import KMeans\n",
      "from sklearn.decomposition import PCA\n",
      "from sklearn.preprocessing import scale\n",
      "import sklearn.preprocessing, sklearn.decomposition,sklearn.linear_model, sklearn.pipeline, sklearn.metrics\n",
      "from sklearn_pandas import DataFrameMapper, cross_val_score\n",
      "\n",
      "from scipy.spatial.distance import pdist, squareform\n",
      "from scipy.cluster.hierarchy import linkage, dendrogram\n",
      "import scipy.stats as stat\n",
      "\n",
      "from xml.etree import ElementTree as etree\n",
      "\n",
      "#colorbrewer2 Dark2 qualitative color table\n",
      "dark2_colors = [(0.10588235294117647, 0.6196078431372549, 0.4666666666666667),\n",
      "                (0.8509803921568627, 0.37254901960784315, 0.00784313725490196),\n",
      "                (0.4588235294117647, 0.4392156862745098, 0.7019607843137254),\n",
      "                (0.9058823529411765, 0.1607843137254902, 0.5411764705882353),\n",
      "                (0.4, 0.6509803921568628, 0.11764705882352941),\n",
      "                (0.9019607843137255, 0.6705882352941176, 0.00784313725490196),\n",
      "                (0.6509803921568628, 0.4627450980392157, 0.11372549019607843)]\n",
      "\n",
      "rcParams['figure.figsize'] = (16, 11)\n",
      "rcParams['figure.dpi'] = 150\n",
      "rcParams['axes.color_cycle'] = dark2_colors\n",
      "rcParams['lines.linewidth'] = 2\n",
      "rcParams['axes.facecolor'] = 'white'\n",
      "rcParams['font.size'] = 14\n",
      "rcParams['patch.edgecolor'] = 'white'\n",
      "rcParams['patch.facecolor'] = dark2_colors[0]\n",
      "rcParams['font.family'] = 'StixGeneral'"
     ],
     "language": "python",
     "metadata": {},
     "outputs": [],
     "prompt_number": 1
    },
    {
     "cell_type": "markdown",
     "metadata": {},
     "source": [
      "BENCHMARKED\n",
      "============\n",
      "\n",
      "*Analysis of the History and Future of the United States Supreme Court*\n",
      "\n",
      "<img src=\"http://upload.wikimedia.org/wikipedia/commons/thumb/4/43/Supreme_Court_US_2010.jpg/640px-Supreme_Court_US_2010.jpg\">"
     ]
    },
    {
     "cell_type": "markdown",
     "metadata": {},
     "source": [
      "##Overview\n",
      "\n",
      "COME BACK AND WRITE THIS ONCE WE UNDERSTAND THE BIG PICTURE"
     ]
    },
    {
     "cell_type": "markdown",
     "metadata": {},
     "source": [
      "#Section I - Gathering Data on the Court\n",
      "\n",
      "As a matter of legal record, the proceedings of the US Supreme Court are technically part of the public domain. However, structured representations of the court's records are almost entirely behind the paywalls of Lexis-Nexis and Westlaw. We've compiled data on the court from four separate pubically available sources that range from a well-cleaned, curated datasets to raw pdf documents of legal proceedings. Each source provides a different angle on the history of court that we can leverage in our analysis.\n",
      "\n",
      "## The Harold J. Spaeth Dataset\n",
      "The [Supreme Court Database](http://scdb.wustl.edu/index.php) is a publicly available data bank started in the 1980s by Harold J Spaeth, PhD, JD with a grant from the National Science Foundation to facilitate research on the Supreme Court. The accuracy of data has been externally validated and is used widely by legal academics for studies of Supreme Court decisions.  From its inception, the databank has expanded to document every vote made by the Supreme Court since 1946. In its current form, the data bank contains 247 variables for each vote. The variables, or features, of the dataset can be generalized into six main groups: identification, background, chronological, substantive, outcome, and voting/opinion variables. To make the database more tenable, we refined the database to fifty features of interest. Specifically, features were chosen based on their relevance to objectifying patterns within Supreme Court decisions.  Numerous features, such as 'Docket Number', 'Case Number', and 'Natural Court', were able to be removed simply because the variable represent irrelevant, procedural data that was present only due to the thoroughness of the data bank's documentation of the votes or because the variable was deemed to be supplementary to data present in the retained features. The retained features with which exploratory analysis is proceed upon include information on the origins each case brought before the Court for review, details of Judge votes/opinions, and statistics on Court composition.\n",
      "\n",
      "## Wikipedia Data on Supreme Court Justices\n",
      "The [Supreme Court](http://en.wikipedia.org/wiki/Supreme_Court_of_the_United_States) is part of the judicial branch of government, and thus not a political office. However, each justice is appointed by a sitting President, with a political affiliation to a particular party. In order to gain insight into the political leanings of the court, we scraped Wikipedia for the political parties of the appointing President for each justice in the Spaeth dataset. We then added this party as a feature of our dataset.\n",
      "\n",
      "## The CourtListener API\n",
      "[CourtListener](https://www.courtlistener.com/) is a free legal search engine that is developed and maintained by the [Free Law Project](http://freelawproject.org/). CourtListener provides a [free API](https://www.courtlistener.com/api/) for access to both data in bulk and individual queries. We used CourtListener's bulk-data API to get information about every court case in the Spaeth dataset, including which other cases it cited. The data was retrieved as XML and then parsed and restructured so that it could be compiled with the Spaeth data. Using these citations, we created a network of influence among the Supreme Court opinions.\n",
      "\n",
      "## Supreme Court Briefs Made Available by the American Bar Association\n",
      "The [American Bar Association](http://www.americanbar.org) publishes the text of briefs to the Supreme Court in PDF format. Before each case the court takes, the petitioner and the respondent submit a merit brief to the court which outlines their argument. We created a script to download all of the pdfs from 2003-2009, open the documents, and parse them for citations of Supreme Court opinions. We then matched these briefs with the opinion that the court gave when the case was decided."
     ]
    },
    {
     "cell_type": "markdown",
     "metadata": {},
     "source": [
      "# The Code to Make it Work\n",
      "Below is the code for gathering the data from the above sources. Note: The cells below need not be executed; we output the final data to csv files that can be read in at the start of Section II: Exploration. Some of the cells take an extremely long time to execute or may retrieve very large amounts of data; we've changed the default on these cells not to execute for safety's sake.\n",
      "\n",
      "## Source 1: Spaeth\n",
      "The \"justice centered\" (meaning it has a row for each justice's vote on each case) dataset is available for download from the [Supreme Court Database website](http://scdb.wustl.edu/data.php). We downloaded the justice centered data organized by Supreme Court case citation."
     ]
    },
    {
     "cell_type": "code",
     "collapsed": false,
     "input": [
      "data_dir = \"data\"\n",
      "\n",
      "if not os.path.exists(data_dir):\n",
      "    os.makedirs(data_dir)\n",
      "\n",
      "# download the spaeth dataset\n",
      "urllib.urlretrieve(\"http://scdb.wustl.edu/_brickFiles/2013_01/SCDB_2013_01_justiceCentered_Citation.csv.zip\", \n",
      "                   data_dir + \"/SCDB_2013_01_justiceCentered_Citation.csv.zip\")\n",
      "\n",
      "# unzip it (unix only)\n",
      "!unzip data_test/SCDB_2013_01_justiceCentered_Citation.csv.zip -d $data_dir\n",
      "\n",
      "# read the dataframe into pandas\n",
      "fulldf = pd.read_csv(data_dir + \"/SCDB_2013_01_justiceCentered_Citation.csv\")\n",
      "\n",
      "# write out the columns that we want to keep to a new csv\n",
      "df_to_keep = fulldf[['caseId',\n",
      "                     'docketId',\n",
      "                     'caseIssuesId',\n",
      "                     'voteId',\n",
      "                     'dateDecision',\n",
      "                     'usCite',\n",
      "                     'sctCite',\n",
      "                     'ledCite',\n",
      "                     'lexisCite',\n",
      "                     'term',\n",
      "                     'chief',\n",
      "                     'caseName',\n",
      "                     'petitioner',\n",
      "                     'petitionerState',\n",
      "                     'respondent',\n",
      "                     'respondentState',\n",
      "                     'jurisdiction',\n",
      "                     'adminAction',\n",
      "                     'adminActionState',\n",
      "                     'threeJudgeFdc',\n",
      "                     'caseOrigin',\n",
      "                     'caseOriginState',\n",
      "                     'caseSource',\n",
      "                     'caseSourceState',\n",
      "                     'lcDisagreement',\n",
      "                     'certReason',\n",
      "                     'naturalCourt',\n",
      "                     'lcDisposition',\n",
      "                     'lcDispositionDirection',\n",
      "                     'declarationUncon',\n",
      "                     'caseDisposition',\n",
      "                     'partyWinning',\n",
      "                     'precedentAlteration',\n",
      "                     'issueArea',\n",
      "                     'decisionDirection',\n",
      "                     'decisionDirectionDissent',\n",
      "                     'authorityDecision1',\n",
      "                     'authorityDecision2',\n",
      "                     'lawType',\n",
      "                     'majOpinWriter',\n",
      "                     'splitVote',\n",
      "                     'majVotes',\n",
      "                     'minVotes',\n",
      "                     'justice',\n",
      "                     'justiceName',\n",
      "                     'vote',\n",
      "                     'opinion',\n",
      "                     'direction',\n",
      "                     'majority',\n",
      "                     'firstAgreement',\n",
      "                     'secondAgreement']]\n",
      "\n",
      "df_to_keep.to_csv(data_dir + '/SCDB_2013_01_justiceCentered_Citation_Cleaned.csv', index=False)"
     ],
     "language": "python",
     "metadata": {},
     "outputs": [
      {
       "output_type": "stream",
       "stream": "stdout",
       "text": [
        "Archive:  data_test/SCDB_2013_01_justiceCentered_Citation.csv.zip\r\n",
        "  inflating: data3/SCDB_2013_01_justiceCentered_Citation.csv  "
       ]
      },
      {
       "output_type": "stream",
       "stream": "stdout",
       "text": [
        "\r\n"
       ]
      },
      {
       "output_type": "stream",
       "stream": "stdout",
       "text": [
        "61\n"
       ]
      }
     ],
     "prompt_number": 5
    },
    {
     "cell_type": "markdown",
     "metadata": {},
     "source": [
      "## Create Dictionaries for Codebook Values\n",
      "\n",
      "The Spaeth dataset encodes categorical values using integers, so in order to make our results understandable, we need to remap these integer values back to the categories they represent. To do this we scraped the online codebook for the Spaeth dataset, and created dictionaries to make back and forth between the encoded values and the plain English values."
     ]
    },
    {
     "cell_type": "markdown",
     "metadata": {},
     "source": [
      "The following code is used to create dictionary of state origin ID: names"
     ]
    },
    {
     "cell_type": "code",
     "collapsed": false,
     "input": [
      "#uses pattern to webscrape from Supreme Court Database\n",
      "URL = 'http://scdb.wustl.edu/documentation.php?var=caseOriginState'\n",
      "xml = requests.get(URL).text.encode('ascii', 'ignore')\n",
      "dom = web.DOM(xml)\n",
      "body = dom.body\n",
      "\n",
      "\n",
      "data_list = []\n",
      "for table in body.by_tag('table'):\n",
      "    if len(table) >20: #selects the table containing the conversion numbers:names\n",
      "        for data in table.by_tag('tr'):\n",
      "            for item in data.by_tag('td'):\n",
      "                entry =  item.content\n",
      "                #strips off formating:\n",
      "                entry = entry.replace('\\t', '')\n",
      "                entry = str(entry.replace('\\n', ''))\n",
      "                data_list.append(entry)\n",
      "count = 0\n",
      "#the dictionary\n",
      "number_to_caseOriginState = {}\n",
      "#entries are list of number followed by name. Use modulous to pick the even entries as \n",
      "#numbers and the odd entries as the name, then create updates the dictionary with those\n",
      "#values\n",
      "for item in data_list:\n",
      "    if count%2 == 0:\n",
      "        number = item\n",
      "    if count%2 != 0:\n",
      "        cOrigS = item\n",
      "        number_to_caseOriginState[number] = cOrigS\n",
      "    count += 1\n",
      "#unhash the following to see the dictionary values:   \n",
      "#print number_to_caseOrigin"
     ],
     "language": "python",
     "metadata": {},
     "outputs": []
    },
    {
     "cell_type": "markdown",
     "metadata": {},
     "source": [
      "The following code is used to create a dictionary of source ID: names"
     ]
    },
    {
     "cell_type": "code",
     "collapsed": false,
     "input": [
      "#uses pattern to webscrape from Supreme Court Database\n",
      "URL = 'http://scdb.wustl.edu/documentation.php?var=caseSource'\n",
      "xml = requests.get(URL).text.encode('ascii', 'ignore')\n",
      "dom = web.DOM(xml)\n",
      "body = dom.body\n",
      "\n",
      "\n",
      "data_list = []\n",
      "for table in body.by_tag('table'):\n",
      "    if len(table) >20: #select appropriate table from website to scrape\n",
      "        for data in table.by_tag('tr'):\n",
      "            for item in data.by_tag('td'):\n",
      "                entry =  item.content\n",
      "                #remove unneeded formating:\n",
      "                entry = entry.replace('\\t', '')\n",
      "                entry = str(entry.replace('\\n', ''))\n",
      "                #append data to list\n",
      "                data_list.append(entry)\n",
      "count = 0\n",
      "#create dictionary:\n",
      "number_to_caseSource = {}\n",
      "#as with the origin dictionary creation, the list is parsed into the ID numbers and names via even \n",
      "#modulus and then a the dictionary is updated.\n",
      "for item in data_list:\n",
      "    if count%2 == 0:\n",
      "        number = item\n",
      "    if count%2 != 0:\n",
      "        cOrig = item\n",
      "        number_to_caseSource[number] = cOrig\n",
      "    count += 1\n",
      "#unhash the following to view the entries of dictionary:    \n",
      "#print number_to_caseSource"
     ],
     "language": "python",
     "metadata": {},
     "outputs": []
    },
    {
     "cell_type": "markdown",
     "metadata": {},
     "source": [
      "The following code is used to generate a dictionary of petitioner id: names"
     ]
    },
    {
     "cell_type": "code",
     "collapsed": false,
     "input": [
      "#webscrape using pattern\n",
      "URL = 'http://scdb.wustl.edu/documentation.php?var=petitioner'\n",
      "xml = requests.get(URL).text.encode('ascii', 'ignore')\n",
      "dom = web.DOM(xml)\n",
      "body = dom.body\n",
      "pets = []\n",
      "\n",
      "data_list = []\n",
      "for table in body.by_tag('table'):\n",
      "    if len(table) >20: #select the appropriate table\n",
      "        for data in table.by_tag('tr'):\n",
      "            for item in data.by_tag('td'):\n",
      "                entry =  item.content\n",
      "                #remove unneeded formating and append data\n",
      "                entry = entry.replace('\\t', '')\n",
      "                entry = str(entry.replace('\\n', ''))\n",
      "                data_list.append(entry)\n",
      "count = 0\n",
      "number_to_pet = {}\n",
      "#append data to dictionary:\n",
      "for item in data_list:\n",
      "    if count%2 == 0:\n",
      "        number = item\n",
      "    if count%2 != 0:\n",
      "        pet = item\n",
      "        number_to_pet[number] = pet\n",
      "    count += 1\n",
      "#remove the hash to view the dictionary values   \n",
      "#print number_to_pet"
     ],
     "language": "python",
     "metadata": {},
     "outputs": []
    },
    {
     "cell_type": "markdown",
     "metadata": {},
     "source": [
      "Create a dictionary that converts the numerical justice Ids to names:"
     ]
    },
    {
     "cell_type": "code",
     "collapsed": false,
     "input": [
      "#use pattern to webscrape\n",
      "URL = 'http://scdb.wustl.edu/documentation.php?var=justice'\n",
      "xml = requests.get(URL).text.encode('ascii', 'ignore')\n",
      "dom = web.DOM(xml)\n",
      "body = dom.body\n",
      "\n",
      "\n",
      "data_list = []\n",
      "for table in body.by_tag('table'):\n",
      "    if len(table) >20: #select appropriate table for justice names\n",
      "        for data in table.by_tag('tr'):\n",
      "            for item in data.by_tag('td'):\n",
      "                entry =  item.content\n",
      "                #remove unneed formating from table entries:\n",
      "                entry = entry.replace('\\t', '')\n",
      "                entry = str(entry.replace('\\n', ''))\n",
      "                #append data from table to list\n",
      "                data_list.append(entry)\n",
      "count = 0\n",
      "#create dictionary that transform list data in id_number:name\n",
      "number_to_name= {}\n",
      "for item in data_list:\n",
      "    if count%2 == 0:\n",
      "        number = item\n",
      "    if count%2 != 0:\n",
      "        number_to_name[number] = item\n",
      "    count += 1\n",
      "#unhash to see entries of dictionary:    \n",
      "#print number_to_name"
     ],
     "language": "python",
     "metadata": {},
     "outputs": []
    },
    {
     "cell_type": "markdown",
     "metadata": {},
     "source": [
      "Create a dictionary that converts the disposition Ids to names:"
     ]
    },
    {
     "cell_type": "code",
     "collapsed": false,
     "input": [
      "#webscrape using pattern\n",
      "URL = 'http://scdb.wustl.edu/documentation.php?var=caseDisposition'\n",
      "xml = requests.get(URL).text.encode('ascii', 'ignore')\n",
      "dom = web.DOM(xml)\n",
      "body = dom.body\n",
      "states = []\n",
      "\n",
      "data_list = []\n",
      "for table in body.by_tag('table'):\n",
      "    if len(table) >20: #parse for the appropriate chart\n",
      "        for data in table.by_tag('tr'):\n",
      "            for item in data.by_tag('td'):\n",
      "                entry =  item.content\n",
      "                #remove the unneeded table formatting\n",
      "                entry = entry.replace('\\t', '')\n",
      "                entry = str(entry.replace('\\n', ''))\n",
      "                data_list.append(entry)\n",
      "count = 0\n",
      "#create dictionary dispoID:name\n",
      "number_to_dispo = {}\n",
      "for item in data_list:\n",
      "    if count%2 == 0:\n",
      "        number = item\n",
      "    if count%2 != 0:\n",
      "        dispo = item\n",
      "        number_to_dispo[number] = dispo\n",
      "    count += 1\n",
      "#unhash the following to view the dictionary values    \n",
      "#print number_to_lcdispo"
     ],
     "language": "python",
     "metadata": {},
     "outputs": []
    },
    {
     "cell_type": "markdown",
     "metadata": {},
     "source": [
      "Create a dictionary that converts the numerical case issue area Ids to names:"
     ]
    },
    {
     "cell_type": "code",
     "collapsed": false,
     "input": [
      "#use pattern to webscrape\n",
      "URL = 'http://scdb.wustl.edu/documentation.php?var=issueArea'\n",
      "xml = requests.get(URL).text.encode('ascii', 'ignore')\n",
      "dom = web.DOM(xml)\n",
      "body = dom.body\n",
      "\n",
      "data_list = []\n",
      "for table in body.by_tag('table'):\n",
      "    if len(table) >20: #select appropriate table for justice names\n",
      "        for data in table.by_tag('tr'):\n",
      "            for item in data.by_tag('td'):\n",
      "                entry =  item.content\n",
      "                #remove unneed formating from table entries:\n",
      "                entry = entry.replace('\\t', '')\n",
      "                entry = str(entry.replace('\\n', ''))\n",
      "                #append data from table to list\n",
      "                data_list.append(entry)\n",
      "count = 0\n",
      "#create dictionary that transform list data in id_number:name\n",
      "number_to_issArea= {}\n",
      "for item in data_list:\n",
      "    if count%2 == 0:\n",
      "        number = item\n",
      "    if count%2 != 0:\n",
      "        number_to_issArea[number] = item\n",
      "    count += 1\n",
      "#unhash to see entries of dictionary:   \n",
      "#print number_to_issArea"
     ],
     "language": "python",
     "metadata": {},
     "outputs": []
    },
    {
     "cell_type": "markdown",
     "metadata": {},
     "source": [
      "##Source 2: Wikipedia Data on Supreme Court Justices\n",
      "\n",
      "This part focuses on getting the 'political side' of the justices. We know that they are supposed to be politically neutral, but each justice is appointed by a President that has a political side. We will assume that the political side of the President that appointed  justice is the political side of the justice. We scrap the appointers of each justice using the Wikipedia page http://en.wikipedia.org/wiki/List_of_Justices_of_the_Supreme_Court_of_the_United_States. \n",
      "\n",
      "In a second time, we scrap the Political Parties of the Presidents using their own Wikipedia pages. As an example, Barack Obama's Wikipedia page (http://en.wikipedia.org/wiki/Barack_Obama) states on the right side his political party. It's the same format for all the presidents that appointed justices since 1946."
     ]
    },
    {
     "cell_type": "code",
     "collapsed": false,
     "input": [
      "wiki_page = json.loads(requests.get('http://en.wikipedia.org/w/api.php?format=json&action=query&titles=List_of_Justices_of_the_Supreme_Court_of_the_United_States&prop=revisions&rvprop=content').text)"
     ],
     "language": "python",
     "metadata": {},
     "outputs": [],
     "prompt_number": 2
    },
    {
     "cell_type": "code",
     "collapsed": false,
     "input": [
      "#Scrape the Appointers Names and Justices Names from the Wikipedia page\n",
      "appointers = []\n",
      "temp = wiki_page['query']['pages']['216429']['revisions'][0]['*'].split('|appointer=')\n",
      "for i in xrange(1,len(temp)):\n",
      "    appointers.append(temp[i].split('\\n')[0].split('[[')[1].split(']]')[0].split('|')[0])\n",
      "\n",
      "justices = []\n",
      "temp = wiki_page['query']['pages']['216429']['revisions'][0]['*'].split('|name=')\n",
      "for i in xrange(1,len(temp)):\n",
      "    justices.append(temp[i].split('[[')[1].split(']]')[0])\n",
      "    \n",
      "for i, ele in enumerate(justices):\n",
      "    temp = ele.split(' (')[0]\n",
      "    temp = temp.split(' II')[0]\n",
      "    justices[i] = temp.split(',')[0]\n",
      "    "
     ],
     "language": "python",
     "metadata": {},
     "outputs": []
    },
    {
     "cell_type": "markdown",
     "metadata": {},
     "source": [
      "Now that we extracted the appointers and the justices on the Wikipedia page, we have to make the justices names match with the ones in the Spaeth dataset. That's the purpose of the adjustments (some are manual) that we are making in the following cell. "
     ]
    },
    {
     "cell_type": "code",
     "collapsed": false,
     "input": [
      "justices_names = []\n",
      "for i,ele in enumerate(justices):\n",
      "    t = ele.split(' ')\n",
      "    if len(t)==2:\n",
      "        justices_names.append(t[0][0]+t[1])\n",
      "    if len(t)==3:\n",
      "        justices_names.append(t[0][0]+t[1][0]+t[2])\n",
      "    if len(t)==4:\n",
      "        justices_names.append(t[0][0]+t[1][0]+t[2][0]+t[3])\n",
      "        \n",
      "data_j = pd.DataFrame({'names':list(justices_names)})\n",
      "data_j['appointers'] = appointers\n",
      "data_j.index = data_j.names\n",
      "\n",
      "##Manual Adjustments\n",
      "data_j.loc['AGoldberg']['names'] = 'AJGoldberg'\n",
      "data_j.loc['AKennedy']['names'] = 'AMKennedy'\n",
      "data_j.loc['BWhite']['names'] = 'BRWhite'\n",
      "data_j.loc['DSouter']['names'] = 'DHSouter'\n",
      "data_j.loc['SBreyer']['names'] = 'SGBreyer'\n",
      "data_j.loc['HBlack']['names'] = 'HLBlack'\n",
      "data_j.loc['JMHarlan']['names'] = 'JHarlan2'\n",
      "data_j.loc[\"SDO'Connor\"]['names'] = 'SDOConnor'\n",
      "data_j.loc['WRehnquist']['names'] = 'WHRehnquist'\n",
      "data_j.loc['SAlito']['names'] = 'SAAlito'\n",
      "data_j.loc['HBlackmun']['names'] = 'HABlackmun'"
     ],
     "language": "python",
     "metadata": {},
     "outputs": []
    },
    {
     "cell_type": "markdown",
     "metadata": {},
     "source": [
      "We can finally perform the merging: it adds a column 'appointers' to our dataset."
     ]
    },
    {
     "cell_type": "code",
     "collapsed": false,
     "input": [
      "data = pd.merge(data,data_j,left_on='justiceName',right_on='names',how='left').drop('names',1)"
     ],
     "language": "python",
     "metadata": {},
     "outputs": []
    },
    {
     "cell_type": "markdown",
     "metadata": {},
     "source": [
      "The next step is to scrap the Parties of the Appointers from their own Wikipedia pages. The process is the same as in the first step. We first scrap the relevant data from the Wikipedia page."
     ]
    },
    {
     "cell_type": "code",
     "collapsed": false,
     "input": [
      "party = []\n",
      "for i,appointer in enumerate(appointers):\n",
      "    #Download the web pages\n",
      "    pres_page = json.loads(requests.get('http://en.wikipedia.org/w/api.php?format=json&action=query&titles='+appointer+'&prop=revisions&rvprop=content').text)\n",
      "    party.append(pres_page['query']['pages'].values()[0]['revisions'][0]['*'].split('party')[1].split('|')[0])#.split('\\n')[0].split('= ')[1]"
     ],
     "language": "python",
     "metadata": {},
     "outputs": []
    },
    {
     "cell_type": "markdown",
     "metadata": {},
     "source": [
      "We then perform some adjustments to make the 2 datasets match."
     ]
    },
    {
     "cell_type": "code",
     "collapsed": false,
     "input": [
      "#Manual Adjustments    \n",
      "party[:11] = [x.split('\\n')[0].split('= ')[1] for x in party[:11]]\n",
      "for i, ele in enumerate(party[11:]):\n",
      "    if i+11!=97 and i+11!=96:\n",
      "        party[i+11] = ele.split('[[')[1].split(' (')[0]\n",
      "party[32] = party[32].split(']]')[0]\n",
      "\n",
      "data_f = pd.DataFrame({'names':justices_names,'party':party})\n",
      "data_f.index = data_f.names\n",
      "\n",
      "data_f.loc['AGoldberg']['names'] = 'AJGoldberg'\n",
      "data_f.loc['AKennedy']['names'] = 'AMKennedy'\n",
      "data_f.loc['BWhite']['names'] = 'BRWhite'\n",
      "data_f.loc['DSouter']['names'] = 'DHSouter'\n",
      "data_f.loc['SBreyer']['names'] = 'SGBreyer'\n",
      "data_f.loc['HBlack']['names'] = 'HLBlack'\n",
      "data_f.loc['JMHarlan']['names'] = 'JHarlan2'\n",
      "data_f.loc[\"SDO'Connor\"]['names'] = 'SDOConnor'\n",
      "data_f.loc['WRehnquist']['names'] = 'WHRehnquist'\n",
      "data_f.loc['SAlito']['names'] = 'SAAlito'\n",
      "data_f.loc['HBlackmun']['names'] = 'HABlackmun'"
     ],
     "language": "python",
     "metadata": {},
     "outputs": []
    },
    {
     "cell_type": "markdown",
     "metadata": {},
     "source": [
      "We finally add the new column to the Spaeth dataset"
     ]
    },
    {
     "cell_type": "code",
     "collapsed": false,
     "input": [
      "#Final Merging\n",
      "data = pd.merge(data,data_f,left_on='justiceName',right_on='names',how='left').drop('names',1)"
     ],
     "language": "python",
     "metadata": {},
     "outputs": []
    },
    {
     "cell_type": "markdown",
     "metadata": {},
     "source": [
      "##Source 3: The CourtListener API\n",
      "We need to download the data for the Supreme Court opinion citations from the CourListener API. To do so, we have a simple bash script that downloads each data file and then unzips it into xml. Each XML file contains metadata about court opinions for the whole year."
     ]
    },
    {
     "cell_type": "code",
     "collapsed": false,
     "input": [
      "# This downloads all the .xml files for each year in the Spaeth dataset from CourtListener\n",
      "!cat ./data/get_sc_data.sh"
     ],
     "language": "python",
     "metadata": {},
     "outputs": [
      {
       "output_type": "stream",
       "stream": "stdout",
       "text": [
        "\r\n",
        "for (( year = 2012; year > 1945; year-- )); do\r\n",
        "\tfile=scotus$year.xml.gz\r\n",
        "\techo $file\r\n",
        "\tcurl -L -o $file https://www.courtlistener.com/api/bulk/$year/scotus.xml.gz\r\n",
        "\tgunzip $file\r\n",
        "done"
       ]
      }
     ],
     "prompt_number": 4
    },
    {
     "cell_type": "code",
     "collapsed": false,
     "input": [
      "# WARNING: The line below will take a long time to run and download half a Gigabyte of data\n",
      "#!bash ./data/get_sc_data.sh"
     ],
     "language": "python",
     "metadata": {},
     "outputs": [],
     "prompt_number": 5
    },
    {
     "cell_type": "markdown",
     "metadata": {},
     "source": [
      "Now that we have the data in XML format, we need to parse the XML files, extract the citations for each opinion, and put them in a format that is better for our analysis. Below is an excerpt of the XML we get from CourtListener:\n",
      "\n",
      "```\n",
      "<opinion id=\"104209\" \n",
      "    path=\"/scotus/wYH/mississippi-publishing-corp-v-murphree/\" \n",
      "    sha1=\"ec898669fe1e8e130102ccf11aefdf41bbaf4d37\" \n",
      "    court=\"Supreme Court of the United States\" \n",
      "    time_retrieved=\"2010-04-28 16:54:48+00:00\" \n",
      "    date_filed=\"1946-01-02\" \n",
      "    precedential_status=\"Published\" \n",
      "    local_path=\"\" \n",
      "    docket_number=\"234\" \n",
      "    federal_cite_one=\"326 U.S. 438\" \n",
      "    case_name=\"Mississippi Publishing Corp. v. Murphree\" \n",
      "    judges=\"Stone\" \n",
      "    nature_of_suit=\"\" \n",
      "    source=\"lawbox merged with resource.org\" \n",
      "    blocked=\"False\" \n",
      "    date_blocked=\"None\" \n",
      "    extracted_by_ocr=\"False\"\n",
      "    cited_by=\"2409467,2371421,2191710,2169677,1462041,1370149,801440,1057770,1048244,1032311,\n",
      "        1015223,996224,875374,820003,798252,795905,778924,770076,729782,727715,707614,\n",
      "        695496,687171,676077,652937,622758,587003,569317,566887,547630,544687,539802,522147,\n",
      "        512028,509015,492336,488026,479011,453217,441756,439231,435952,416873,411423,411363,405128,\n",
      "        397143,391437,378024,364183,362252,352418,345370,318487,313400,312177,294526,276972,\n",
      "        273330,271724,268760,263159,261260,260360,257774,254495,251902,249888,249655,\n",
      "        242387,239657,233852,232071,230943,229016,228724,227847,227732,225390,\n",
      "        224518,223984,205499,196025,195068,186480,172244,148675,145560,\n",
      "        118279,118230,112173,112128,111969,111819,111710,111064,\n",
      "        107884,107024,106721,106384,104516,78088,76407,73982,73980,46217,1722\">\n",
      "```\n",
      "\n",
      "From this XML we extract the `cited_by` attribute for each opinion in order to make a citation network of Supreme Court opinions. We then make a map of from the CourtListener IDs, which are what are in the the `cited_by` attribute, to the U.S. citations, which is a format we can use to merge this data with the Spaeth dataset."
     ]
    },
    {
     "cell_type": "code",
     "collapsed": false,
     "input": [
      "\"\"\"\n",
      "ScotusOpinion:\n",
      "\n",
      "This class represents a single supreme court decision; each decision \n",
      "may have multiple entries in the CourtListener XML, so as we pase these entries\n",
      "we need to merge them with the existing entry.\n",
      "\"\"\"\n",
      "class ScotusOpinion:\n",
      "    def __init__(self, opinion):\n",
      "        self.us_cite = opinion.attrib.get('federal_cite_one', False)        \n",
      "        self.case_name = opinion.attrib.get('case_name', False)\n",
      "        self.cl_id = set([opinion.attrib.get('id', False)])\n",
      "        self.cl_cited_by = set(opinion.attrib.get('cited_by', \",\").split(','))\n",
      "\n",
      "    # if we have to merge, track cl_id and cl_cited_by\n",
      "    def merge(self, other_scop):\n",
      "        #set unions\n",
      "        self.cl_id |= other_scop.cl_id\n",
      "        self.cl_cited_by |= other_scop.cl_cited_by"
     ],
     "language": "python",
     "metadata": {},
     "outputs": [],
     "prompt_number": 8
    },
    {
     "cell_type": "code",
     "collapsed": false,
     "input": [
      "opinions_dict = {}\n",
      "\n",
      "# for all the scotus*.xml files:\n",
      "for scotus_file in os.listdir(\"./data\"):\n",
      "    if \"scotus\" in scotus_file:\n",
      "        print \"PARSING \", scotus_file \n",
      "        \n",
      "        # grab/release handles to save memory\n",
      "        with open('./data/' + scotus_file, 'r') as f:\n",
      "            \n",
      "            # parse the file and get the opinions\n",
      "            et=etree.fromstring(f.read())\n",
      "            opinion_elems = et.findall('./opinion')\n",
      "            \n",
      "            # add the attrs from the opinion to the dict\n",
      "            for opinion in opinion_elems:\n",
      "                scop = ScotusOpinion(opinion)\n",
      "                key = scop.us_cite\n",
      "                \n",
      "                # can't do anything with no citation\n",
      "                # bad data - discard for now\n",
      "                if not key or len(key) == 0:\n",
      "                    pass\n",
      "                elif key in opinions_dict.keys():\n",
      "                    opinions_dict[key].merge(scop)\n",
      "                else:\n",
      "                    opinions_dict[key] = scop"
     ],
     "language": "python",
     "metadata": {},
     "outputs": [
      {
       "output_type": "stream",
       "stream": "stdout",
       "text": [
        "PARSING  scotus1946.xml\n",
        "PARSING "
       ]
      },
      {
       "output_type": "stream",
       "stream": "stdout",
       "text": [
        " scotus1947.xml\n",
        "PARSING "
       ]
      },
      {
       "output_type": "stream",
       "stream": "stdout",
       "text": [
        " scotus1948.xml\n",
        "PARSING "
       ]
      },
      {
       "output_type": "stream",
       "stream": "stdout",
       "text": [
        " scotus1949.xml\n",
        "PARSING "
       ]
      },
      {
       "output_type": "stream",
       "stream": "stdout",
       "text": [
        " scotus1950.xml\n",
        "PARSING  scotus1951.xml\n",
        "PARSING "
       ]
      },
      {
       "output_type": "stream",
       "stream": "stdout",
       "text": [
        " scotus1952.xml\n",
        "PARSING  scotus1953.xml\n",
        "PARSING "
       ]
      },
      {
       "output_type": "stream",
       "stream": "stdout",
       "text": [
        " scotus1954.xml\n",
        "PARSING  scotus1955.xml\n",
        "PARSING "
       ]
      },
      {
       "output_type": "stream",
       "stream": "stdout",
       "text": [
        " scotus1956.xml\n",
        "PARSING  scotus1957.xml\n",
        "PARSING "
       ]
      },
      {
       "output_type": "stream",
       "stream": "stdout",
       "text": [
        " scotus1958.xml\n",
        "PARSING "
       ]
      },
      {
       "output_type": "stream",
       "stream": "stdout",
       "text": [
        " scotus1959.xml\n",
        "PARSING "
       ]
      },
      {
       "output_type": "stream",
       "stream": "stdout",
       "text": [
        " scotus1960.xml\n",
        "PARSING "
       ]
      },
      {
       "output_type": "stream",
       "stream": "stdout",
       "text": [
        " scotus1961.xml\n",
        "PARSING "
       ]
      },
      {
       "output_type": "stream",
       "stream": "stdout",
       "text": [
        " scotus1962.xml\n",
        "PARSING "
       ]
      },
      {
       "output_type": "stream",
       "stream": "stdout",
       "text": [
        " scotus1963.xml\n",
        "PARSING "
       ]
      },
      {
       "output_type": "stream",
       "stream": "stdout",
       "text": [
        " scotus1964.xml\n",
        "PARSING "
       ]
      },
      {
       "output_type": "stream",
       "stream": "stdout",
       "text": [
        " scotus1965.xml\n",
        "PARSING "
       ]
      },
      {
       "output_type": "stream",
       "stream": "stdout",
       "text": [
        " scotus1966.xml\n",
        "PARSING "
       ]
      },
      {
       "output_type": "stream",
       "stream": "stdout",
       "text": [
        " scotus1967.xml\n",
        "PARSING "
       ]
      },
      {
       "output_type": "stream",
       "stream": "stdout",
       "text": [
        " scotus1968.xml\n",
        "PARSING "
       ]
      },
      {
       "output_type": "stream",
       "stream": "stdout",
       "text": [
        " scotus1969.xml\n",
        "PARSING "
       ]
      },
      {
       "output_type": "stream",
       "stream": "stdout",
       "text": [
        " scotus1970.xml\n",
        "PARSING "
       ]
      },
      {
       "output_type": "stream",
       "stream": "stdout",
       "text": [
        " scotus1971.xml\n",
        "PARSING "
       ]
      },
      {
       "output_type": "stream",
       "stream": "stdout",
       "text": [
        " scotus1972.xml\n",
        "PARSING "
       ]
      },
      {
       "output_type": "stream",
       "stream": "stdout",
       "text": [
        " scotus1973.xml\n",
        "PARSING "
       ]
      },
      {
       "output_type": "stream",
       "stream": "stdout",
       "text": [
        " scotus1974.xml\n",
        "PARSING "
       ]
      },
      {
       "output_type": "stream",
       "stream": "stdout",
       "text": [
        " scotus1975.xml\n",
        "PARSING "
       ]
      },
      {
       "output_type": "stream",
       "stream": "stdout",
       "text": [
        " scotus1976.xml\n",
        "PARSING "
       ]
      },
      {
       "output_type": "stream",
       "stream": "stdout",
       "text": [
        " scotus1977.xml\n",
        "PARSING "
       ]
      },
      {
       "output_type": "stream",
       "stream": "stdout",
       "text": [
        " scotus1978.xml\n",
        "PARSING "
       ]
      },
      {
       "output_type": "stream",
       "stream": "stdout",
       "text": [
        " scotus1979.xml\n",
        "PARSING "
       ]
      },
      {
       "output_type": "stream",
       "stream": "stdout",
       "text": [
        " scotus1980.xml\n",
        "PARSING "
       ]
      },
      {
       "output_type": "stream",
       "stream": "stdout",
       "text": [
        " scotus1981.xml\n",
        "PARSING "
       ]
      },
      {
       "output_type": "stream",
       "stream": "stdout",
       "text": [
        " scotus1982.xml\n",
        "PARSING "
       ]
      },
      {
       "output_type": "stream",
       "stream": "stdout",
       "text": [
        " scotus1983.xml\n",
        "PARSING "
       ]
      },
      {
       "output_type": "stream",
       "stream": "stdout",
       "text": [
        " scotus1984.xml\n",
        "PARSING "
       ]
      },
      {
       "output_type": "stream",
       "stream": "stdout",
       "text": [
        " scotus1985.xml\n",
        "PARSING "
       ]
      },
      {
       "output_type": "stream",
       "stream": "stdout",
       "text": [
        " scotus1986.xml\n",
        "PARSING "
       ]
      },
      {
       "output_type": "stream",
       "stream": "stdout",
       "text": [
        " scotus1987.xml\n",
        "PARSING "
       ]
      },
      {
       "output_type": "stream",
       "stream": "stdout",
       "text": [
        " scotus1988.xml\n",
        "PARSING "
       ]
      },
      {
       "output_type": "stream",
       "stream": "stdout",
       "text": [
        " scotus1989.xml\n",
        "PARSING "
       ]
      },
      {
       "output_type": "stream",
       "stream": "stdout",
       "text": [
        " scotus1990.xml\n",
        "PARSING "
       ]
      },
      {
       "output_type": "stream",
       "stream": "stdout",
       "text": [
        " scotus1991.xml\n",
        "PARSING "
       ]
      },
      {
       "output_type": "stream",
       "stream": "stdout",
       "text": [
        " scotus1992.xml\n",
        "PARSING "
       ]
      },
      {
       "output_type": "stream",
       "stream": "stdout",
       "text": [
        " scotus1993.xml\n",
        "PARSING "
       ]
      },
      {
       "output_type": "stream",
       "stream": "stdout",
       "text": [
        " scotus1994.xml\n",
        "PARSING "
       ]
      },
      {
       "output_type": "stream",
       "stream": "stdout",
       "text": [
        " scotus1995.xml\n",
        "PARSING "
       ]
      },
      {
       "output_type": "stream",
       "stream": "stdout",
       "text": [
        " scotus1996.xml\n",
        "PARSING "
       ]
      },
      {
       "output_type": "stream",
       "stream": "stdout",
       "text": [
        " scotus1997.xml\n",
        "PARSING "
       ]
      },
      {
       "output_type": "stream",
       "stream": "stdout",
       "text": [
        " scotus1998.xml\n",
        "PARSING "
       ]
      },
      {
       "output_type": "stream",
       "stream": "stdout",
       "text": [
        " scotus1999.xml\n",
        "PARSING "
       ]
      },
      {
       "output_type": "stream",
       "stream": "stdout",
       "text": [
        " scotus2000.xml\n",
        "PARSING "
       ]
      },
      {
       "output_type": "stream",
       "stream": "stdout",
       "text": [
        " scotus2001.xml\n",
        "PARSING "
       ]
      },
      {
       "output_type": "stream",
       "stream": "stdout",
       "text": [
        " scotus2002.xml\n",
        "PARSING "
       ]
      },
      {
       "output_type": "stream",
       "stream": "stdout",
       "text": [
        " scotus2003.xml\n",
        "PARSING "
       ]
      },
      {
       "output_type": "stream",
       "stream": "stdout",
       "text": [
        " scotus2004.xml\n",
        "PARSING "
       ]
      },
      {
       "output_type": "stream",
       "stream": "stdout",
       "text": [
        " scotus2005.xml\n",
        "PARSING "
       ]
      },
      {
       "output_type": "stream",
       "stream": "stdout",
       "text": [
        " scotus2006.xml\n",
        "PARSING "
       ]
      },
      {
       "output_type": "stream",
       "stream": "stdout",
       "text": [
        " scotus2007.xml\n",
        "PARSING "
       ]
      },
      {
       "output_type": "stream",
       "stream": "stdout",
       "text": [
        " scotus2008.xml\n",
        "PARSING "
       ]
      },
      {
       "output_type": "stream",
       "stream": "stdout",
       "text": [
        " scotus2009.xml\n",
        "PARSING "
       ]
      },
      {
       "output_type": "stream",
       "stream": "stdout",
       "text": [
        " scotus2010.xml\n",
        "PARSING "
       ]
      },
      {
       "output_type": "stream",
       "stream": "stdout",
       "text": [
        " scotus2011.xml\n",
        "PARSING "
       ]
      },
      {
       "output_type": "stream",
       "stream": "stdout",
       "text": [
        " scotus2012.xml\n"
       ]
      }
     ],
     "prompt_number": 10
    },
    {
     "cell_type": "code",
     "collapsed": false,
     "input": [
      "# create a dictionary that we will use to make our dataframe\n",
      "data_frame_dictionary = {'usCite':[],\n",
      "                         'case_name':[],\n",
      "                         'cl_id':[],\n",
      "                         'cl_cited_by':[],\n",
      "                         'usCite_cited_by':[]}\n",
      "\n",
      "# holds map between courtlistener ids and US citations\n",
      "clid_to_us_cite_map = {}\n",
      "\n",
      "# for every opinion, add its data to the dictionary\n",
      "for uscite in opinions_dict:\n",
      "    scop = opinions_dict[uscite]\n",
      "    \n",
      "    data_frame_dictionary['usCite'].append(uscite)\n",
      "    data_frame_dictionary['case_name'].append(scop.case_name)\n",
      "    data_frame_dictionary['cl_id'].append(scop.cl_id)\n",
      "    data_frame_dictionary['cl_cited_by'].append(scop.cl_cited_by)\n",
      "    data_frame_dictionary['usCite_cited_by'].append('')\n",
      "    \n",
      "    for cls in scop.cl_id:\n",
      "        clid_to_us_cite_map[cls] = uscite\n",
      "        \n",
      "# create the dataframe of the opinions\n",
      "citation_df = pd.DataFrame.from_dict(data_frame_dictionary)"
     ],
     "language": "python",
     "metadata": {},
     "outputs": [],
     "prompt_number": 11
    },
    {
     "cell_type": "markdown",
     "metadata": {},
     "source": [
      "The final step in pulling in the CourtListener data is to add the citations in a format that we recognize rather than the CourtListener ID. We use `clid_to_us_cite_map` to take the CourtListener IDs and convert them."
     ]
    },
    {
     "cell_type": "code",
     "collapsed": false,
     "input": [
      "# fill in usCite_cited_by with usCite \n",
      "def cl_to_uscite(row):\n",
      "    us_cites = set()\n",
      "    for cl_id in row['cl_cited_by']:\n",
      "        cite_val = clid_to_us_cite_map.get(cl_id, None)\n",
      "        if cite_val is not None:\n",
      "            us_cites.update([cite_val])\n",
      "    return us_cites\n",
      "\n",
      "us_cite_rows  = citation_df.apply(cl_to_uscite, axis=1)\n",
      "citation_df['usCite_cited_by'] =  us_cite_rows\n",
      "citation_df.head(5)"
     ],
     "language": "python",
     "metadata": {},
     "outputs": [
      {
       "output_type": "stream",
       "stream": "stderr",
       "text": [
        "/Users/bull/anaconda/lib/python2.7/site-packages/pandas/core/config.py:570: DeprecationWarning: height has been deprecated.\n",
        "\n",
        "  warnings.warn(d.msg, DeprecationWarning)\n",
        "/Users/bull/anaconda/lib/python2.7/site-packages/pandas/core/config.py:570: DeprecationWarning: height has been deprecated.\n",
        "\n",
        "  warnings.warn(d.msg, DeprecationWarning)\n"
       ]
      },
      {
       "html": [
        "<div style=\"max-height:1000px;max-width:1500px;overflow:auto;\">\n",
        "<table border=\"1\" class=\"dataframe\">\n",
        "  <thead>\n",
        "    <tr style=\"text-align: right;\">\n",
        "      <th></th>\n",
        "      <th>case_name</th>\n",
        "      <th>cl_cited_by</th>\n",
        "      <th>cl_id</th>\n",
        "      <th>usCite</th>\n",
        "      <th>usCite_cited_by</th>\n",
        "    </tr>\n",
        "  </thead>\n",
        "  <tbody>\n",
        "    <tr>\n",
        "      <th>0</th>\n",
        "      <td>                                     Doe v. Miller</td>\n",
        "      <td>                               set([])</td>\n",
        "      <td>                                    set([1992699])</td>\n",
        "      <td> 126 S. Ct. 757</td>\n",
        "      <td>                                           set([])</td>\n",
        "    </tr>\n",
        "    <tr>\n",
        "      <th>1</th>\n",
        "      <td> Betty Evans, Individually and as Next Friend A...</td>\n",
        "      <td> set([110151, 112418, 110051, 446964])</td>\n",
        "      <td>                                     set([110050])</td>\n",
        "      <td>   440 U.S. 987</td>\n",
        "      <td> set([495 U.S. 149, 440 U.S. 1301, 443 U.S. 1306])</td>\n",
        "    </tr>\n",
        "    <tr>\n",
        "      <th>2</th>\n",
        "      <td>                         Estrada v. Garcia, Warden</td>\n",
        "      <td>                               set([])</td>\n",
        "      <td> set([123584, 123583, 123582, 123581, 123580, 1...</td>\n",
        "      <td>   537 U.S. 904</td>\n",
        "      <td>                                           set([])</td>\n",
        "    </tr>\n",
        "    <tr>\n",
        "      <th>3</th>\n",
        "      <td>                  Carlos Marcello v. United States</td>\n",
        "      <td>                               set([])</td>\n",
        "      <td>                                     set([108259])</td>\n",
        "      <td>  400 U.S. 1208</td>\n",
        "      <td>                                           set([])</td>\n",
        "    </tr>\n",
        "    <tr>\n",
        "      <th>4</th>\n",
        "      <td>                               Crowley v. McKinney</td>\n",
        "      <td>                               set([])</td>\n",
        "      <td>                                    set([1991630])</td>\n",
        "      <td> 126 S. Ct. 750</td>\n",
        "      <td>                                           set([])</td>\n",
        "    </tr>\n",
        "  </tbody>\n",
        "</table>\n",
        "</div>"
       ],
       "metadata": {},
       "output_type": "pyout",
       "prompt_number": 14,
       "text": [
        "                                           case_name                            cl_cited_by                                              cl_id          usCite                                    usCite_cited_by\n",
        "0                                      Doe v. Miller                                set([])                                     set([1992699])  126 S. Ct. 757                                            set([])\n",
        "1  Betty Evans, Individually and as Next Friend A...  set([110151, 112418, 110051, 446964])                                      set([110050])    440 U.S. 987  set([495 U.S. 149, 440 U.S. 1301, 443 U.S. 1306])\n",
        "2                          Estrada v. Garcia, Warden                                set([])  set([123584, 123583, 123582, 123581, 123580, 1...    537 U.S. 904                                            set([])\n",
        "3                   Carlos Marcello v. United States                                set([])                                      set([108259])   400 U.S. 1208                                            set([])\n",
        "4                                Crowley v. McKinney                                set([])                                     set([1991630])  126 S. Ct. 750                                            set([])"
       ]
      }
     ],
     "prompt_number": 14
    },
    {
     "cell_type": "markdown",
     "metadata": {},
     "source": [
      "We'll save this citation representation to a csv file that we can load when we want to analyze this graph structure in Section IV of this notebook."
     ]
    },
    {
     "cell_type": "markdown",
     "metadata": {},
     "source": [
      "##Source 4: Supreme Court Briefs made available by the American Bar Association\n",
      "\n",
      "As part of their arguments to the Supreme Court, both the petitioner and the respondent submit written briefs to the court. We wonder if the citations in these briefs have any predictive power. Once the court has made a decision, they write an opinion. The court's opinion has citations to relevant previous cases. We can create a directed graph structure to represent the citations in the Supreme Court opinions, and using this structure can calculate metrics for the relevancy of certain cases (e.g., centrality, page rank). Does these measures of centrality in the citation represent the \"precedential value\" of a particular citation? And, if a petitioner or a respondent has citations in their briefs to more \"precedential\" cases, does this mean that a decision will be made in their favor?"
     ]
    },
    {
     "cell_type": "markdown",
     "metadata": {},
     "source": [
      "There are no compiled datasets of Supreme Court Briefs. The American Bar Association makes briefs from 2003 - 2013 available in PDF format. Below we download pdfs from 2003-2009 since these are the ones we can match with the Spaeth dataset.\n",
      "\n",
      "###WARNING: THIS CELL TAKES A VERY LONG TIME TO EXECUTE\n",
      "To run the cell, update the parameter to the call so it is are_you_sure=True."
     ]
    },
    {
     "cell_type": "code",
     "collapsed": false,
     "input": [
      "\"\"\"\n",
      "get_brief_pdfs(are_you_sure=False)\n",
      "\n",
      "Downloads all of the Supreme Court merit briefs available from the American\n",
      "Bar Association and saves them in a ./pdfs/YY-YY/ folder\n",
      "\n",
      "WARNING: This takes a very long time to execute\n",
      "\"\"\"\n",
      "def get_brief_pdfs(are_you_sure=False):\n",
      "    if not are_you_sure:\n",
      "        print \"You weren't sure, so we didn't download 1.5GB of pdfs. Smart move.\"\n",
      "        return\n",
      "    \n",
      "    # months there are supreme court sessions\n",
      "    first_year_mos = ['oct','nov','dec']\n",
      "    second_year_mos = ['jan','feb','march','april']\n",
      "    \n",
      "    # urls where brief pdfs live are of this form\n",
      "    brief_pdf = re.compile('/content[ _0-9A-Za-z/ ]+briefs[ /A-Za-z0-9\\-_]+.pdf')\n",
      "    \n",
      "    # for all the years the ABA makes available\n",
      "    for i in range(3, 9):\n",
      "        j = i+1\n",
      "        \n",
      "        # makes list of oct03...april04, etc.\n",
      "        first_half = zip(first_year_mos, len(first_year_mos)*[i])\n",
      "        second_half = zip(second_year_mos, len(second_year_mos)*[j])\n",
      "        for mo, yr in first_half + second_half:\n",
      "            \n",
      "            # get the page for this month/year combo\n",
      "            url = \"http://www.americanbar.org/content/aba/publications/preview_home/publiced_preview_briefs_{}{:02d}.html\".format(mo,yr)\n",
      "            resp = requests.get(url)\n",
      "            \n",
      "            # get the pdfs for this mo/yr combo\n",
      "            matches = re.findall(brief_pdf, resp.content)\n",
      "            \n",
      "            # if a page has no results, keep that response to test the regex\n",
      "            if len(matches) == 0:\n",
      "                stored = resp.content\n",
      "                \n",
      "            # get all the pdf links\n",
      "            for m in matches:\n",
      "                filename = m.split('/')[-1]\n",
      "                root = \"http://www.americanbar.org\"\n",
      "                local_folder = \"pdfs/{:02d}-{:02d}/\".format(i,j)\n",
      "                \n",
      "                # make a folder for this session, if we don't have one\n",
      "                if not os.path.exists(local_folder):\n",
      "                    os.makedirs(local_folder)\n",
      "                    \n",
      "                # get the pdf if we haven't dled it before\n",
      "                if not os.path.exists(local_folder + filename):\n",
      "                    # skip amicus briefs\n",
      "                    if not \"amcu\" in filename and not \"AmCu\" in filename:\n",
      "                        urllib.urlretrieve(root+m, local_folder + filename)\n",
      "\n",
      "# download all the pdfs for supreme court briefs\n",
      "get_brief_pdfs(are_you_sure=False)"
     ],
     "language": "python",
     "metadata": {},
     "outputs": [
      {
       "output_type": "stream",
       "stream": "stdout",
       "text": [
        "You weren't sure, so we didn't download 1.5GB of pdfs. Smart move.\n"
       ]
      }
     ],
     "prompt_number": 16
    },
    {
     "cell_type": "markdown",
     "metadata": {},
     "source": [
      "Now that we have the PDFs for the briefs, we need to parse their text for citations. We use the `pattern.web.PDF` module (which is built on `pdfminer`) to open the files and parse them for text. We then use a regex to match Supreme Court citations in the text. Finally, we match the docket number of the case (which for the most part exists in a messy form in the filename of the PDF) to a docket number in the Spaeth dataset so that we can know which briefs go with which opinions."
     ]
    },
    {
     "cell_type": "code",
     "collapsed": false,
     "input": [
      "\"\"\"\n",
      "Use the Spaeth datset to map the pdf filenames\n",
      "to case citations.\n",
      "\n",
      "Note: We discard Amicus Curiae briefs, since we expect\n",
      "that the influential cases will be cited in the merit briefs.\n",
      "\"\"\"\n",
      "def get_docket_from_filename(spaeth, filename, folder=None):\n",
      "    # Remove Amicus Curiae briefs and appendices\n",
      "    if \"AmCu\" in filename or \"amcu\" in filename or \"Appendix\" in filename:\n",
      "        return None\n",
      "    \n",
      "    # simple case is docket_id then Pet or Resp, e.g. 03_243Pet.pdf\n",
      "    docket_id_regex = re.compile(\"[0-9]+_[0-9]+(?=[_]?[PR])\", re.I)\n",
      "    match = re.findall(docket_id_regex, filename)\n",
      "    if len(match) == 1:\n",
      "        return get_citation_from_spaeth(spaeth, match[0])\n",
      "    else:\n",
      "        # check for Pet or Resp later in the match, e.g., 03_243FinalRespondent.pdf\n",
      "        docket_id_regex2 = re.compile(\"[0-9]+_[0-9]+(?=[A-Z_]+[Resp|Pet])\", re.I)\n",
      "        match = re.findall(docket_id_regex2, filename)\n",
      "        if len(match) == 1:\n",
      "            return get_citation_from_spaeth(spaeth, match[0])\n",
      "        \n",
      "        # Check if we have the docket id, but not the year\n",
      "        docket_id_regex2 = re.compile(\"[0-9]+(?=[A-Z_]+[Resp|Pet])\", re.I)\n",
      "        match = re.findall(docket_id_regex2, filename)\n",
      "        if len(match) == 1:\n",
      "            return get_citation_from_spaeth(spaeth, match[0])\n",
      "        else:\n",
      "            print \"Discarded: \" + filename\n",
      "            \n",
      "\n",
      "\"\"\"\n",
      "get_citation_from_spaeth(spaeth, docket_match)\n",
      "\n",
      "Takes a docket match of the form '02_321' and looks for that\n",
      "in the spaeth dataset.\n",
      "\n",
      "Returns the US Cite for that case.\n",
      "\"\"\"\n",
      "def get_citation_from_spaeth(spaeth, docket_match):\n",
      "    docket_match = docket_match.replace('_','-')\n",
      "    \n",
      "\n",
      "    if \"-\" not in docket_match:\n",
      "        # maybe we got 02123 instead of 02-123\n",
      "        if docket_match[0] == '0':\n",
      "            docket_match = docket_match[:2] + '-' + docket_match[2:]\n",
      "        \n",
      "        # we got a docket without a year, try to match the id on the year\n",
      "        else:\n",
      "            for i in range(1, 10):\n",
      "                yr = '{:02d}-'.format(i)\n",
      "                test = spaeth[spaeth['docket']==yr + docket_match]\n",
      "                if len(test.index) == 1:\n",
      "                    docket_match = yr+docket_match\n",
      "                    break\n",
      "\n",
      "    spaeth_match = spaeth[spaeth['docket']==docket_match]    \n",
      "    \n",
      "    if len(spaeth_match['usCite']) == 0:\n",
      "        print \"No Matches: \", docket_match\n",
      "        return None\n",
      "    \n",
      "    return spaeth_match['usCite'].values[0]"
     ],
     "language": "python",
     "metadata": {},
     "outputs": []
    },
    {
     "cell_type": "markdown",
     "metadata": {},
     "source": [
      "Now we're ready to parse all the pdf files!\n",
      "\n",
      "###Warning: This cell takes a very long time to execute. Only run it if you mean it!"
     ]
    },
    {
     "cell_type": "code",
     "collapsed": false,
     "input": [
      "# use the case centered data here rather than the justice centered\n",
      "# data we use elsewhere since this has the map for docket IDs that we need.\n",
      "data_dir = \"data\"\n",
      "\n",
      "if not os.path.exists(data_dir):\n",
      "    os.makedirs(data_dir)\n",
      "\n",
      "# download the spaeth dataset\n",
      "urllib.urlretrieve(\"http://scdb.wustl.edu/_brickFiles/2013_01/SCDB_2013_01_justiceCentered_Citation.csv.zip\", \n",
      "                   data_dir + \"/SCDB_2013_01_caseCentered_Docket.csv.zip\")\n",
      "\n",
      "# unzip it (unix only)\n",
      "!unzip data_test/SCDB_2013_01_justiceCentered_Citation.csv.zip -d $data_dir\n",
      "\n",
      "# load it into a data frame\n",
      "spaeth_df = pd.read_csv(data_dir + '/SCDB_2013_01_caseCentered_Docket.csv')\n",
      "\n",
      "# regex for finding citations in the text\n",
      "cite_reg = re.compile('[0-9]+ U.S. [0-9]+')\n",
      "\n",
      "# regex to test if filename has \"Resp\" for  \"respondent\" in it\n",
      "resp_re = re.compile('Resp', re.I)\n",
      "\n",
      "# For all of the years that we have, parse the pdfs looking for\n",
      "# citations and add them into a dataframe\n",
      "for i in range(3, 9):\n",
      "    \n",
      "    # store this cases citation, which side it is on, \n",
      "    # and the cases that it cites\n",
      "    us_cites = []\n",
      "    pet_resps = []\n",
      "    citations = []\n",
      "    j = i+1\n",
      "    \n",
      "    local_folder = \"pdfs/{:02d}-{:02d}/\".format(i,j)\n",
      "    print \"========== \", local_folder, \" ===========\"\n",
      "    \n",
      "    for brief_pdf in os.listdir(local_folder):\n",
      "        cite = get_docket_from_filename(spaeth_df, brief_pdf, folder=local_folder)\n",
      "        if cite is not None:            \n",
      "            # pull citations from the text\n",
      "            try:\n",
      "                brief_text = PDF(local_folder + brief_pdf)\n",
      "                citations.append(re.findall(cite_reg, brief_text.string))\n",
      "                us_cites.append(cite)\n",
      "                \n",
      "                # 0 if respondent, 1 if petitioner\n",
      "                pet_resp = 0 if len(re.findall(resp_re, brief_pdf)) > 0 else 1\n",
      "                pet_resps.append(pet_resp)\n",
      "            except:\n",
      "                pass\n",
      "            \n",
      "        # save memory by unloading the PDF\n",
      "        del(brief_pdf)\n",
      "    \n",
      "    # write each year out to memory as we go in order to save resources\n",
      "    new_df = pd.DataFrame(dict({'us_cite':us_cites,'pet_resp':pet_resps,'citations':citations}))\n",
      "    new_df.to_csv('cite_graph_{:02d}_{:02d}.csv'.format(i,j))\n",
      "    \n",
      "    # save memory by unloading data for each year\n",
      "    del(us_cites)\n",
      "    del(pet_resps)\n",
      "    del(citations)\n",
      "    del(new_df)"
     ],
     "language": "python",
     "metadata": {},
     "outputs": []
    },
    {
     "cell_type": "markdown",
     "metadata": {},
     "source": [
      "#Section II - Description of the Datasets"
     ]
    },
    {
     "cell_type": "markdown",
     "metadata": {},
     "source": [
      "## Explanation of the most relevant variables\n",
      "\n",
      "Here we define the features and terms that we will be using in the following parts:\n",
      "\n",
      "* **Justice**: A justice is one of the 9 judges of the Supreme Court. We can find it in the column 'justiceName'. \n",
      "* **Chief Justice**: One of those 9 justices is the chief justice of the Supreme Court and can be found in the column 'chief'\n",
      "* **Citations**:\n",
      "* **Issue Area**: This variable simply separates the issues into larger categories, Criminal Procedure, Civil Rights, First Amendment, Due Process, Privacy, Attorneys, Unions, Economic Activity, Judicial Power, Federalism, Interstate Relations, Federal Taxation, Miscellaneous, Private Action\n",
      "* **Party**: Whether Democratic or Republican\n",
      "* **Direction**: This variable indicates whether the justice cast a liberal or conservative vote."
     ]
    },
    {
     "cell_type": "markdown",
     "metadata": {},
     "source": [
      "##Descriptive Graphs\n",
      "\n",
      "The following graphs describe some interesting properties of the data. We first draw the disribution of cases over time.We also highlight with differnt colors the tenures of each of the 5 chief justices since 1946."
     ]
    },
    {
     "cell_type": "markdown",
     "metadata": {},
     "source": [
      "### Chloropleth of Case Origins"
     ]
    },
    {
     "cell_type": "markdown",
     "metadata": {},
     "source": [
      "Using the Supreme Court Database website and the pattern webscrapping module, data is collected to create a color map of the location for the origin of Supreme Court cases. This map is created by summing the number of times a case appears in a state and then normalizing the values by dividing through by the total number of cases in the database. In other words, this color map indicates how the probability of a case coming from a particular state. The degree of opacity directly corresponds to the probability, i.e. the darker the color, the more likely the stae is to be the origin. Additionally, in order to view the data as actual states rather than just numerical entries in a dataframe, a dictionary is created that converts the entrys in the database's state origin column from numbers to actual names."
     ]
    },
    {
     "cell_type": "markdown",
     "metadata": {},
     "source": [
      "The following code is reused from homework two to generate the map:"
     ]
    },
    {
     "cell_type": "code",
     "collapsed": false,
     "input": [
      "#load in state geometry\n",
      "states_abbrev = {\n",
      "        'AK': 'Alaska',\n",
      "        'AL': 'Alabama',\n",
      "        'AR': 'Arkansas',\n",
      "        'AS': 'American Samoa',\n",
      "        'AZ': 'Arizona',\n",
      "        'CA': 'California',\n",
      "        'CO': 'Colorado',\n",
      "        'CT': 'Connecticut',\n",
      "        'DC': 'District of Columbia',\n",
      "        'DE': 'Delaware',\n",
      "        'FL': 'Florida',\n",
      "        'GA': 'Georgia',\n",
      "        'GU': 'Guam',\n",
      "        'HI': 'Hawaii',\n",
      "        'IA': 'Iowa',\n",
      "        'ID': 'Idaho',\n",
      "        'IL': 'Illinois',\n",
      "        'IN': 'Indiana',\n",
      "        'KS': 'Kansas',\n",
      "        'KY': 'Kentucky',\n",
      "        'LA': 'Louisiana',\n",
      "        'MA': 'Massachusetts',\n",
      "        'MD': 'Maryland',\n",
      "        'ME': 'Maine',\n",
      "        'MI': 'Michigan',\n",
      "        'MN': 'Minnesota',\n",
      "        'MO': 'Missouri',\n",
      "        'MP': 'Northern Mariana Islands',\n",
      "        'MS': 'Mississippi',\n",
      "        'MT': 'Montana',\n",
      "        'NA': 'National',\n",
      "        'NC': 'North Carolina',\n",
      "        'ND': 'North Dakota',\n",
      "        'NE': 'Nebraska',\n",
      "        'NH': 'New Hampshire',\n",
      "        'NJ': 'New Jersey',\n",
      "        'NM': 'New Mexico',\n",
      "        'NV': 'Nevada',\n",
      "        'NY': 'New York',\n",
      "        'OH': 'Ohio',\n",
      "        'OK': 'Oklahoma',\n",
      "        'OR': 'Oregon',\n",
      "        'PA': 'Pennsylvania',\n",
      "        'PR': 'Puerto Rico',\n",
      "        'RI': 'Rhode Island',\n",
      "        'SC': 'South Carolina',\n",
      "        'SD': 'South Dakota',\n",
      "        'TN': 'Tennessee',\n",
      "        'TX': 'Texas',\n",
      "        'UT': 'Utah',\n",
      "        'VA': 'Virginia',\n",
      "        'VI': 'Virgin Islands',\n",
      "        'VT': 'Vermont',\n",
      "        'WA': 'Washington',\n",
      "        'WI': 'Wisconsin',\n",
      "        'WV': 'West Virginia',\n",
      "        'WY': 'Wyoming'\n",
      "}\n",
      "state2poly = defaultdict(list)\n",
      "\n",
      "data = json.load(file(\"data/us-states.json\"))\n",
      "for f in data['features']:\n",
      "    state = states_abbrev[f['id']]\n",
      "    geo = f['geometry']\n",
      "    if geo['type'] == 'Polygon':\n",
      "        for coords in geo['coordinates']:\n",
      "            state2poly[state].append(coords)\n",
      "    elif geo['type'] == 'MultiPolygon':\n",
      "        for polygon in geo['coordinates']:\n",
      "            state2poly[state].extend(polygon)\n",
      "\n",
      "            \n",
      "def draw_state(plot, stateid, **kwargs):\n",
      "    \"\"\"\n",
      "    draw_state(plot, stateid, color=..., **kwargs)\n",
      "    \n",
      "    Automatically draws a filled shape representing the state in\n",
      "    subplot.\n",
      "    The color keyword argument specifies the fill color.  It accepts keyword\n",
      "    arguments that plot() accepts\n",
      "    \"\"\"\n",
      "    for polygon in state2poly[stateid]:\n",
      "        xs, ys = zip(*polygon)\n",
      "        plot.fill(xs, ys, **kwargs)\n",
      "\n",
      "        \n",
      "def make_map(states, label):\n",
      "    \"\"\"\n",
      "    Draw a cloropleth map, that maps data onto the United States\n",
      "    \n",
      "    Inputs\n",
      "    -------\n",
      "    states : Column of a DataFrame\n",
      "        The value for each state, to display on a map\n",
      "    label : str\n",
      "        Label of the color bar\n",
      "\n",
      "    Returns\n",
      "    --------\n",
      "    The map\n",
      "    \"\"\"\n",
      "    fig = plt.figure(figsize=(12, 9))\n",
      "    ax = plt.gca()\n",
      "\n",
      "\n",
      "    cmap = cm.Blues\n",
      "    vmin, vmax = 0, 1\n",
      "    norm = mpl.colors.Normalize(vmin=vmin, vmax=vmax)\n",
      "    \n",
      "    skip = set(['National', 'District of Columbia', 'Guam', 'Puerto Rico',\n",
      "                'Virgin Islands', 'American Samoa', 'Northern Mariana Islands'])\n",
      "    for ID in number_to_caseOriginState.keys():\n",
      "        state = number_to_caseOriginState[ID]\n",
      "        if state in skip:\n",
      "            continue\n",
      "        color = cmap(norm(states[ID]))\n",
      "        draw_state(ax, state, color = color, ec='k')\n",
      "\n",
      "    #add an inset colorbar\n",
      "    ax1 = fig.add_axes([0.45, 0.70, 0.4, 0.02])    \n",
      "    cb1=mpl.colorbar.ColorbarBase(ax1, cmap=cmap,\n",
      "                                  norm=norm,\n",
      "                                  orientation='horizontal')\n",
      "    ax1.set_title(label)\n",
      "    remove_border(ax, left=False, bottom=False)\n",
      "    ax.set_xticks([])\n",
      "    ax.set_yticks([])\n",
      "    ax.set_xlim(-180, -60)\n",
      "    ax.set_ylim(15, 75)\n",
      "    return ax"
     ],
     "language": "python",
     "metadata": {},
     "outputs": []
    },
    {
     "cell_type": "markdown",
     "metadata": {},
     "source": [
      "The following code generates counts of case per state. Grouping the dataframe by unique caseId, the origin feature is selected and added to dictionary to sum the total number of cases per state"
     ]
    },
    {
     "cell_type": "code",
     "collapsed": false,
     "input": [
      "# groups the dataframe by case Id\n",
      "df_caseId = df.groupby('caseId')\n",
      "#dictionary that will hold all case Origin ID's:\n",
      "caseOriginState = []\n",
      "#loop through each case in the dataframe:\n",
      "for ID, subframe in df_caseId:\n",
      "    if not np.isnan(subframe['caseOriginState'].unique()): #check to make sure state origin is listed\n",
      "        caseOriginState.append((ID, subframe['caseOriginState'].unique())) #append data to dictionary\n",
      "\n",
      "total_number =  len(caseOriginState) #total number of cases with state origin data. Used to normalize values\n",
      "\n",
      "#generate the dictionary that will collect all the data current in list format\n",
      "cOrigS_counts = {}\n",
      "keys = number_to_caseOriginState.keys()\n",
      "for i in range(len(number_to_caseOriginState.keys())):\n",
      "    index = str(keys[i])\n",
      "    cOrigS_counts[index] = 0\n",
      "\n",
      "    \n",
      "    \n",
      "for item in caseOriginState:\n",
      "    index = str(int(item[1][0]))\n",
      "    #check for corrupted data entries and filter as needed\n",
      "    try:\n",
      "        cOrigS_counts[index] += 1\n",
      "    except KeyError: #some origins have keys that are not in dictionary, respresenting a faulty entry to DF\n",
      "        pass\n",
      "# divide through the totals by total number of cases, to convert to precentages\n",
      "for key in cOrigS_counts.keys():\n",
      "    cOrigS_counts[key] = cOrigS_counts[key]/float(total_number)\n",
      "#normalize the precentages:\n",
      "norm = max(cOrigS_counts.values())\n",
      "for key in cOrigS_counts.keys():\n",
      "    cOrigS_counts[key] = cOrigS_counts[key]/norm"
     ],
     "language": "python",
     "metadata": {},
     "outputs": []
    },
    {
     "cell_type": "code",
     "collapsed": false,
     "input": [
      "#unhash the following line to view the normalized precentages\n",
      "#print cOrigS_counts\n",
      "make_map(cOrigS_counts, 'Normalized Precentages for Locations of Case Origins')"
     ],
     "language": "python",
     "metadata": {},
     "outputs": []
    },
    {
     "cell_type": "markdown",
     "metadata": {},
     "source": [
      "The map of above shows that the most likely origin of a Supreme Court case is New York and California. This is prehaps due to the increased population density of the states. Otherwise, the distribution of case orgin is rather uniform. Additionally, though this information was not obtainable from the database, it would be interesting to futher refine this data and to see if certain lower court Judges were more likley to have their cases taken up by the Supreme Court. Although specific judges can not be visualize, next lower courts that lead to the Supreme Court will be examined."
     ]
    },
    {
     "cell_type": "markdown",
     "metadata": {},
     "source": [
      "###Source of Cases to Supreme Court"
     ]
    },
    {
     "cell_type": "markdown",
     "metadata": {},
     "source": [
      "Another interesting visualization of the Supreeme Court Database is look at what are the sources of the cases. A source is the court the case was in just prior to be taken up by the Supreme Court. In other words, the source is the last judicial body to make a ruling on the case before the supreme court gives a final verdict. As with the origin data, we must first scrape the information from the website. To aid in visualizing the data, only the top reviewing courts will be displayed. Thus, the data base must be filtered for those lower courts which have at least 100 cases that reach the Supreme Court. This data is finally presented in a bar graph."
     ]
    },
    {
     "cell_type": "markdown",
     "metadata": {},
     "source": [
      "The following cell parses the dataframe for the sources of the Supremem Court data. First the database is grouped by unique cases and the source data is append to a list and then finally to a dicationary:"
     ]
    },
    {
     "cell_type": "code",
     "collapsed": false,
     "input": [
      "df_caseId = df.groupby('caseId')\n",
      "caseSource = []\n",
      "for ID, subframe in df_caseId:\n",
      "    #first filter of NaN values\n",
      "    if not np.isnan(subframe['caseSource'].unique()):\n",
      "        #add unique source data to list\n",
      "        caseSource.append((ID, subframe['caseSource'].unique()))\n",
      "        \n",
      "#create dictionary to hold on the source counts:\n",
      "cSource_counts = {}\n",
      "keys = number_to_caseSource.keys()\n",
      "for index in range(len(number_to_caseSource.keys())):\n",
      "    count = str(keys[index])\n",
      "    cSource_counts[count] = 0 #initialize counts to be zero\n",
      "\n",
      "for item in caseSource:\n",
      "    #filter off faulty data points\n",
      "    index = str(int(item[1][0]))\n",
      "    try:\n",
      "        cSource_counts[index] += 1\n",
      "    except KeyError: #pass if the data entry does not exist in the dictionary of possible sources\n",
      "        pass\n",
      "\n",
      "names = []\n",
      "counts = []\n",
      "names_counts = {}\n",
      "\n",
      "for cSource_num in number_to_caseSource.keys():\n",
      "    names.append(number_to_caseSource[cSource_num])\n",
      "    counts.append(cSource_counts[cSource_num])\n",
      "    names_counts[number_to_caseSource[cSource_num]] = cSource_counts[cSource_num]\n",
      "\n",
      "#create a data frame of the counts and then filter the data frame for top sources:                \n",
      "filter_size = 100 #used to select only top sources\n",
      "source = pd.DataFrame({'Source_Counts':names_counts.values(), 'Source_Names':names_counts.keys()})\n",
      "filtered_source = source[(source.Source_Counts>filter_size)]\n",
      "#generate plotting data:\n",
      "names = filtered_source.Source_Names.values\n",
      "counts = filtered_source.Source_Counts.values\n",
      "#plot the data\n",
      "y_pos = np.arange(len(names))\n",
      "fig = plt.figure()\n",
      "plt.barh(y_pos, counts, align='center', alpha = 0.5)\n",
      "plt.yticks(y_pos,names)\n",
      "fig.set_size_inches(5, .2*len(names))\n",
      "plt.ylim([-1, len(names)])\n",
      "plt.xlabel('Absolute Case Count')\n",
      "plt.title('Sources of the Superium Court Cases')\n",
      "remove_border()\n",
      "plt.show()"
     ],
     "language": "python",
     "metadata": {},
     "outputs": []
    },
    {
     "cell_type": "markdown",
     "metadata": {},
     "source": [
      "From the proceeding graph, one can see the most likely source for a Supreme Court case is from a state Supreme Court. Unfortuantely, that data is rather granular but it does make intuitive sense as a case that is important enough to make it a state SC would likley be significant enough to warrant a review by the Supreme Court. Additionally, one also notes that remaining courst are all appeals courts. Again, this is not surprising as Federel Appeals courts are the penultimate court in the US judicial system. This also reinforces the notion of a chain of command within the judicial system of original jurisdiction to appeals court to SC. Finally, the most likely appeal court in the Ninth Circuit which covers the western state including California, which correlates well to the previous state origins map."
     ]
    },
    {
     "cell_type": "markdown",
     "metadata": {},
     "source": [
      "###Petitioners to the Supreme Court"
     ]
    },
    {
     "cell_type": "markdown",
     "metadata": {},
     "source": [
      "Now that we have examined the physical locations of where the cases reviewed by the Supreme Court come from, we will turn our attention to examining who is bringing the cases forwarded. In legal terms, a petitioner is the person or group of people bring forth a legal challenge and the respondant is the person or entity that the legitation is brought forth against. The Supreme Court Database is, again, scraped to get the counts for each partiioner type. Again, a dictionary must also be created via webscrapping to convert the numberical entries to actual names. Additionally, because some of the names are verbose, abbrievations are used for conciseness. Finally, the data filtered to only show the most likely petitioners, which counts greater than 100."
     ]
    },
    {
     "cell_type": "markdown",
     "metadata": {},
     "source": [
      "Parse the database for petitioners and counts of individual petitioner types:"
     ]
    },
    {
     "cell_type": "code",
     "collapsed": false,
     "input": [
      "#group by individual, unique cases\n",
      "df_caseId = df.groupby('caseId')\n",
      "case_by_pet = []\n",
      "#for each case, append the unique petitioner to a list:\n",
      "for ID, subframe in df_caseId:\n",
      "    if not np.isnan(subframe['petitioner'].unique()):\n",
      "        case_by_pet.append((ID, subframe['petitioner'].unique()))\n"
     ],
     "language": "python",
     "metadata": {},
     "outputs": []
    },
    {
     "cell_type": "markdown",
     "metadata": {},
     "source": [
      "In order to pair the Id data to actual names via the dictionary, the data stored in the list case_by_pet must be converted a dictionary."
     ]
    },
    {
     "cell_type": "code",
     "collapsed": false,
     "input": [
      "#convert the data stored in list to dictionary \n",
      "pet_counts = {}\n",
      "keys = number_to_pet.keys()\n",
      "for index in range(len(number_to_pet.keys())):\n",
      "    count = str(keys[index])\n",
      "    pet_counts[count] = 0 #initialize counts to zero\n",
      "#iteratively add counts to dictionary keys\n",
      "for item in case_by_pet:\n",
      "    num = str(int(item[1][0]))\n",
      "    pet_counts[num] += 1\n",
      "\n",
      "    \n",
      "#create dictionary of names:counts by using dictionary of number:name, the new dictionary will be used \n",
      "# printing purposes.\n",
      "names = []\n",
      "counts = []\n",
      "names_counts = {}\n",
      "for pet_num in number_to_pet.keys():\n",
      "    names.append(number_to_pet[pet_num])\n",
      "    counts.append(pet_counts[pet_num])\n",
      "    names_counts[number_to_pet[pet_num]] = pet_counts[pet_num]\n",
      "#filter for only those petitioners who have atleast 100 cases by creating new dataframe from the\n",
      "#name:count dictionary\n",
      "filter_size = 100\n",
      "pets = pd.DataFrame({'Pet_Counts':names_counts.values(), 'Pet_Names':names_counts.keys()})\n",
      "filtered_pets = pets[(pets.Pet_Counts>filter_size)]\n",
      "names = filtered_pets.Pet_Names.values\n",
      "counts = filtered_pets.Pet_Counts.values\n",
      "#create abbreviations:\n",
      "\n",
      "names[0] = 'Taxpayer, federal'\n",
      "names[1] = 'Person accused of crime'\n",
      "names[2] = 'Government Employee'\n",
      "names[3] = 'State Court'\n",
      "names[4] = 'Federal Court'\n",
      "names[5] = 'National Labor Relations Board'\n",
      "names[6] = 'Employer'\n",
      "names[7] = 'Governmental official'\n",
      "names[8] = 'Land Owner'\n",
      "names[9] = 'Person convicted of crime'\n",
      "names[10] = 'Union'\n",
      "names[11] = 'Employee'\n",
      "names[12] = 'Illegal Alien'\n",
      "names[13] = 'City/Village/Town'\n",
      "\n",
      "y_pos = np.arange(len(names))\n",
      "fig = plt.figure()\n",
      "plt.barh(y_pos, counts, align='center', alpha = 0.5)\n",
      "plt.yticks(y_pos,names)\n",
      "fig.set_size_inches(5, .2*len(names))\n",
      "plt.ylim([-1, len(names)])\n",
      "plt.xlabel('Absolute Case Count')\n",
      "plt.title('Top Petitioners to the Supreme Court Cases')\n",
      "remove_border()\n",
      "plt.show()"
     ],
     "language": "python",
     "metadata": {},
     "outputs": []
    },
    {
     "cell_type": "markdown",
     "metadata": {},
     "source": [
      "From the previous graph, you can see that the most likley petitioners to the Supreme Court are Federal and State Courts followed by people convicted/accussed of a crime. This makes sense as one would assume that state/federal courts would be given more consideration by the SC than an individual petitioner. Additionally, people who are convicted of crimes are likely to continue the appeals process as their freedom is at stake."
     ]
    },
    {
     "cell_type": "markdown",
     "metadata": {},
     "source": [
      "Due to the size of the database, many other visualizations are of the basic demographics of case in the SC are possible. However, these additionally feature visualization add little to the overall understand of how the SC operates and are relatively uniform in their appears. Thus, we not examine the background of the cases in any greater depth."
     ]
    },
    {
     "cell_type": "markdown",
     "metadata": {},
     "source": [
      "### The Chief Justices of the Court"
     ]
    },
    {
     "cell_type": "code",
     "collapsed": false,
     "input": [
      "data =  pd.read_csv('data/SCDB_2013_01_justiceCentered_Citation_Cleaned_Party.csv')\n",
      "\n",
      "df3 = data[['caseId','dateDecision','chief']]\n",
      "for i,ele in enumerate(df3['dateDecision']):\n",
      "    df3['dateDecision'][i] = ele[-4:]\n",
      "    \n",
      "grouped2 = df3.groupby('caseId')\n",
      "df4 = grouped2.first()\n",
      "\n",
      "chiefs = df4['chief'].unique()\n",
      "d = {}\n",
      "for chief in chiefs:\n",
      "    d[chief]=[]\n",
      "for chief in chiefs:\n",
      "    for i,ele in enumerate(df4['dateDecision']):\n",
      "        if df4['chief'][i]==chief:\n",
      "            d[chief].append(ele)\n",
      "for chief in chiefs:\n",
      "    d[chief] = [float(x) for x in d[chief]]\n",
      "\n",
      "plt.bar(Counter(d['Vinson']).keys(),Counter(d['Vinson']).values(), color = (0., 0., 0.75),label='Vinson')\n",
      "plt.bar(Counter(d['Warren']).keys(),Counter(d['Warren']).values(),color=(2./10., 4./20., 0.75),label='Warren')\n",
      "plt.bar(Counter(d['Burger']).keys(),Counter(d['Burger']).values(),color=(4./10.0, 8./20.0, 0.75),label='Burger')\n",
      "plt.bar(Counter(d['Rehnquist']).keys(),Counter(d['Rehnquist']).values(),color=(6./10.0, 12./20.0, 0.75),label='Rehnquist')\n",
      "plt.bar(Counter(d['Roberts']).keys(),Counter(d['Roberts']).values(),color=(8./10.0, 16./20.0, 0.75),label='Roberts')\n",
      "plt.xlim((1946,2014))\n",
      "plt.title('Number of Supreme Court Cases from 1946 to 2013 for each Chief Justice')\n",
      "plt.xlabel('Years')\n",
      "plt.ylabel('Count of Cases')\n",
      "plt.legend()\n",
      "plt.show()"
     ],
     "language": "python",
     "metadata": {},
     "outputs": [
      {
       "metadata": {},
       "output_type": "display_data",
       "png": "[encoded data removed]",
       "text": [
        "<matplotlib.figure.Figure at 0x21040b8>"
       ]
      }
     ],
     "prompt_number": 2
    },
    {
     "cell_type": "markdown",
     "metadata": {},
     "source": [
      "The dataset we have collects cases as from 1946. Since then, The Supreme Court had 5 different chief justices:\n",
      "\n",
      " * **Vinson** (until 1953)\n",
      " * **Warren** (1953 - 1969)\n",
      " * **Burger** (1969 - 1986)\n",
      " * **Rehnquist** (1986 - 2005)\n",
      " * **Roberts** (since 2005)\n",
      " \n",
      "The number of cases per year has dramatically decreased since Rehnquist became chief justice in 1986. Some researchers have worked on this question, among them Ryan J.Owens & David A.Simon (http://scholarship.law.wm.edu/cgi/viewcontent.cgi?article=3424&context=wmlr) who mainly explain the decrease with the Ideology of the Court: \"a Court composed of Justices\n",
      "who share largely the same world view is likely to hear forty-two more cases per Term than an ideologically fractured Court\". "
     ]
    },
    {
     "cell_type": "markdown",
     "metadata": {},
     "source": [
      "###Disposition of the Court\n",
      "\n",
      "One final aspect to examine when exploring how the SC works is to look at what the outcome of case are, i.e. whether the court stayed or affirmed the decision of the lower court. In order to create this visualization, we must first pares the dataframe for the dispositions. "
     ]
    },
    {
     "cell_type": "code",
     "collapsed": false,
     "input": [
      "#group by case ID\n",
      "df_caseId = df.groupby('caseId')\n",
      "#print df_filtered.columns\n",
      "court_dispo = []\n",
      "#iterate over cases\n",
      "for ID, subframe in df_caseId:\n",
      "    if not np.isnan(subframe['caseDisposition'].unique()): #parse for Nan\n",
      "        court_dispo.append((ID, subframe['caseDisposition'].unique())) #append dispo data\n",
      "        \n",
      "dispo_counts = {}\n",
      "keys = number_to_dispo.keys()\n",
      "for index in range(len(number_to_dispo.keys())):\n",
      "    count = str(keys[index])\n",
      "    dispo_counts[count] = 0\n",
      "#convert data in list to counts in dictionary\n",
      "for item in court_dispo:\n",
      "    num = str(int(item[1][0]))\n",
      "    #try/except to parse invalid keys, as some data entries can contain corrupted values\n",
      "    try:\n",
      "        dispo_counts[num] += 1\n",
      "    except KeyError:\n",
      "        pass\n",
      "\n",
      "names = []\n",
      "counts = []\n",
      "names_counts = {}\n",
      "#convert data to from dispoId:count to dispo name:count\n",
      "for dispo_num in number_to_dispo.keys():\n",
      "    names.append(number_to_dispo[dispo_num])\n",
      "    counts.append(dispo_counts[dispo_num])\n",
      "    names_counts[number_to_dispo[dispo_num]] = dispo_counts[dispo_num]\n",
      "                \n",
      "    \n",
      "\n",
      "y_pos = np.arange(len(keys))\n",
      "fig = plt.figure()\n",
      "plt.barh(y_pos, counts, align='center')\n",
      "plt.yticks(y_pos,names)\n",
      "fig.set_size_inches(5, .2*len(keys), alpha=0.4)\n",
      "plt.ylim([-1, len(keys)])\n",
      "plt.xlabel('Absolute Case Count')\n",
      "plt.title('Court Disposition')\n",
      "remove_border()"
     ],
     "language": "python",
     "metadata": {},
     "outputs": []
    },
    {
     "cell_type": "markdown",
     "metadata": {},
     "source": [
      "The figure above shows the court most reverses the rulings of the lower courts. This prehaps represents a selection bias, as people we are maybe more likely to appeal to the SC if they believe they will get the rulings the desire (a reversal of the previous rulings). As there is no point to appeal to the SC if the petitioner already obtained the desired result!"
     ]
    },
    {
     "cell_type": "markdown",
     "metadata": {},
     "source": [
      "#Section III - Is the Supreme Court Biased?\n",
      "\n",
      "In the previous part, we scraped the appointers and their political parties for each of the justices. We did that in order to see if the ideology of a justice has an impact on his decisions. In other words, if the Supreme Court is biased.\n",
      "\n",
      "For example, we may think that Justices appointed by a Democrat/Republican President will take more Liberal/Conservative Decisions. In order to test this hypothesis, we perform the following steps:\n",
      "\n",
      "* Explanatory Graphs where we try to identify ideological trends\n",
      "* Clustering task (Standard Clustering Vs. Hierrchical Clustering) to evaluate if the Ideology is the most dividing feature"
     ]
    },
    {
     "cell_type": "markdown",
     "metadata": {},
     "source": [
      "##Explanatory Statistics\n",
      "\n",
      "On each case raised to the Supreme Court, each justice takes a decision and the final decision is the choice of the Majority. A justice can choose between to directions  \n",
      "\n",
      "* Liberal\n",
      "* Conservative\n",
      "\n",
      "We first draw the ratios of Liberal & Conservative Decisions taken by both of the Parties. \n",
      "\n",
      "**NB: We assume that a justice is representative of the political Party of the President who appointed him.**"
     ]
    },
    {
     "cell_type": "code",
     "collapsed": false,
     "input": [
      "import prettyplotlib as pplt\n",
      "\n",
      "dem = data.direction[data.party=='Democratic Party'].dropna().value_counts()\n",
      "dem = dem/dem.sum()\n",
      "rep = data.direction[data.party=='Republican Party'].dropna().value_counts()\n",
      "rep = rep/rep.sum()\n",
      "ind =np.array([1.,2.])\n",
      "barwidth = 0.4\n",
      "\n",
      "fig, ax = plt.subplots(1)\n",
      "pplt.bar(ax,ind,dem,width = barwidth,label = 'Democrats',  color=(65/256, 65/256, 255/256))\n",
      "pplt.bar(ax,ind+.5,rep, width=barwidth, label = 'Republicans', color=(255/256, 65/256, 65/256))\n",
      "plt.xticks([1.45,2.45],('Liberal','Conservative','Unspecifiable'),fontsize='large')\n",
      "plt.title('Decision Directions for each Political Party')\n",
      "pplt.legend(ax)\n",
      "plt.xlim((0.9,3))\n",
      "plt.show()"
     ],
     "language": "python",
     "metadata": {},
     "outputs": [
      {
       "metadata": {},
       "output_type": "display_data",
       "png": "[encoded data removed]",
       "text": [
        "<matplotlib.figure.Figure at 0x187a20b8>"
       ]
      }
     ],
     "prompt_number": 3
    },
    {
     "cell_type": "markdown",
     "metadata": {},
     "source": [
      "58% of the direction taken by Democrat-appointed justices are liberal, against 52% for the Republican-appointed justices. I draw below the same graphs for 11 different issue areas (Type of case): "
     ]
    },
    {
     "cell_type": "code",
     "collapsed": false,
     "input": [
      "areas = ['Criminal Procedure','Civil Rights','First Amendment','Due Process','Privacy','Attorneys','Unions',\n",
      "         'Economic Activity','Judicial Power',',Federalism','Interstate Relations','Federal Taxation',\n",
      "         'Miscellaneous','Private Action']\n",
      "\n",
      "fig, x_arr = plt.subplots(5,2)\n",
      "fig.set_figheight(40)\n",
      "ind =np.array([1.,2.])\n",
      "barwidth = 0.4\n",
      "plt.setp(x_arr, xticks=[1.45, 2.45], xticklabels=['Liberal', 'Conservative'])\n",
      "for i,ele in enumerate(data.issueArea.unique()):\n",
      "    if math.isnan(ele)==False:\n",
      "        if i<9:#I have to make this \n",
      "            try:\n",
      "                temp = data[data.issueArea==ele]\n",
      "                dem = temp.direction[temp.party=='Democratic Party'].dropna().value_counts()\n",
      "                dem = dem/dem.sum()\n",
      "                rep = temp.direction[temp.party=='Republican Party'].dropna().value_counts()\n",
      "                rep = rep/rep.sum()\n",
      "                pplt.bar(x_arr[i/2][i%2],ind,dem,width = barwidth,color=(65/256, 65/256, 255/256))\n",
      "                pplt.bar(x_arr[i/2][i%2],ind+.5,rep,width = barwidth,color=(255/256, 65/256, 65/256))\n",
      "                x_arr[i/2][i%2].set_xlim((0.9,3.))\n",
      "                x_arr[i/2][i%2].set_title(areas[i])\n",
      "            except:\n",
      "                pass\n",
      "        else:\n",
      "            try:\n",
      "                temp = data[data.issueArea==ele]\n",
      "                dem = temp.direction[temp.party=='Democratic Party'].dropna().value_counts()\n",
      "                dem = dem/dem.sum()\n",
      "                rep = temp.direction[temp.party=='Republican Party'].dropna().value_counts()\n",
      "                rep = rep/rep.sum()\n",
      "                pplt.bar(x_arr[(i-1)/2][(i-1)%2],ind,dem,width = barwidth,color=(65/256, 65/256, 255/256))\n",
      "                pplt.bar(x_arr[(i-1)/2][(i-1)%2],ind+.5,rep,width = barwidth,color=(255/256, 65/256, 65/256))\n",
      "                x_arr[(i-1)/2][(i-1)%2].set_xlim((0.9,3.))\n",
      "                x_arr[(i-1)/2][(i-1)%2].set_title(areas[i])\n",
      "            except:\n",
      "                pass\n",
      "        "
     ],
     "language": "python",
     "metadata": {},
     "outputs": [
      {
       "metadata": {},
       "output_type": "display_data",
       "png": "[encoded data removed]",
       "text": [
        "<matplotlib.figure.Figure at 0x1879e780>"
       ]
      }
     ],
     "prompt_number": 4
    },
    {
     "cell_type": "markdown",
     "metadata": {},
     "source": [
      "Each party has its more sensible areas. The 3 areas where Democrats vote mainly Liberal are:\n",
      "\n",
      "* First Amendment\n",
      "* Unions\n",
      "* Criminal Procedures\n",
      "\n",
      "The 3 areas where Republican-appointed justices vote mainly Liberal are: \n",
      "\n",
      "* Unions\n",
      "* Judicial Power\n",
      "* Attorneys\n",
      "\n",
      "** First Conclusion**\n",
      "\n",
      "We may think that Democrat-appointed and Republican-appointed justices vote the same in average. But if we look more into depth to the data, their votes depend a lot on the area of the case."
     ]
    },
    {
     "cell_type": "markdown",
     "metadata": {},
     "source": [
      "##Clustering\n",
      "\n",
      "Our motivation here is to see if the clusters separate justices that were appointed by President from different parties. In order not to bias our data, we don't take into account the parties as a feature. Clustering is an unsupervised learning algorithm: we don't have any label. Each line of our dataset represents a different justice and we have all the justices since 1946. We created three different features:\n",
      "\n",
      "* **ratio_liberal**:Ratio of Liberal Decisions for each justice\n",
      "* **ratio_opinion_written**: The ratio of cases where a justice wrote an opinion. Each justice can or cannot write an opinion after a case is voted.\n",
      "* **ratio_dissent_maj**: The ratio of cases where a justices disagreed with the majority vote"
     ]
    },
    {
     "cell_type": "code",
     "collapsed": false,
     "input": [
      "s#Construct the 3 ratios: Liberal, Opinion Written, Dissent with majority\n",
      "justices = []\n",
      "ratio_liberal = []\n",
      "ratio_opinion_written = []\n",
      "ratio_dissent_maj = []\n",
      "for justice in data.justiceName.unique():\n",
      "    if type(justice) is str:\n",
      "        justices.append(justice)\n",
      "        temp = data[data.justiceName==justice]\n",
      "        ratio_liberal.append(sum(temp.direction==2)/len(temp.direction))\n",
      "        ratio_opinion_written.append(sum(temp.opinion==2)/len(temp.opinion)+sum(temp.opinion==3)/len(temp.opinion))\n",
      "        ratio_dissent_maj.append(sum(temp.opinion==2)/len(temp.opinion))\n",
      "\n",
      "df_clust = pd.DataFrame({'liberal':ratio_liberal,'opinion':ratio_opinion_written,\n",
      "                     'dissent':ratio_dissent_maj},index = justices)\n",
      "df_clust.head()"
     ],
     "language": "python",
     "metadata": {},
     "outputs": [
      {
       "output_type": "stream",
       "stream": "stderr",
       "text": [
        "C:\\Anaconda\\lib\\site-packages\\pandas\\core\\config.py:570: DeprecationWarning: height has been deprecated.\n",
        "\n",
        "  warnings.warn(d.msg, DeprecationWarning)\n",
        "C:\\Anaconda\\lib\\site-packages\\pandas\\core\\config.py:570: DeprecationWarning: height has been deprecated.\n",
        "\n",
        "  warnings.warn(d.msg, DeprecationWarning)\n"
       ]
      },
      {
       "html": [
        "<div style=\"max-height:1000px;max-width:1500px;overflow:auto;\">\n",
        "<table border=\"1\" class=\"dataframe\">\n",
        "  <thead>\n",
        "    <tr style=\"text-align: right;\">\n",
        "      <th></th>\n",
        "      <th>dissent</th>\n",
        "      <th>liberal</th>\n",
        "      <th>opinion</th>\n",
        "    </tr>\n",
        "  </thead>\n",
        "  <tbody>\n",
        "    <tr>\n",
        "      <th>HHBurton</th>\n",
        "      <td> 0.121969</td>\n",
        "      <td> 0.429831</td>\n",
        "      <td> 0.140338</td>\n",
        "    </tr>\n",
        "    <tr>\n",
        "      <th>RHJackson</th>\n",
        "      <td> 0.250572</td>\n",
        "      <td> 0.371854</td>\n",
        "      <td> 0.273455</td>\n",
        "    </tr>\n",
        "    <tr>\n",
        "      <th>WODouglas</th>\n",
        "      <td> 0.298413</td>\n",
        "      <td> 0.738857</td>\n",
        "      <td> 0.319819</td>\n",
        "    </tr>\n",
        "    <tr>\n",
        "      <th>FFrankfurter</th>\n",
        "      <td> 0.294336</td>\n",
        "      <td> 0.426681</td>\n",
        "      <td> 0.309688</td>\n",
        "    </tr>\n",
        "    <tr>\n",
        "      <th>SFReed</th>\n",
        "      <td> 0.170819</td>\n",
        "      <td> 0.431495</td>\n",
        "      <td> 0.184164</td>\n",
        "    </tr>\n",
        "  </tbody>\n",
        "</table>\n",
        "</div>"
       ],
       "metadata": {},
       "output_type": "pyout",
       "prompt_number": 5,
       "text": [
        "               dissent   liberal   opinion\n",
        "HHBurton      0.121969  0.429831  0.140338\n",
        "RHJackson     0.250572  0.371854  0.273455\n",
        "WODouglas     0.298413  0.738857  0.319819\n",
        "FFrankfurter  0.294336  0.426681  0.309688\n",
        "SFReed        0.170819  0.431495  0.184164"
       ]
      }
     ],
     "prompt_number": 5
    },
    {
     "cell_type": "code",
     "collapsed": false,
     "input": [
      "wss = []\n",
      "for nclusters in range(1,15):\n",
      "    pca = PCA(n_components=2)\n",
      "    reduced_data = pca.fit_transform(df_clust)\n",
      "    kmeans = KMeans(init='k-means++', n_clusters=nclusters, n_init=10)\n",
      "    kmeans.fit(reduced_data)\n",
      "    \n",
      "    res = pd.DataFrame({'class':list(kmeans.predict(reduced_data)),\n",
      "                        'coord1':list(reduced_data[:,0]),\n",
      "                        'coord2':list(reduced_data[:,1])})\n",
      "    centers = pd.DataFrame({'class':range(nclusters),\n",
      "                            'coordx':list(kmeans.cluster_centers_[:,0]),\n",
      "                            'coordy':list(kmeans.cluster_centers_[:,1])})\n",
      "    \n",
      "    res = pd.merge(res,centers,left_on='class',right_on='class',how='left')\n",
      "    \n",
      "    wss.append(sum((res.coord1-res.coordx)**2) + sum((res.coord2-res.coordy)**2))\n",
      "    \n",
      "    if nclusters==4:\n",
      "        k_pca = pca\n",
      "        # Step size of the mesh. Decrease to increase the quality of the VQ.\n",
      "        h = .002     # point in the mesh [x_min, m_max]x[y_min, y_max].\n",
      "        \n",
      "        # Plot the decision boundary. For that, we will assign a color to each\n",
      "        x_min, x_max = reduced_data[:, 0].min() -.3 , reduced_data[:, 0].max() + .3\n",
      "        y_min, y_max = reduced_data[:, 1].min() -.3, reduced_data[:, 1].max() +.3\n",
      "        xx, yy = np.meshgrid(np.arange(x_min, x_max, h), np.arange(y_min, y_max, h))\n",
      "        \n",
      "        # Obtain labels for each point in mesh. Use last trained model.\n",
      "        Z = kmeans.predict(np.c_[xx.ravel(), yy.ravel()])\n",
      "        \n",
      "        # Put the result into a color plot\n",
      "        Z = Z.reshape(xx.shape)\n",
      "        pl.figure(1)\n",
      "        pl.clf()\n",
      "        pl.imshow(Z, interpolation='nearest',\n",
      "                  extent=(xx.min(), xx.max(), yy.min(), yy.max()),\n",
      "                  cmap=pl.cm.Blues_r,\n",
      "                  aspect='auto', origin='lower')#pl.cm.Paired\n",
      "        \n",
      "        pl.plot(reduced_data[:, 0], reduced_data[:, 1], 'k.', markersize=10)\n",
      "        # Plot the centroids as a white X\n",
      "        centroids = kmeans.cluster_centers_\n",
      "        pl.scatter(centroids[:, 0], centroids[:, 1],\n",
      "                   marker='x', s=169, linewidths=3,\n",
      "                   color='red', zorder=10)\n",
      "        pl.title('K-means clustering on the justices of the Supreme Court\\n'\n",
      "                 'Centroids are marked with white cross')\n",
      "        pl.xlim(x_min, x_max)\n",
      "        pl.ylim(y_min, y_max)\n",
      "        pl.xticks(())\n",
      "        pl.yticks(())\n",
      "        pl.show()\n",
      "\n",
      "fig, ax = plt.subplots(1)\n",
      "pplt.plot(ax,range(1,15),wss,linewidth=5)\n",
      "plt.title('Cross-Validation on the Number of Clusters\\n'\n",
      "           'Within Sum of Squares')\n",
      "plt.xlabel('Number of Clusters')\n",
      "plt.ylabel('Within Sum of Squares')\n",
      "plt.xlim(1,14)\n",
      "plt.show()"
     ],
     "language": "python",
     "metadata": {},
     "outputs": [
      {
       "metadata": {},
       "output_type": "display_data",
       "png": "[encoded data removed]",
       "text": [
        "<matplotlib.figure.Figure at 0x2f77668>"
       ]
      },
      {
       "metadata": {},
       "output_type": "display_data",
       "png": "[encoded data removed]",
       "text": [
        "<matplotlib.figure.Figure at 0xad84780>"
       ]
      }
     ],
     "prompt_number": 6
    },
    {
     "cell_type": "markdown",
     "metadata": {},
     "source": [
      "I perform the Clustering algorithm using different number of clusters. I cross-validate on the number of clusters by minimizing the within sum of squares: I sum all the sqaured distances between the points and their centroids. I have line above. Based on this line, I use the Elbow method to choose the number of clusters: We can see that we reduce the Within Sum of Squares when we increase the number of clusters. But we don't improve a lot the WSS after 4 clusters (little improvements). The Elbow method (named after the shape of the graph) tells to use the best number of clusters as the number after which we don't improve the WSS: This number is 4 here.\n",
      "\n",
      "Before performing my Clustering algorithm, I perform PCA to project my data on the two most informative features to be able to have a representation\n",
      "\n",
      "There are 4 clusters while there are only 2 parties: This result shows us that the justices can't be divided simply in two groups corresponding to the Party of the President who appointed them. Let's see in detail how justices are spread among clusters"
     ]
    },
    {
     "cell_type": "code",
     "collapsed": false,
     "input": [
      "##Visualize the Repartition of Justices in each Cluster\n",
      "\n",
      "reduced_data = PCA(n_components=2).fit_transform(df_clust)\n",
      "kmeans = KMeans(init='k-means++', n_clusters=4, n_init=10)\n",
      "kmeans.fit(reduced_data)\n",
      "Z = kmeans.predict(reduced_data)\n",
      "\n",
      "parties = []\n",
      "for justice in justices:\n",
      "    parties.append(data.party[data.justiceName==justice].iloc[0])\n",
      "\n",
      "res = pd.DataFrame({'Cluster':list(Z),'Justice':justices, 'Party': parties})\n",
      "\n",
      "for i in xrange(4):\n",
      "    temp = res[res.Cluster==i]\n",
      "    print '-------Cluster ',i,' ---------'\n",
      "    print ' Percentage of Democrats = %0.02f'% (sum(temp.Party=='Democratic Party')/len(temp.Party))\n",
      "    print ' Percentage of Republicans = %0.02f'% (sum(temp.Party=='Republican Party')/len(temp.Party))"
     ],
     "language": "python",
     "metadata": {},
     "outputs": [
      {
       "output_type": "stream",
       "stream": "stdout",
       "text": [
        "-------Cluster  0  ---------\n",
        " Percentage of Democrats = 0.64\n",
        " Percentage of Republicans = 0.18\n",
        "-------Cluster  1  ---------\n",
        " Percentage of Democrats = 0.64\n",
        " Percentage of Republicans = 0.36\n",
        "-------Cluster  2  ---------\n",
        " Percentage of Democrats = 0.50\n",
        " Percentage of Republicans = 0.25\n",
        "-------Cluster  3  ---------\n",
        " Percentage of Democrats = 0.10\n",
        " Percentage of Republicans = 0.90\n"
       ]
      }
     ],
     "prompt_number": 7
    },
    {
     "cell_type": "markdown",
     "metadata": {},
     "source": [
      "We can see that some of the clusters are discriminating based on the Party but that the results are not significative enough, except for cluster 2 that has a huge majrity of Republican justices. Let's analyze the weight of each of our 3 features in the 2 principal components."
     ]
    },
    {
     "cell_type": "code",
     "collapsed": false,
     "input": [
      "for i in range(2):\n",
      "    print 'Dissent Ratio weight in the ',i+1,' principal component is = %f'% k_pca.components_[i,0]\n",
      "    print 'Liberal/Conservative Ratio weight in the ',i+1,' principal component is = %f'% k_pca.components_[i,1]\n",
      "    print 'Opinion Writing Ratio weight in the ',i+1,' principal component is = %f'% k_pca.components_[i,2]"
     ],
     "language": "python",
     "metadata": {},
     "outputs": [
      {
       "output_type": "stream",
       "stream": "stdout",
       "text": [
        "Dissent Ratio weight in the  1  principal component is = 0.003893\n",
        "Liberal/Conservative Ratio weight in the  1  principal component is = 0.999584\n",
        "Opinion Writing Ratio weight in the  1  principal component is = 0.028573\n",
        "Dissent Ratio weight in the  2  principal component is = -0.702499\n",
        "Liberal/Conservative Ratio weight in the  2  principal component is = 0.023069\n",
        "Opinion Writing Ratio weight in the  2  principal component is = -0.711310\n"
       ]
      }
     ],
     "prompt_number": 8
    },
    {
     "cell_type": "markdown",
     "metadata": {},
     "source": [
      "The first principal component is almost entirely determined by the Liberal/Conservative ratio, which is then really discriminative for the justices. This result seems logic and we can see how it still doesn't split the data into Republican Vs. Democratic justices."
     ]
    },
    {
     "cell_type": "markdown",
     "metadata": {},
     "source": [
      "##Hierarchical Clustering\n",
      "\n",
      "In order to check if our previous clusters are relevant, we test the K-means algorithm against the Hierarchical one. Hierarchical Clustering will allow us here to have a better visualization of the network. Moreover we don't need to specify the number of clusters in this algorithm which is a good test of the relevance of the 4 clusters we found with the previous method. Hierarchical Clustering clusters based on a distance measure. We choose here the euclidean distance."
     ]
    },
    {
     "cell_type": "code",
     "collapsed": false,
     "input": [
      "distxy = squareform(pdist(df_clust, metric='euclidean'))"
     ],
     "language": "python",
     "metadata": {},
     "outputs": [],
     "prompt_number": 9
    },
    {
     "cell_type": "markdown",
     "metadata": {},
     "source": [
      "We then draw the dendrogram:"
     ]
    },
    {
     "cell_type": "code",
     "collapsed": false,
     "input": [
      "def augmented_dendrogram(*args, **kwargs):\n",
      "\n",
      "    ddata = dendrogram(*args, **kwargs)\n",
      "\n",
      "    if not kwargs.get('no_plot', False):\n",
      "        for i, d in zip(ddata['icoord'], ddata['dcoord']):\n",
      "            x = 0.5 * sum(i[1:3])\n",
      "            y = d[1]\n",
      "            plt.plot(x, y, 'ro')\n",
      "            plt.annotate(\"%.3g\" % y, (x, y), xytext=(0, -8),\n",
      "                         textcoords='offset points',\n",
      "                         va='top', ha='center')\n",
      "\n",
      "    return ddata\n",
      "\n",
      "R = augmented_dendrogram(linkage(distxy, method='complete'), labels= justices)\n",
      "\n",
      "plt.xlabel('points')\n",
      "plt.ylabel('Height')\n",
      "plt.title('Hierarchical Clustering Dendrogram', fontweight='bold', fontsize=14)\n",
      "plt.xticks(size=13)\n",
      "plt.show()"
     ],
     "language": "python",
     "metadata": {},
     "outputs": [
      {
       "metadata": {},
       "output_type": "display_data",
       "png": "[encoded data removed]",
       "text": [
        "<matplotlib.figure.Figure at 0x19cced30>"
       ]
      }
     ],
     "prompt_number": 10
    },
    {
     "cell_type": "markdown",
     "metadata": {},
     "source": [
      "Let's check how many clusters we have with Hierarchical Clutering:"
     ]
    },
    {
     "cell_type": "code",
     "collapsed": false,
     "input": [
      "print 'Hierarchical Clustering produced %i different clusters'% len(set(R['color_list']))"
     ],
     "language": "python",
     "metadata": {},
     "outputs": [
      {
       "output_type": "stream",
       "stream": "stdout",
       "text": [
        "Hierarchical Clustering produced 4 different clusters\n"
       ]
      }
     ],
     "prompt_number": 11
    },
    {
     "cell_type": "code",
     "collapsed": false,
     "input": [
      "parties = []\n",
      "for value in R.values()[0][1:]:\n",
      "    parties.append(data[data.justiceName==value].party.iloc[0])\n",
      "res = pd.DataFrame({'Cluster':R['color_list'],'Party':parties},index=R.values()[0][1:])\n",
      "for i,col in enumerate(res.Cluster.unique()):\n",
      "    temp = res[res.Cluster==col]\n",
      "    print '-------Cluster ',i,' ---------'\n",
      "    print ' Percentage of Democrats = %0.02f'% (sum(temp.Party=='Democratic Party')/len(temp.Party))\n",
      "    print ' Percentage of Republicans = %0.02f'% (sum(temp.Party=='Republican Party')/len(temp.Party))"
     ],
     "language": "python",
     "metadata": {},
     "outputs": [
      {
       "output_type": "stream",
       "stream": "stdout",
       "text": [
        "-------Cluster  0  ---------\n",
        " Percentage of Democrats = 0.56\n",
        " Percentage of Republicans = 0.22\n",
        "-------Cluster  1  ---------\n",
        " Percentage of Democrats = 0.62\n",
        " Percentage of Republicans = 0.38\n",
        "-------Cluster  2  ---------\n",
        " Percentage of Democrats = 0.44\n",
        " Percentage of Republicans = 0.50\n",
        "-------Cluster  3  ---------\n",
        " Percentage of Democrats = 0.00\n",
        " Percentage of Republicans = 1.00\n"
       ]
      }
     ],
     "prompt_number": 39
    },
    {
     "cell_type": "code",
     "collapsed": false,
     "input": [
      "res2 = df_clust.join(res, how='inner')\n",
      "\n",
      "gr = res2.groupby('Cluster')\n",
      "gr.median()"
     ],
     "language": "python",
     "metadata": {},
     "outputs": [
      {
       "output_type": "stream",
       "stream": "stderr",
       "text": [
        "C:\\Anaconda\\lib\\site-packages\\pandas\\core\\config.py:570: DeprecationWarning: height has been deprecated.\n",
        "\n",
        "  warnings.warn(d.msg, DeprecationWarning)\n",
        "C:\\Anaconda\\lib\\site-packages\\pandas\\core\\config.py:570: DeprecationWarning: height has been deprecated.\n",
        "\n",
        "  warnings.warn(d.msg, DeprecationWarning)\n"
       ]
      },
      {
       "html": [
        "<div style=\"max-height:1000px;max-width:1500px;overflow:auto;\">\n",
        "<table border=\"1\" class=\"dataframe\">\n",
        "  <thead>\n",
        "    <tr style=\"text-align: right;\">\n",
        "      <th></th>\n",
        "      <th>dissent</th>\n",
        "      <th>liberal</th>\n",
        "      <th>opinion</th>\n",
        "    </tr>\n",
        "    <tr>\n",
        "      <th>Cluster</th>\n",
        "      <th></th>\n",
        "      <th></th>\n",
        "      <th></th>\n",
        "    </tr>\n",
        "  </thead>\n",
        "  <tbody>\n",
        "    <tr>\n",
        "      <th>b</th>\n",
        "      <td> 0.188103</td>\n",
        "      <td> 0.301815</td>\n",
        "      <td> 0.191525</td>\n",
        "    </tr>\n",
        "    <tr>\n",
        "      <th>c</th>\n",
        "      <td> 0.207674</td>\n",
        "      <td> 0.394204</td>\n",
        "      <td> 0.208418</td>\n",
        "    </tr>\n",
        "    <tr>\n",
        "      <th>g</th>\n",
        "      <td> 0.222327</td>\n",
        "      <td> 0.703545</td>\n",
        "      <td> 0.229280</td>\n",
        "    </tr>\n",
        "    <tr>\n",
        "      <th>r</th>\n",
        "      <td> 0.210850</td>\n",
        "      <td> 0.523714</td>\n",
        "      <td> 0.214066</td>\n",
        "    </tr>\n",
        "  </tbody>\n",
        "</table>\n",
        "</div>"
       ],
       "metadata": {},
       "output_type": "pyout",
       "prompt_number": 44,
       "text": [
        "          dissent   liberal   opinion\n",
        "Cluster                              \n",
        "b        0.188103  0.301815  0.191525\n",
        "c        0.207674  0.394204  0.208418\n",
        "g        0.222327  0.703545  0.229280\n",
        "r        0.210850  0.523714  0.214066"
       ]
      }
     ],
     "prompt_number": 44
    },
    {
     "cell_type": "markdown",
     "metadata": {},
     "source": [
      "##Conclusion\n",
      "\n",
      "The Kmeans Algorithm and the Hierarchical Algorithm output both 4 different clusters, where Democrats and Republicans were more or less equally mixed (except for one of the clusters in the Kmeans and the last one in Hierarchical clustering but there were not significant as they had respectively 4 and 2 elements). We can then answer the question and say that the Supreme Court is not that much biased by the ideology of the justices."
     ]
    },
    {
     "cell_type": "markdown",
     "metadata": {},
     "source": [
      "#Section IV - Can We Predict Case Outcome..."
     ]
    },
    {
     "cell_type": "markdown",
     "metadata": {},
     "source": [
      "##... with the Citations\n",
      "\n",
      "One of the pillars of the legal system in the United States is precedent--that is, if the court has already decided an issue, it will apply the same reasoning if that issue or an analogous one arises again. Written documents that are part of legal proceedings, such as opinions and briefs, cite explicitly any previous cases that support their argument or touch on the issues at hand. We wonder if understanding how often and when a case is cited could in turn be used to predict the outcome of future cases. To do this, we create a network of citations for the opinions of the Supreme Court. The opinion is written by the court when it makes a decision and cites that cases that raised issues it felt were worth addressing or had some precedential value. Briefs are submitted by both parties (petitioner and respondent) as part of their arguments to the court. These briefs also cite heavily previous court cases that they believe affect the issue at hand.\n",
      "\n",
      "We wonder if we can model legal precedent using network statistics and thus be able to predict a new case based on the precedent of the cases cited by the briefs from both sides.\n",
      "\n",
      "To do so we must:\n",
      "\n",
      "- Create a network representation of the citations\n",
      "- Calculate network statistics, such as page rank, to try to approximate \"precedent\"\n",
      "- Verify there is a relationship between this precedent and case outcome"
     ]
    },
    {
     "cell_type": "markdown",
     "metadata": {},
     "source": [
      "###Create a Network Representation of the Citation Graph\n",
      "One way to represent the citations between Supreme Court cases is to create a network graph of the citations. Each of the nodes in our graph is a Supreme Court decision, and each of the edges is a citation from that case to a previous court case. This represents the legal concept of precedence and the self-referential nature of Supreme Court decisions."
     ]
    },
    {
     "cell_type": "code",
     "collapsed": false,
     "input": [
      "# create a directed graph for the citations\n",
      "cite_graph = nx.DiGraph()\n",
      "\n",
      "for row in citation_df.iterrows():\n",
      "    for cite_by in row[1]['usCite_cited_by']:\n",
      "        if cite_by != '' and row[1]['usCite']!='':\n",
      "            \n",
      "            # this case is the entry in the dataframe\n",
      "            case_cited = row[1]['usCite']\n",
      "            case_name_cited = row[1]['case_name']\n",
      "            \n",
      "            # add directed edge from citing case to this case\n",
      "            cite_graph.add_edge(cite_by, case_cited)\n",
      "            nx.set_node_attributes(cite_graph, 'case_name', {case_cited: case_name_cited})\n",
      "\n",
      "# Write the graph structure out to a file so that it can be imported into the \n",
      "# graph visualization software, Gephi\n",
      "nx.write_gexf(cite_graph, 'cites_gephi.gexf')"
     ],
     "language": "python",
     "metadata": {},
     "outputs": []
    },
    {
     "cell_type": "markdown",
     "metadata": {},
     "source": [
      "## Exploring Graph Centrality Measures\n",
      "Since we're curious if the cases cited by briefs are a proxy for the relative strength of an argument, we want to gather statistics on our network that measure the relative importance each individual case. To do this, we compute a number of node-based statistics using the `NetworkX` package for Python. All of these statistics attempt to capture slightly different features of the node structure, but as a whole represent the relative \"importance\" of a node We will then see if any of these measures correlate with the outcome of a case."
     ]
    },
    {
     "cell_type": "code",
     "collapsed": false,
     "input": [
      "# page rank\n",
      "pr = nx.algorithms.pagerank(cite_graph)\n",
      "\n",
      "# betweeness centrality\n",
      "btwn = nx.algorithms.betweenness_centrality(cite_graph)\n",
      "\n",
      "# closeness centrality\n",
      "closeness = nx.algorithms.closeness_centrality(cite_graph)\n",
      "\n",
      "# eigenvector centrality\n",
      "eigen_vec = nx.algorithms.eigenvector_centrality(cite_graph, max_iter=100)\n",
      "\n",
      "# in-degree centrality\n",
      "in_deg_cent = nx.algorithms.in_degree_centrality(cite_graph)\n",
      "\n",
      "# katz centrality\n",
      "katz = nx.algorithms.katz_centrality(cite_graph)\n",
      "\n",
      "# get the list of citations and the sorted list each statistic\n",
      "cites, pr_sorted = zip(*sorted(pr.iteritems(), key=operator.itemgetter(0), reverse=True))\n",
      "_, btwn_sorted = zip(*sorted(btwn.iteritems(), key=operator.itemgetter(0), reverse=True))\n",
      "_, closeness_sorted = zip(*sorted(closeness.iteritems(), key=operator.itemgetter(0), reverse=True))\n",
      "_, eigen_vec_sorted = zip(*sorted(eigen_vec.iteritems(), key=operator.itemgetter(0), reverse=True))\n",
      "_, katz_sorted = zip(*sorted(katz.iteritems(), key=operator.itemgetter(0), reverse=True))\n",
      "_, in_deg_cent_sorted = zip(*sorted(in_deg_cent.iteritems(), key=operator.itemgetter(0), reverse=True))\n",
      "\n",
      "# put all the measures in a list of tuples and create a data frame based on this list\n",
      "all_measures = zip(cites, pr_sorted, btwn_sorted, closeness_sorted, eigen_vec_sorted, katz_sorted, in_deg_cent_sorted)\n",
      "all_measures_df = pd.DataFrame(all_measures, columns=['usCite','page_rank','betweeness','closeness','eigen_vec','katz','in_deg'])\n",
      "\n",
      "# merge this data frame with our parsing of the CourtListener data\n",
      "citation_df = all_measures_df.merge(citation_df, on=['usCite'])\n",
      "citation_df.head(5)"
     ],
     "language": "python",
     "metadata": {},
     "outputs": []
    },
    {
     "cell_type": "markdown",
     "metadata": {},
     "source": [
      "Now we can merge these data from the Court Listener API with the Spaeth dataset in order to have one uniform set to work with. To do so, we load the Spaeth dataset and merge it with the dataframe we have constructed on each case's US citation. One complication is that the CourtListener API uses both \"S. Ct.\" style citations and \"U.S.\" style citations. The Spaeth dataset has both values, so we create a lookup table to map any of the CourtListener rows with the \"S. Ct.\" citation to their \"US\" citation."
     ]
    },
    {
     "cell_type": "code",
     "collapsed": false,
     "input": [
      "\"\"\"\n",
      "replace_sct(row)\n",
      "\n",
      "Takes a row from a pandas DataFrame via apply() and replaces any\n",
      "S.Ct style citations with US style citations\n",
      "\"\"\"\n",
      "def replace_sct(row):\n",
      "    if \"Ct\" in row['usCite']:\n",
      "        maps = spaeth_map[spaeth_map['sctCite'] == row['usCite']].values\n",
      "        #print maps\n",
      "        if len(maps) > 0:\n",
      "            if not isinstance(maps[0][0], str) or 'U' not in maps[0][0]:\n",
      "                print \"ERROR on \", row[['usCite','cl_id']]\n",
      "            return maps[0][0]\n",
      "        else:\n",
      "            return np.nan\n",
      "            print \"NO KEY ERROR on \", row[['usCite','cl_id']]\n",
      "    else:\n",
      "        return row['usCite']\n",
      "\n",
      "spaeth = pd.read_csv('../SCDB_2013_01_justiceCentered_Citation_Final.csv')\n",
      "\n",
      "# create a pairing of US style citations and SCt style citations\n",
      "# so we can easily move back and forth between the two\n",
      "spaeth_map = spaeth[['usCite','sctCite']].drop_duplicates()\n",
      "    \n",
      "# This conversion introduces a handful of NaNs, \n",
      "# I examined these cases and they are all very recent (which is why they have\n",
      "# no Spaeth entry or US citation. Thus, they are unlikely to be predictive, \n",
      "# so we will remove them.\n",
      "citation_df['usCite'] = citation_df.apply(replace_sct, axis=1)\n",
      "citation_df = citation_df.dropna(axis=0)\n",
      "\n",
      "# Drop the columns that would be duplicated in Spaeth (such as case name),\n",
      "# and keep just the ones we will need going forward.\n",
      "dropped_cols = citation_df[['usCite','page_rank', 'cl_id', 'usCite_cited_by', 'betweeness','closeness','eigen_vec','katz','in_deg']]\n",
      "spaeth = spaeth.merge(dropped_cols, on=['usCite'], how='left')\n",
      "spaeth.to_csv('SCDB_2013_01_justiceCentered_Citation_Final_with_Citations.csv')"
     ],
     "language": "python",
     "metadata": {},
     "outputs": []
    },
    {
     "cell_type": "markdown",
     "metadata": {},
     "source": [
      "Now we can examine how this relates to the brief data that we scraped in Section  I. Before we build a model, we want to test if there is correlation between our network statistics and the outcome of the cases. To do so, we'll take a feature where $s$ is the network statistic, e.g. centrality, $c$ is a case cited, $P$ is the petitioner brief,  $R$ is the respondent brief:\n",
      "\n",
      "$$\\text{BDIFF} = \\frac{\\sum_c^{C_P} s_c}{C} - \\frac{\\sum_c^{C_R} s_c}{C} $$\n",
      "\n",
      "BDIFF is the differential between the normalized statistic value for the Petitioner minus the normalized statistic value for the Respondent. We can then test to see if this differential, which should represent the difference in precedential weight between the two arguments, correlates with case outcome."
     ]
    },
    {
     "cell_type": "code",
     "collapsed": false,
     "input": [
      "#First, we read in the brief data for a year\n",
      "brief_df = pd.read_csv('cite_graph_03_04.csv')\n",
      "brief_df.head()"
     ],
     "language": "python",
     "metadata": {},
     "outputs": [
      {
       "output_type": "stream",
       "stream": "stderr",
       "text": [
        "/Users/bull/anaconda/lib/python2.7/site-packages/pandas/core/config.py:570: DeprecationWarning: height has been deprecated.\n",
        "\n",
        "  warnings.warn(d.msg, DeprecationWarning)\n",
        "/Users/bull/anaconda/lib/python2.7/site-packages/pandas/core/config.py:570: DeprecationWarning: height has been deprecated.\n",
        "\n",
        "  warnings.warn(d.msg, DeprecationWarning)\n",
        "/Users/bull/anaconda/lib/python2.7/site-packages/pandas/core/config.py:570: DeprecationWarning: height has been deprecated.\n",
        "\n",
        "  warnings.warn(d.msg, DeprecationWarning)\n"
       ]
      },
      {
       "html": [
        "<div style=\"max-height:1000px;max-width:1500px;overflow:auto;\">\n",
        "<table border=\"1\" class=\"dataframe\">\n",
        "  <thead>\n",
        "    <tr style=\"text-align: right;\">\n",
        "      <th></th>\n",
        "      <th>Unnamed: 0</th>\n",
        "      <th>citations</th>\n",
        "      <th>pet_resp</th>\n",
        "      <th>us_cite</th>\n",
        "    </tr>\n",
        "  </thead>\n",
        "  <tbody>\n",
        "    <tr>\n",
        "      <th>0</th>\n",
        "      <td> 0</td>\n",
        "      <td> [u'492 U.S. 302', u'532 U.S. 782', u'492 U.S. ...</td>\n",
        "      <td> 1</td>\n",
        "      <td> 542 U.S. 274</td>\n",
        "    </tr>\n",
        "    <tr>\n",
        "      <th>1</th>\n",
        "      <td> 1</td>\n",
        "      <td> [u'413 U.S. 266', u'532 U.S. 318', u'116 U.S. ...</td>\n",
        "      <td> 0</td>\n",
        "      <td> 541 U.S. 149</td>\n",
        "    </tr>\n",
        "    <tr>\n",
        "      <th>2</th>\n",
        "      <td> 2</td>\n",
        "      <td> [u'425 U.S. 682', u'488 U.S. 428', u'473 U.S. ...</td>\n",
        "      <td> 1</td>\n",
        "      <td> 541 U.S. 677</td>\n",
        "    </tr>\n",
        "    <tr>\n",
        "      <th>3</th>\n",
        "      <td> 3</td>\n",
        "      <td> [u'425 U.S. 682', u'257 U.S. 184', u'436 U.S. ...</td>\n",
        "      <td> 1</td>\n",
        "      <td> 541 U.S. 677</td>\n",
        "    </tr>\n",
        "    <tr>\n",
        "      <th>4</th>\n",
        "      <td> 4</td>\n",
        "      <td> [u'425 U.S. 682', u'436 U.S. 604', u'488 U.S. ...</td>\n",
        "      <td> 0</td>\n",
        "      <td> 541 U.S. 677</td>\n",
        "    </tr>\n",
        "  </tbody>\n",
        "</table>\n",
        "</div>"
       ],
       "metadata": {},
       "output_type": "pyout",
       "prompt_number": 18,
       "text": [
        "   Unnamed: 0                                          citations  pet_resp  \\\n",
        "0           0  [u'492 U.S. 302', u'532 U.S. 782', u'492 U.S. ...         1   \n",
        "1           1  [u'413 U.S. 266', u'532 U.S. 318', u'116 U.S. ...         0   \n",
        "2           2  [u'425 U.S. 682', u'488 U.S. 428', u'473 U.S. ...         1   \n",
        "3           3  [u'425 U.S. 682', u'257 U.S. 184', u'436 U.S. ...         1   \n",
        "4           4  [u'425 U.S. 682', u'436 U.S. 604', u'488 U.S. ...         0   \n",
        "\n",
        "        us_cite  \n",
        "0  542 U.S. 274  \n",
        "1  541 U.S. 149  \n",
        "2  541 U.S. 677  \n",
        "3  541 U.S. 677  \n",
        "4  541 U.S. 677  "
       ]
      }
     ],
     "prompt_number": 18
    },
    {
     "cell_type": "code",
     "collapsed": false,
     "input": [
      "def total_score(row, feature):\n",
      "    #print feature\n",
      "    cites = eval(row['citations'])\n",
      "    val = 0\n",
      "    for c in cites:\n",
      "        prs = spaeth[spaeth['usCite']==c][feature]\n",
      "        \n",
      "        # special case degree\n",
      "        if feature == 'usCite_cited_by':\n",
      "            if len(prs.index) > 0 and not isinstance(prs.values[0], float):\n",
      "                val += len(eval(prs.values[0]))\n",
      "        else:\n",
      "            if len(prs.index) > 0 and not np.isnan(prs.values[0]):\n",
      "                val += prs.values[0]\n",
      "            \n",
      "    normed = val/len(cites) if len(cites) > 0 else 0\n",
      "    #print normed\n",
      "    return normed\n",
      "\n",
      "cite_copy = cite_df.copy()\n",
      "\n",
      "#network features\n",
      "ntwk_features = ['usCite_cited_by', 'page_rank', 'betweeness','closeness','eigen_vec','katz','in_deg']\n",
      "\n",
      "# get the normalized sum of the feature for all of the citations in the brief\n",
      "for feat in ntwk_features:\n",
      "    cite_copy[feat+'_sum'] = cite_copy.apply(lambda x: total_score(x, feat), axis=1)"
     ],
     "language": "python",
     "metadata": {},
     "outputs": []
    },
    {
     "cell_type": "code",
     "collapsed": false,
     "input": [
      "# create a row that tells us whether or not the petitioner\n",
      "# recieved a favorable outcome from the court\n",
      "def pet_win(row):\n",
      "    cite = row['us_cite']\n",
      "    return spaeth[spaeth['usCite']==cite]['partyWinning'].values[0]\n",
      "\n",
      "cite_copy['pet_win'] = cite_copy.apply(pet_win, axis=1)\n",
      "\n",
      "# for all the features, calculate BDIFF\n",
      "for feat in ntwk_features:\n",
      "    res = []\n",
      "    for cite in cite_copy.us_cite:\n",
      "        temp = cite_copy[cite_copy.us_cite==cite]\n",
      "        res.append(sum(temp[feat+'_sum'][temp.pet_resp==1]) - sum(temp[feat+'_sum'][temp.pet_resp==0]))\n",
      "    cite_copy[feat+'_diff'] = res\n",
      "    \n",
      "# get one dataframe that has the citation with the briefs\n",
      "# for the petitioner and the respondent\n",
      "cite_copy.sort(columns=['us_cite','pet_resp'], inplace=True)\n",
      "cite_cases = cite_copy.groupby('us_cite').first()\n",
      "\n",
      "# for each feature, see if there is correlation between that\n",
      "# network statistic and the BDIFF value\n",
      "for feat in ntwk_features:\n",
      "    print \"CORRELATION COEFFICIENT FOR: \", feat\n",
      "    print np.corrcoef(cite_cases[feat+'_diff'].values, cite_cases.pet_win.values)"
     ],
     "language": "python",
     "metadata": {},
     "outputs": []
    },
    {
     "cell_type": "markdown",
     "metadata": {},
     "source": [
      "As we can see above, none of the network statistics that we gathered had the correlation we expected with case outcome. If, as we hypothesized, citing more important cases would strengthen an argument and make one side more likely to win, than the difference between the petitioner's and respondent's citations should be positively correlated with the outcome. That is, as the petitioner has a stronger argument, they should be more likely to win.\n",
      "\n",
      "It seems like our hypothesis that we could predict outcome using the citation graph was false. There are a number of possible reasons for this outcome. It is likely the situation that for any issues that are central to a case, both sides will cite the relevant precedential cases, one in a positive light, the other in a negative light. That means that the difference between their citations will only be on smaller less important cases that are less central to the argument. \n",
      "\n",
      "We could possibly still use this model using a more sophisticated text analysis. For example, we could look at the context around a particular citation and determine whether the sentiment is positive or negative. Adding this level of depth and complexity would allow us to more accurately represent the nature of the citations, but is unfortunately beyond the scope of this particular analysis."
     ]
    },
    {
     "cell_type": "markdown",
     "metadata": {},
     "source": [
      "##... with the Justice's Profiles\n"
     ]
    },
    {
     "cell_type": "markdown",
     "metadata": {},
     "source": [
      "###Voting Profiles of Justices"
     ]
    },
    {
     "cell_type": "markdown",
     "metadata": {},
     "source": [
      "Can we  characterize what kind of judge the individual justices are? The following code attempts to profile the SC justices but reviewing their voting history. To see how a particular judge leans of a particular law type, the votes a judges casts will parsed for issueArea and direction. Basically, issueArea is fourteen point feature that includes categories, such as First Amendments Rights, Civil Rights and Federal Taxation etc. and direction is liberal or conservate. Furthermore, to understand what liberal and conservative mean in regards to the legal system see the following bullet point summary:"
     ]
    },
    {
     "cell_type": "markdown",
     "metadata": {},
     "source": [
      "In the context of issues pertaining to criminal procedure, civil rights, First Amendment, due process, privacy, and attorneys, liberal is \n",
      "\n",
      "- pro-person accused or convicted of crime, or denied a jury trial \n",
      "- pro-civil liberties or civil rights claimant, especially those exercising less protected civil rights (e.g., homosexuality) \n",
      "- +pro-child or juvenile \n",
      "- pro-indigent \n",
      "- pro-Indian \n",
      "- pro-affirmative action \n",
      "- pro-neutrality in establishment clause cases \n",
      "- pro-female in abortion \n",
      "- pro-underdog \n",
      "- anti-slavery \n",
      "- incorporation of foreign territories \n",
      "- anti-government in the context of due process, except for takings clause cases where a pro-government, anti-owner vote is considered liberal except in criminal forfeiture cases or those where the taking is pro-business \n",
      "- violation of due process by exercising jurisdiction over nonresidents \n",
      "- pro-attorney \n",
      "- pro-accountability and/or anti-corruption in campaign spending \n",
      "- pro-privacy vis-a-vis the 1st Amendment where the privacy invaded is that of mental incompetents \n",
      "- pro-disclosure in Freedom of Information Act issues except for employment and student records \n",
      "\n",
      "In the context of issues pertaining to unions and economic activity, liberal is \n",
      "\n",
      "- pro-union except in union antitrust where liberal = pro-competition \n",
      "- anti-business \n",
      "- anti-employer \n",
      "- pro-competition \n",
      "- pro-liability \n",
      "- pro-injured person \n",
      "- pro-indigent \n",
      "- pro-small business vis-a-vis large business \n",
      "- pro-state/anti-business in state tax cases \n",
      "- pro-debtor \n",
      "- pro-bankrupt \n",
      "- pro-Indian \n",
      "- pro-environmental protection \n",
      "- pro-economic underdog \n",
      "- pro-consumer \n",
      "- pro-accountability in governmental corruption \n",
      "- pro-original grantee, purchaser, or occupant in state and territorial land claims \n",
      "- anti-union member or employee vis-a-vis union \n",
      "- anti-union in union antitrust \n",
      "- anti-union in union or closed shop \n",
      "- pro-trial in arbitration \n",
      "\n",
      "In the context of issues pertaining to judicial power, liberal is\n",
      "\n",
      "- pro-exercise of judicial power \n",
      "- pro-judicial \"activism\" \n",
      "- pro-judicial review of administrative action \n",
      "\n",
      "In the context of issues pertaining to federalism, liberal is \n",
      "\n",
      "- pro-federal power \n",
      "- pro-executive power in executive/congressional disputes \n",
      "- anti-state \n",
      "\n",
      "In the context of issues pertaining to federal taxation, liberal is\n",
      "\n",
      "- pro-United States taxation\n",
      "\n",
      "Conservate is the oppositve of liberal for the above categories"
     ]
    },
    {
     "cell_type": "markdown",
     "metadata": {},
     "source": [
      "The following code will tally each justices votes, detemine the issue area of the vote and how the justice voted (conservative vs liberal) to see how the individual justices tend to vote:"
     ]
    },
    {
     "cell_type": "code",
     "collapsed": false,
     "input": [
      "def create_plot(name, total_votes, ideal_votes, AreaDict, voteDict):\n",
      "    \"\"\"Create_plot create a plot fo the justice profile\n",
      "    Inputs: name, a string, that identifies a particular justice\n",
      "            total_votes, dictionary of case issueArea: vote count, countaining the total votes a judge cast for that \n",
      "            issue type\n",
      "            ideal_votes, dictionary of case issueArea: vote count towards a particular idealogy (conservative/liberal)\n",
      "            AreaDict, dictionary of issueArea Id: issueArea name\n",
      "            voteDict, dictionary used to store the probability of voting convseratively on a particular issue Area\n",
      "    Generates: The percentage of time a justice voted conservatively on a particular issue and appends that data to the \n",
      "     vote dictionary and then graphically represents that information in a bar graph\n",
      "    Return: None\n",
      "    \"\"\" \n",
      "    keys = total_votes.keys()\n",
      "    probs = {}\n",
      "    names = []\n",
      "    counts = []\n",
      "    for i in xrange(len(keys)):\n",
      "        index = str(keys[i])\n",
      "        if total_votes[index] != 0:\n",
      "            counts.append(ideal_votes[index]/float(total_votes[index]))\n",
      "            names.append(AreaDict[index])\n",
      "            probs[index] = ideal_votes[index]/float(total_votes[index])\n",
      "        if total_votes[index] == 0:\n",
      "            probs[index] = 0\n",
      "    voteDict[name] = probs\n",
      "    y_pos = np.arange(len(names))\n",
      "    fig = plt.figure()\n",
      "    plt.barh(y_pos, counts, align='center')  \n",
      "    plt.yticks(y_pos,names)\n",
      "    fig.set_size_inches(5, .2*len(names))\n",
      "    plt.ylim([-1, len(names)])\n",
      "    plt.xlim([0, 1.0])\n",
      "    plt.xlabel('Probability of voting Conservatively')\n",
      "    plt.title('Profile for {0}'.format(name))\n",
      "    remove_border()\n",
      "    plt.show()"
     ],
     "language": "python",
     "metadata": {},
     "outputs": []
    },
    {
     "cell_type": "code",
     "collapsed": false,
     "input": [
      "#group by Justices\n",
      "df_byJustice = df.groupby('justice')\n",
      "votes_by_Justice = []\n",
      "Justices = []\n",
      "#for each justice , find the issueArea of each case and how the justice voted (liberal/conservative):\n",
      "for ID, subframe in df_byJustice:\n",
      "    votes = []\n",
      "    Justices.append(number_to_name[str(int(ID))])\n",
      "    subgroup = subframe.groupby('caseId')\n",
      "    cases = subframe['caseId'].unique()\n",
      "    for case in cases:\n",
      "         votes.append((subframe[(subframe.caseId==case)].issueArea.values, subframe[(subframe.caseId==case)].direction.values))\n",
      "    votes_by_Justice.append(votes)\n",
      "    \n",
      "#profiles is a dictionary that will store the idividual voting precentages for each justice on each law issue area   \n",
      "profiles = {}\n",
      "#iterate through all justices in a database and generate profiles\n",
      "for justice in xrange(len(Justices)):\n",
      "    name = Justices[justice] #name of the justice\n",
      "    Areas_counts = {} #total vote counts for each issueArea\n",
      "    Conservative_Areas_counts = {} #vote total for conservative votes on each judge\n",
      "    keys = number_to_issArea.keys()\n",
      "    #initialize counts to zero:\n",
      "    for index in range(len(keys)):\n",
      "        count = str(keys[index])\n",
      "        Areas_counts[count] = 0\n",
      "        Conservative_Areas_counts[count] = 0\n",
      "    justice_votes = votes_by_Justice[justice]\n",
      "    #iterate through the votes and determine if it was conservativ or liberal:\n",
      "    for vote in justice_votes:\n",
      "        if not np.isnan(vote[0]) and not np.isnan(vote[1]): #parse NaN values\n",
      "            issueArea = str(int(vote[0]))\n",
      "            direction = int(vote[1])\n",
      "            Areas_counts[issueArea] += 1\n",
      "            if direction == 1:\n",
      "                Conservative_Areas_counts[issueArea] += 1\n",
      "    #create plots:\n",
      "    create_plot(name, Areas_counts, Conservative_Areas_counts,number_to_issArea, profiles)"
     ],
     "language": "python",
     "metadata": {},
     "outputs": []
    },
    {
     "cell_type": "markdown",
     "metadata": {},
     "source": [
      "Viewing the profiles above, one can see that each judge has a unique voting pattern. However, interestingly, almost every justice's profile has the precentages of voting conservatively on a particular issue area to be with in 0.4 to 0.6. This is interesting because it suggests that justices do not vote on idealogical basis but rather consider each case on its own merits."
     ]
    },
    {
     "cell_type": "markdown",
     "metadata": {},
     "source": [
      "###Network Analysis of the Justices\n"
     ]
    },
    {
     "cell_type": "markdown",
     "metadata": {},
     "source": [
      "Another interesting question is whether there are any voting blocks with in the court. Do certain justices tend the same way as other justices? In an attempt to answer this question, we will generate a network of the Justices and their voting pattern. In other words, each Justice will become a node in a graph with edges corresponding to votes cases similiar to another justice. The edges will be weight to total the number of time a particular justice votes the same way as another."
     ]
    },
    {
     "cell_type": "code",
     "collapsed": false,
     "input": [
      "graph = nx.Graph()\n",
      "for name in number_to_name.values():\n",
      "    graph.add_node(name)"
     ],
     "language": "python",
     "metadata": {},
     "outputs": []
    },
    {
     "cell_type": "code",
     "collapsed": false,
     "input": [
      "#group database by natural court so that justices can be pair.\n",
      "#natural court is a time interval that the court conviened for \n",
      "#thus, justices can only have edges with other justices on the same natural court\n",
      "df = pd.read_csv('data/SCDB_2013_01_justiceCentered_Citation.csv')\n",
      "df_by_court = df.groupby('naturalCourt')\n",
      "#add the justice pairs as nodes and set the edges between them to weight:0\n",
      "for ID, subframe in df_by_court:\n",
      "    justices = subframe['justice'].unique()\n",
      "    justice_combo = combinations(justices,2)\n",
      "    for justice1, justice2 in justice_combo:\n",
      "        graph.add_edge(number_to_name[str(justice1)], number_to_name[str(justice2)], {'weight':0})\n",
      "df_bycaseId = df.groupby('caseId')\n",
      "#for each case, find how each justice voted and add weights to edges for justices who voted the same\n",
      "for ID, subframe in df_bycaseId:\n",
      "    justices_majority =  subframe[(subframe.majority==1)]\n",
      "    justices_majority = justices_majority['justice'].unique()\n",
      "    justice_combo = combinations(justices_majority,2)\n",
      "    for justice1, justice2 in justice_combo:\n",
      "        graph[number_to_name[str(justice1)]][number_to_name[str(justice2)]]['weight'] += 1\n",
      "    justices_desent =  subframe[(subframe.majority==2)]                             \n",
      "    justices_desent = justices_desent['justice'].unique()\n",
      "    justice_combo = combinations(justices_desent,2)\n",
      "    for justice1, justice2 in justice_combo:\n",
      "         graph[number_to_name[str(justice1)]][number_to_name[str(justice2)]]['weight'] += 1"
     ],
     "language": "python",
     "metadata": {},
     "outputs": []
    },
    {
     "cell_type": "code",
     "collapsed": false,
     "input": [
      "#write graph to file for use in gephi\n",
      "nx.write_gexf(graph, 'Justices.gexf')"
     ],
     "language": "python",
     "metadata": {},
     "outputs": []
    },
    {
     "cell_type": "code",
     "collapsed": false,
     "input": [
      "from IPython.display import Image\n",
      "\n",
      "path = './Graph.png'\n",
      "Image(path)"
     ],
     "language": "python",
     "metadata": {},
     "outputs": []
    },
    {
     "cell_type": "markdown",
     "metadata": {},
     "source": [
      "We can see from the gephi graph that there are no voting blocks within the SC justices. The graph's axial dimension represents time with the newest jusitces to the far left. But note, there does not appear to be any subset of justices within a natural court that preferrentially vote together. This seems to again suggest that each justice votes only on the merits of the case and is not influenced by their peers."
     ]
    },
    {
     "cell_type": "markdown",
     "metadata": {},
     "source": [
      "###Case Outcome Prediction\n",
      "\n",
      "Now that we have a decent understanding of who the Justices are and how they tend to vote, it would be interesting to see what sort of predictions can we make based on this knowledge. The first model we will construct is a simply binary decision tree: if a case in a particular issue area is brought forth to be reviewed by the court, how often can we correctly predict the direction the court will vote based upon the voting percentages of the Justices who review the particular case. In order to make this prediction, we will assume that if a justice votes great than 50% of the time in a particular direction (liberal/conservative) on the particular issue area of the case being reviewed, then they will vote that way for the case we are trying to predict the outcome for. To test the accuracy of this prediction, we will compare if we correctly predicted the majority of votes casts liberal/conservative to the database entry 'direction' which records the true direction the court took."
     ]
    },
    {
     "cell_type": "code",
     "collapsed": false,
     "input": [
      "#group the database by unique case:\n",
      "cases = df.groupby('caseId')\n",
      "correct = 0 #counter variable to determine how many cases outcome is predicted\n",
      "number_cases = 0 #counter variable to determine total number of cases in database\n",
      "#iterate over each case and for each justice predict their direction based on past voting history:\n",
      "for ID, case in cases:\n",
      "    number_cases += 1 #update counter \n",
      "    issue = case['issueArea'].unique() #determine issue area of case being reviewed\n",
      "    justices = case['justice'].unique() #determine which justices review the case\n",
      "    lib_vote_total = 0 #tally the total liberal direction votes cast by the court\n",
      "    conserv_vote_total = 0 #tally the total conservative votes case by the court\n",
      "    if not np.isnan(issue): #parse NaN for null values\n",
      "        for justice in justices:\n",
      "            if not np.isnan(justice): #parse Nan for null values\n",
      "                name = number_to_name[str(int(justice))]\n",
      "                justice_profile = (profiles[name])\n",
      "                #if justice votes conservative >50% of the time on particular issueArea, they will like vote\n",
      "                # that way now so add 1 to conservation tally\n",
      "                if justice_profile[str(int(issue))] > 0.5: \n",
      "                    conserv_vote_total += 1\n",
      "                #otherwise, they vote liberal\n",
      "                if justice_profile[str(int(issue))] <= 0.5:\n",
      "                    lib_vote_total += 1\n",
      "        #determine if outcome was correctly predicted\n",
      "        if conserv_vote_total > lib_vote_total:\n",
      "            #if majority of votes are predicted to be conservative and true direction was conservative then\n",
      "            #increase correct tally by 1\n",
      "            if case['decisionDirection'].unique() == 1.0:\n",
      "                correct += 1\n",
      "        if conserv_vote_total <= lib_vote_total:\n",
      "            #if majority of votes are predicted to be liberal and true direction was liberal then\n",
      "            #increase correct tally by 1\n",
      "            if case['decisionDirection'].unique() == 2.0:\n",
      "                correct += 1\n",
      "\n",
      "print 'We can correctly predict {0}% of the time the court''s direction for a case'.format(100*correct/number_cases)"
     ],
     "language": "python",
     "metadata": {},
     "outputs": []
    },
    {
     "cell_type": "markdown",
     "metadata": {},
     "source": [
      "While the proceeding correction rate is not exceedingly high, this results is not insignficant. In need, many proffesional gamblers work on margins much than 60%. However, is there a way to increase the prediction rate for direction of the court will take on a case? The next section will attempt to answer this question with the use of a more sophisticated prediction model, namely random forrest classification.\n",
      "\n",
      "In order to use a random forrest classifier, we must select features that are binary or easily made binary and what are target. As mentioned previously, our target will be to predict the direction the court take on a particular case (either liberal/conservative). In order to reach this target, we will again choose issue area to be a feature but now combine to that the features lawType and certReason. The reasons lawType and certReason are chosen is because they are relatively easier to make binary and contain what we believed to be subsitive information on what the outcome of the case would be. To give more detail on what these new features are, 'lawType'is the legal provision considered by the court. In other words, lawType is variable that states whether the case is concerning the Constitution, Constitutional Amendments, Federal Statutes, Court Rules, or less frequent law types. 'certReason' is a 13 point feature that indicates the reason the court took up the case for review, such as to resolve putative conflict, conflict between federal court and state court, to resolve important or significant question etc.\n",
      "We vectorize these aformentioned features in a sparse matrix that is dimension (case number, feature length) and apply sklearn's RandomForestClassifier() module on a training subset of the data. Then we apply this regression the a text subset of the data to see how well the model works. To increase the precision of the model of the stochastic regression model, we run multiple trials and average the overall prediction rates provided to obtain a generalize rule on how well this new model works."
     ]
    },
    {
     "cell_type": "code",
     "collapsed": false,
     "input": [
      "#group the data by justice\n",
      "justice_df = df.groupby('justice')\n",
      "data = []\n",
      "#iterated over each justce and obtain values of features of interest\n",
      "for ID, subframe in justice_df:\n",
      "    issueAreas = []\n",
      "    lawTypes = []\n",
      "    certReasons = []\n",
      "    directions = []\n",
      "    cases = subframe.groupby('caseId')\n",
      "    #for each case, obtain the values of the features of interest and append them to appropriate list to \n",
      "    #aggregate values\n",
      "    for ID, case in cases:\n",
      "        issueAreas.append(case['issueArea'].values)\n",
      "        lawTypes.append(case['lawType'].values)\n",
      "        certReasons.append(case['certReason'].values)\n",
      "        directions.append(case['direction'].values)\n",
      "    #append net data for justice to list\n",
      "    data.append((issueAreas, lawTypes, certReasons, directions))"
     ],
     "language": "python",
     "metadata": {},
     "outputs": []
    },
    {
     "cell_type": "code",
     "collapsed": false,
     "input": [
      "classifiers = []\n",
      "score_sum = 0\n",
      "trials = 10\n",
      "import sklearn.cross_validation\n",
      "import sklearn.ensemble\n",
      "\n",
      "#run multiple trials so that randomness of stochastic model is reduced and we have more precision of how well our\n",
      "#model truly fits the data:\n",
      "for trial in xrange(trials):\n",
      "    #for each justice, creat a model of how well we can predict direction\n",
      "    for justice in xrange(len(data)):\n",
      "        justice_data = data[justice]\n",
      "        issueAreas = justice_data[0]\n",
      "        number_cases = len(issueAreas)\n",
      "        lawTypes = justice_data[1]\n",
      "        certReasons = justice_data[2]\n",
      "        directions = justice_data[3]\n",
      "        #create matrices to hold the binary version of features of interest\n",
      "        issuesArea_features_matrix = np.zeros((number_cases, 14))\n",
      "        lawType_features_matrix = np.zeros((number_cases, 9))\n",
      "        certReason_features_matrix = np.zeros((number_cases, 13))\n",
      "        direction_vector = np.zeros((number_cases,1))\n",
      "        #iterate over each case and append data to matrices\n",
      "        for case in xrange(number_cases):\n",
      "            #print justice, case\n",
      "            if (directions[case] == 1.0 or directions[case] ==2.0) and not np.isnan(directions[case]):\n",
      "                if directions[case] == 1.0:\n",
      "                    direction_vector[case, 0] = 1\n",
      "                if directions[case] == 2.0:\n",
      "                    direction_vector[case, 0] = 0\n",
      "                if not np.isnan(issueAreas[case]): #filter Nan\n",
      "                    issuesArea_features_matrix[case, int(issueAreas[case]-1)] = 1 \n",
      "                if not np.isnan(lawTypes[case]): #filter Nan\n",
      "                    lawType_features_matrix[case, int(lawTypes[case]-1)] = 1\n",
      "                if not np.isnan(certReasons[case]): #filter Nan\n",
      "                    certReason_features_matrix[case, int(certReasons[case]-1)] = 1\n",
      "        features_matrix = np.concatenate((issuesArea_features_matrix,lawType_features_matrix, certReason_features_matrix), axis=1)\n",
      "        #split data in test and training set, set random_seed to int so that repeate trials work with same data\n",
      "        xtrain, xtest, ytrain, ytest= sklearn.cross_validation.train_test_split(features_matrix, direction_vector.ravel(), test_size =0.25, random_state=3)\n",
      "        clf = sklearn.ensemble.RandomForestClassifier()\n",
      "        #create model:\n",
      "        clf.fit(xtrain, ytrain)\n",
      "        #print clf.score(xtest, ytest)\n",
      "        #print clf.feature_importances_\n",
      "        #aggregate score the model\n",
      "        score_sum += clf.score(xtest, ytest)\n",
      "        #store classifiers for later issue\n",
      "        classifiers.append(clf)\n",
      "        \n",
      "        \n",
      "print 'On average we can predict the direction a Justice will take {0}% of the time'.format(score_sum/(36*trials))"
     ],
     "language": "python",
     "metadata": {},
     "outputs": []
    },
    {
     "cell_type": "markdown",
     "metadata": {},
     "source": [
      "###Conclusion\n",
      "\n",
      "Success! On average, we can now predict the direction 5% better than just using the previous voting patterns. On a finally note, while one might raise the question of why try to predict direction and not actual outcome, prediction of direction is actually a value result. Each case that is brought forth to be reviewed by the SC has much nuiance and actual decisions the court makes has to account for this variability of cases. Thus, to try to attempt to predict the actual decisions would require a fund of knowledge of law and is beyond the scope of this project. However, ultimately each decision that is rendered by the SC has a direction of affirming or staying a liberl/conservative question. Therefore, to someone who could analyze the case that is before the court and figure out whether its a liberal or conservative issue, our model would be an invaluable tool in predicting the outcome the case."
     ]
    },
    {
     "cell_type": "markdown",
     "metadata": {},
     "source": [
      "#Section IV - Final Conclusion\n",
      "\n",
      "Final Bullshit"
     ]
    }
   ],
   "metadata": {}
  }
 ]
}