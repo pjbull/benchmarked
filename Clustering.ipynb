{
 "metadata": {
  "name": ""
 },
 "nbformat": 3,
 "nbformat_minor": 0,
 "worksheets": [
  {
   "cells": [
    {
     "cell_type": "code",
     "collapsed": false,
     "input": [
      "%matplotlib inline\n",
      "import json\n",
      "import requests\n",
      "import re\n",
      "from __future__ import division\n",
      "import scipy.stats as stats\n",
      "import numpy as np\n",
      "import pandas as pd\n",
      "from collections import Counter\n",
      "import matplotlib.pyplot as plt\n",
      "from matplotlib import rcParams\n",
      "import matplotlib.cm as cm\n",
      "import matplotlib as mpl\n",
      "from collections import Counter\n",
      "\n",
      "#colorbrewer2 Dark2 qualitative color table\n",
      "dark2_colors = [(0.10588235294117647, 0.6196078431372549, 0.4666666666666667),\n",
      "                (0.8509803921568627, 0.37254901960784315, 0.00784313725490196),\n",
      "                (0.4588235294117647, 0.4392156862745098, 0.7019607843137254),\n",
      "                (0.9058823529411765, 0.1607843137254902, 0.5411764705882353),\n",
      "                (0.4, 0.6509803921568628, 0.11764705882352941),\n",
      "                (0.9019607843137255, 0.6705882352941176, 0.00784313725490196),\n",
      "                (0.6509803921568628, 0.4627450980392157, 0.11372549019607843)]\n",
      "\n",
      "rcParams['figure.figsize'] = (13, 8)\n",
      "rcParams['figure.dpi'] = 150\n",
      "rcParams['axes.color_cycle'] = dark2_colors\n",
      "rcParams['lines.linewidth'] = 2\n",
      "rcParams['axes.facecolor'] = 'white'\n",
      "rcParams['font.size'] = 14\n",
      "rcParams['patch.edgecolor'] = 'white'\n",
      "rcParams['patch.facecolor'] = dark2_colors[0]\n",
      "rcParams['font.family'] = 'StixGeneral'"
     ],
     "language": "python",
     "metadata": {},
     "outputs": [],
     "prompt_number": 5
    },
    {
     "cell_type": "code",
     "collapsed": false,
     "input": [
      "data = pd.read_csv('data/SCDB_2013_01_justiceCentered_Citation_Cleaned_Party.csv')"
     ],
     "language": "python",
     "metadata": {},
     "outputs": [],
     "prompt_number": 6
    },
    {
     "cell_type": "code",
     "collapsed": false,
     "input": [
      "data.columns"
     ],
     "language": "python",
     "metadata": {},
     "outputs": [
      {
       "metadata": {},
       "output_type": "pyout",
       "prompt_number": 7,
       "text": [
        "Index([u'Unnamed: 0', u'caseId', u'docketId', u'caseIssuesId', u'voteId', u'dateDecision', u'usCite', u'sctCite', u'ledCite', u'lexisCite', u'term', u'chief', u'caseName', u'petitioner', u'petitionerState', u'respondent', u'respondentState', u'jurisdiction', u'adminAction', u'adminActionState', u'threeJudgeFdc', u'caseOrigin', u'caseOriginState', u'caseSource', u'caseSourceState', u'lcDisagreement', u'certReason', u'lcDisposition', u'lcDispositionDirection', u'declarationUncon', u'caseDisposition', u'partyWinning', u'precedentAlteration', u'issueArea', u'decisionDirection', u'decisionDirectionDissent', u'authorityDecision1', u'authorityDecision2', u'lawType', u'majOpinWriter', u'splitVote', u'majVotes', u'minVotes', u'justice', u'justiceName', u'vote', u'opinion', u'direction', u'majority', u'firstAgreement', u'secondAgreement', u'appointers', u'party'], dtype=object)"
       ]
      }
     ],
     "prompt_number": 7
    },
    {
     "cell_type": "code",
     "collapsed": false,
     "input": [],
     "language": "python",
     "metadata": {},
     "outputs": []
    }
   ],
   "metadata": {}
  }
 ]
}