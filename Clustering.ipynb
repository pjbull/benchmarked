{
 "metadata": {
  "name": ""
 },
 "nbformat": 3,
 "nbformat_minor": 0,
 "worksheets": [
  {
   "cells": [
    {
     "cell_type": "code",
     "collapsed": false,
     "input": [
      "%matplotlib inline\n",
      "import json\n",
      "import requests\n",
      "import re\n",
      "from __future__ import division\n",
      "import scipy.stats as stats\n",
      "import math\n",
      "import numpy as np\n",
      "import pandas as pd\n",
      "from collections import Counter\n",
      "import matplotlib.pyplot as plt\n",
      "from matplotlib import rcParams\n",
      "import matplotlib.cm as cm\n",
      "import matplotlib as mpl\n",
      "from collections import Counter\n",
      "\n",
      "print(__doc__)\n",
      "\n",
      "from time import time\n",
      "import numpy as np\n",
      "import pylab as pl\n",
      "\n",
      "from sklearn import metrics\n",
      "from sklearn.cluster import KMeans\n",
      "from sklearn.decomposition import PCA\n",
      "from sklearn.preprocessing import scale\n",
      "import sklearn.preprocessing, sklearn.decomposition,sklearn.linear_model, sklearn.pipeline, sklearn.metrics\n",
      "from sklearn_pandas import DataFrameMapper, cross_val_score\n",
      "\n",
      "\n",
      "#colorbrewer2 Dark2 qualitative color table\n",
      "dark2_colors = [(0.10588235294117647, 0.6196078431372549, 0.4666666666666667),\n",
      "                (0.8509803921568627, 0.37254901960784315, 0.00784313725490196),\n",
      "                (0.4588235294117647, 0.4392156862745098, 0.7019607843137254),\n",
      "                (0.9058823529411765, 0.1607843137254902, 0.5411764705882353),\n",
      "                (0.4, 0.6509803921568628, 0.11764705882352941),\n",
      "                (0.9019607843137255, 0.6705882352941176, 0.00784313725490196),\n",
      "                (0.6509803921568628, 0.4627450980392157, 0.11372549019607843)]\n",
      "\n",
      "rcParams['figure.figsize'] = (16, 11)\n",
      "rcParams['figure.dpi'] = 150\n",
      "rcParams['axes.color_cycle'] = dark2_colors\n",
      "rcParams['lines.linewidth'] = 2\n",
      "rcParams['axes.facecolor'] = 'white'\n",
      "rcParams['font.size'] = 14\n",
      "rcParams['patch.edgecolor'] = 'white'\n",
      "rcParams['patch.facecolor'] = dark2_colors[0]\n",
      "rcParams['font.family'] = 'StixGeneral'"
     ],
     "language": "python",
     "metadata": {},
     "outputs": [
      {
       "output_type": "stream",
       "stream": "stdout",
       "text": [
        "Automatically created module for IPython interactive environment\n"
       ]
      }
     ],
     "prompt_number": 28
    },
    {
     "cell_type": "code",
     "collapsed": false,
     "input": [
      "df = pd.read_csv('data/SCDB_2013_01_justiceCentered_Citation_Cleaned_Party.csv')"
     ],
     "language": "python",
     "metadata": {},
     "outputs": [],
     "prompt_number": 2
    },
    {
     "cell_type": "code",
     "collapsed": false,
     "input": [
      "#Construct the 3 ratios: Liberal, Opinion Written, Dissent with majority\n",
      "justices = []\n",
      "ratio_liberal = []\n",
      "ratio_opinion_written = []\n",
      "ratio_dissent_maj = []\n",
      "for justice in df.justiceName.unique():\n",
      "    if type(justice) is str:\n",
      "        justices.append(justice)\n",
      "        temp = df[df.justiceName==justice]\n",
      "        ratio_liberal.append(sum(temp.direction==2)/len(temp.direction))\n",
      "        ratio_opinion_written.append(sum(temp.opinion==2)/len(temp.opinion)+sum(temp.opinion==3)/len(temp.opinion))\n",
      "        ratio_dissent_maj.append(sum(temp.opinion==2)/len(temp.opinion))\n",
      "    "
     ],
     "language": "python",
     "metadata": {},
     "outputs": [],
     "prompt_number": 37
    },
    {
     "cell_type": "code",
     "collapsed": false,
     "input": [
      "data = pd.DataFrame({'liberal':ratio_liberal,'opinion':ratio_opinion_written,\n",
      "                     'dissent':ratio_dissent_maj})"
     ],
     "language": "python",
     "metadata": {},
     "outputs": [],
     "prompt_number": 47
    },
    {
     "cell_type": "code",
     "collapsed": false,
     "input": [
      "#mapper = DataFrameMapper([('chief', sklearn.preprocessing.LabelBinarizer()),])\n",
      "#data = mapper.fit_transform(temp)"
     ],
     "language": "python",
     "metadata": {},
     "outputs": [],
     "prompt_number": 6
    },
    {
     "cell_type": "code",
     "collapsed": false,
     "input": [
      "###############################################################################\n",
      "# Visualize the results on PCA-reduced data\n",
      "wss = []\n",
      "for nclusters in range(1,15):\n",
      "    reduced_data = PCA(n_components=2).fit_transform(data)\n",
      "    kmeans = KMeans(init='k-means++', n_clusters=nclusters, n_init=10)\n",
      "    kmeans.fit(reduced_data)\n",
      "    \n",
      "    res = pd.DataFrame({'class':list(kmeans.predict(reduced_data)),\n",
      "                        'coord1':list(reduced_data[:,0]),\n",
      "                        'coord2':list(reduced_data[:,1])})\n",
      "    centers = pd.DataFrame({'class':range(nclusters),\n",
      "                            'coordx':list(kmeans.cluster_centers_[:,0]),\n",
      "                            'coordy':list(kmeans.cluster_centers_[:,1])})\n",
      "    \n",
      "    res = pd.merge(res,centers,left_on='class',right_on='class',how='left')\n",
      "    \n",
      "    wss.append(sum((res.coord1-res.coordx)**2) + sum((res.coord2-res.coordy)**2))\n",
      "    \n",
      "    if nclusters==4:\n",
      "        # Step size of the mesh. Decrease to increase the quality of the VQ.\n",
      "        h = .002     # point in the mesh [x_min, m_max]x[y_min, y_max].\n",
      "        \n",
      "        # Plot the decision boundary. For that, we will assign a color to each\n",
      "        x_min, x_max = reduced_data[:, 0].min() -.3 , reduced_data[:, 0].max() + .3\n",
      "        y_min, y_max = reduced_data[:, 1].min() -.3, reduced_data[:, 1].max() +.3\n",
      "        xx, yy = np.meshgrid(np.arange(x_min, x_max, h), np.arange(y_min, y_max, h))\n",
      "        \n",
      "        # Obtain labels for each point in mesh. Use last trained model.\n",
      "        Z = kmeans.predict(np.c_[xx.ravel(), yy.ravel()])\n",
      "        \n",
      "        # Put the result into a color plot\n",
      "        Z = Z.reshape(xx.shape)\n",
      "        pl.figure(1)\n",
      "        pl.clf()\n",
      "        pl.imshow(Z, interpolation='nearest',\n",
      "                  extent=(xx.min(), xx.max(), yy.min(), yy.max()),\n",
      "                  cmap=pl.cm.Blues_r,\n",
      "                  aspect='auto', origin='lower')#pl.cm.Paired\n",
      "        \n",
      "        pl.plot(reduced_data[:, 0], reduced_data[:, 1], 'k.', markersize=10)\n",
      "        # Plot the centroids as a white X\n",
      "        centroids = kmeans.cluster_centers_\n",
      "        pl.scatter(centroids[:, 0], centroids[:, 1],\n",
      "                   marker='x', s=169, linewidths=3,\n",
      "                   color='w', zorder=10)\n",
      "        pl.title('K-means clustering on the justices of the Supreme Court\\n'\n",
      "                 'Centroids are marked with white cross')\n",
      "        pl.xlim(x_min, x_max)\n",
      "        pl.ylim(y_min, y_max)\n",
      "        pl.xticks(())\n",
      "        pl.yticks(())\n",
      "        pl.show()\n",
      "\n",
      "plt.plot(range(1,15),wss,'+-',markersize=10)\n",
      "plt.title('Cross-Validation on the Number of Clusters\\n'\n",
      "           'Within Sum of Squares')\n",
      "plt.xlabel('Number of Clusters')\n",
      "plt.ylabel('Within Sum of Squares')\n",
      "plt.xlim(1,14)\n",
      "plt.show()"
     ],
     "language": "python",
     "metadata": {},
     "outputs": [
      {
       "metadata": {},
       "output_type": "display_data",
       "png": "[encoded data removed]",
       "text": [
        "<matplotlib.figure.Figure at 0x120bd048>"
       ]
      }
     ],
     "prompt_number": "*"
    },
    {
     "cell_type": "code",
     "collapsed": false,
     "input": [],
     "language": "python",
     "metadata": {},
     "outputs": [],
     "prompt_number": "*"
    }
   ],
   "metadata": {}
  }
 ]
}