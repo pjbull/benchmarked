{
 "metadata": {
  "name": ""
 },
 "nbformat": 3,
 "nbformat_minor": 0,
 "worksheets": [
  {
   "cells": [
    {
     "cell_type": "code",
     "collapsed": false,
     "input": [
      "import pandas as pd\n",
      "import numpy as np\n",
      "from xml.etree import ElementTree as etree\n",
      "import os"
     ],
     "language": "python",
     "metadata": {},
     "outputs": [],
     "prompt_number": 2
    },
    {
     "cell_type": "code",
     "collapsed": false,
     "input": [
      "class ScotusOpinion:\n",
      "    def __init__(self, opinion):\n",
      "        self.us_cite = opinion.attrib.get('federal_cite_one', False)        \n",
      "        self.case_name = opinion.attrib.get('case_name', False)\n",
      "        self.cl_id = set([opinion.attrib.get('id', False)])\n",
      "        self.cl_cited_by = set(opinion.attrib.get('cited_by', \",\").split(','))\n",
      "\n",
      "    # if we have to merge, track cl_id and cl_cited_by\n",
      "    def merge(self, other_scop):\n",
      "        #set unions\n",
      "        self.cl_id |= other_scop.cl_id\n",
      "        self.cl_cited_by |= other_scop.cl_cited_by"
     ],
     "language": "python",
     "metadata": {},
     "outputs": [],
     "prompt_number": 3
    },
    {
     "cell_type": "code",
     "collapsed": false,
     "input": [
      "opinions_dict = {}\n",
      "\n",
      "# for all the scotus*.xml files:\n",
      "for scotus_file in os.listdir(\"..\"):\n",
      "    if \"scotus\" in scotus_file:\n",
      "        print \"PARSING \", scotus_file \n",
      "        \n",
      "        # grab/release handles to save memory\n",
      "        with open('../' + scotus_file, 'r') as f:\n",
      "            \n",
      "            # parse the file and get the opinions\n",
      "            et=etree.fromstring(f.read())\n",
      "            opinion_elems = et.findall('./opinion')\n",
      "            \n",
      "            # add the attrs from the opinion to the dict\n",
      "            for opinion in opinion_elems:\n",
      "                scop = ScotusOpinion(opinion)\n",
      "                key = scop.us_cite\n",
      "                \n",
      "                # can't do anything with no citation\n",
      "                # bad data - discard for now, maybe try to clean up later?\n",
      "                if not key or len(key) == 0:\n",
      "                    pass\n",
      "                elif key in opinions_dict.keys():\n",
      "                    opinions_dict[key].merge(scop)\n",
      "                else:\n",
      "                    opinions_dict[key] = scop"
     ],
     "language": "python",
     "metadata": {},
     "outputs": [
      {
       "output_type": "stream",
       "stream": "stdout",
       "text": [
        "PARSING  scotus1946.xml\n",
        "PARSING "
       ]
      },
      {
       "output_type": "stream",
       "stream": "stdout",
       "text": [
        " scotus1947.xml\n",
        "PARSING "
       ]
      },
      {
       "output_type": "stream",
       "stream": "stdout",
       "text": [
        " scotus1948.xml\n",
        "PARSING "
       ]
      },
      {
       "output_type": "stream",
       "stream": "stdout",
       "text": [
        " scotus1949.xml\n",
        "PARSING "
       ]
      },
      {
       "output_type": "stream",
       "stream": "stdout",
       "text": [
        " scotus1950.xml\n",
        "PARSING  scotus1951.xml\n",
        "PARSING "
       ]
      },
      {
       "output_type": "stream",
       "stream": "stdout",
       "text": [
        " scotus1952.xml\n",
        "PARSING  scotus1953.xml\n",
        "PARSING "
       ]
      },
      {
       "output_type": "stream",
       "stream": "stdout",
       "text": [
        " scotus1954.xml\n",
        "PARSING  scotus1955.xml\n",
        "PARSING  scotus1956.xml\n",
        "PARSING "
       ]
      },
      {
       "output_type": "stream",
       "stream": "stdout",
       "text": [
        " scotus1957.xml\n",
        "PARSING "
       ]
      },
      {
       "output_type": "stream",
       "stream": "stdout",
       "text": [
        " scotus1958.xml\n",
        "PARSING "
       ]
      },
      {
       "output_type": "stream",
       "stream": "stdout",
       "text": [
        " scotus1959.xml\n",
        "PARSING "
       ]
      },
      {
       "output_type": "stream",
       "stream": "stdout",
       "text": [
        " scotus1960.xml\n",
        "PARSING "
       ]
      },
      {
       "output_type": "stream",
       "stream": "stdout",
       "text": [
        " scotus1961.xml\n",
        "PARSING "
       ]
      },
      {
       "output_type": "stream",
       "stream": "stdout",
       "text": [
        " scotus1962.xml\n",
        "PARSING "
       ]
      },
      {
       "output_type": "stream",
       "stream": "stdout",
       "text": [
        " scotus1963.xml\n",
        "PARSING "
       ]
      },
      {
       "output_type": "stream",
       "stream": "stdout",
       "text": [
        " scotus1964.xml\n",
        "PARSING "
       ]
      },
      {
       "output_type": "stream",
       "stream": "stdout",
       "text": [
        " scotus1965.xml\n",
        "PARSING "
       ]
      },
      {
       "output_type": "stream",
       "stream": "stdout",
       "text": [
        " scotus1966.xml\n",
        "PARSING "
       ]
      },
      {
       "output_type": "stream",
       "stream": "stdout",
       "text": [
        " scotus1967.xml\n",
        "PARSING "
       ]
      },
      {
       "output_type": "stream",
       "stream": "stdout",
       "text": [
        " scotus1968.xml\n",
        "PARSING "
       ]
      },
      {
       "output_type": "stream",
       "stream": "stdout",
       "text": [
        " scotus1969.xml\n",
        "PARSING "
       ]
      },
      {
       "output_type": "stream",
       "stream": "stdout",
       "text": [
        " scotus1970.xml\n",
        "PARSING "
       ]
      },
      {
       "output_type": "stream",
       "stream": "stdout",
       "text": [
        " scotus1971.xml\n",
        "PARSING "
       ]
      },
      {
       "output_type": "stream",
       "stream": "stdout",
       "text": [
        " scotus1972.xml\n",
        "PARSING "
       ]
      },
      {
       "output_type": "stream",
       "stream": "stdout",
       "text": [
        " scotus1973.xml\n",
        "PARSING "
       ]
      },
      {
       "output_type": "stream",
       "stream": "stdout",
       "text": [
        " scotus1974.xml\n",
        "PARSING "
       ]
      },
      {
       "output_type": "stream",
       "stream": "stdout",
       "text": [
        " scotus1975.xml\n",
        "PARSING "
       ]
      },
      {
       "output_type": "stream",
       "stream": "stdout",
       "text": [
        " scotus1976.xml\n",
        "PARSING "
       ]
      },
      {
       "output_type": "stream",
       "stream": "stdout",
       "text": [
        " scotus1977.xml\n",
        "PARSING "
       ]
      },
      {
       "output_type": "stream",
       "stream": "stdout",
       "text": [
        " scotus1978.xml\n",
        "PARSING "
       ]
      },
      {
       "output_type": "stream",
       "stream": "stdout",
       "text": [
        " scotus1979.xml\n",
        "PARSING "
       ]
      },
      {
       "output_type": "stream",
       "stream": "stdout",
       "text": [
        " scotus1980.xml\n",
        "PARSING "
       ]
      },
      {
       "output_type": "stream",
       "stream": "stdout",
       "text": [
        " scotus1981.xml\n",
        "PARSING "
       ]
      },
      {
       "output_type": "stream",
       "stream": "stdout",
       "text": [
        " scotus1982.xml\n",
        "PARSING "
       ]
      },
      {
       "output_type": "stream",
       "stream": "stdout",
       "text": [
        " scotus1983.xml\n",
        "PARSING "
       ]
      },
      {
       "output_type": "stream",
       "stream": "stdout",
       "text": [
        " scotus1984.xml\n",
        "PARSING "
       ]
      },
      {
       "output_type": "stream",
       "stream": "stdout",
       "text": [
        " scotus1985.xml\n",
        "PARSING "
       ]
      },
      {
       "output_type": "stream",
       "stream": "stdout",
       "text": [
        " scotus1986.xml\n",
        "PARSING "
       ]
      },
      {
       "output_type": "stream",
       "stream": "stdout",
       "text": [
        " scotus1987.xml\n",
        "PARSING "
       ]
      },
      {
       "output_type": "stream",
       "stream": "stdout",
       "text": [
        " scotus1988.xml\n",
        "PARSING "
       ]
      },
      {
       "output_type": "stream",
       "stream": "stdout",
       "text": [
        " scotus1989.xml\n",
        "PARSING "
       ]
      },
      {
       "output_type": "stream",
       "stream": "stdout",
       "text": [
        " scotus1990.xml\n",
        "PARSING "
       ]
      },
      {
       "output_type": "stream",
       "stream": "stdout",
       "text": [
        " scotus1991.xml\n",
        "PARSING "
       ]
      },
      {
       "output_type": "stream",
       "stream": "stdout",
       "text": [
        " scotus1992.xml\n",
        "PARSING "
       ]
      },
      {
       "output_type": "stream",
       "stream": "stdout",
       "text": [
        " scotus1993.xml\n",
        "PARSING "
       ]
      },
      {
       "output_type": "stream",
       "stream": "stdout",
       "text": [
        " scotus1994.xml\n",
        "PARSING "
       ]
      },
      {
       "output_type": "stream",
       "stream": "stdout",
       "text": [
        " scotus1995.xml\n",
        "PARSING "
       ]
      },
      {
       "output_type": "stream",
       "stream": "stdout",
       "text": [
        " scotus1996.xml\n",
        "PARSING "
       ]
      },
      {
       "output_type": "stream",
       "stream": "stdout",
       "text": [
        " scotus1997.xml\n",
        "PARSING "
       ]
      },
      {
       "output_type": "stream",
       "stream": "stdout",
       "text": [
        " scotus1998.xml\n",
        "PARSING "
       ]
      },
      {
       "output_type": "stream",
       "stream": "stdout",
       "text": [
        " scotus1999.xml\n",
        "PARSING "
       ]
      },
      {
       "output_type": "stream",
       "stream": "stdout",
       "text": [
        " scotus2000.xml\n",
        "PARSING "
       ]
      },
      {
       "output_type": "stream",
       "stream": "stdout",
       "text": [
        " scotus2001.xml\n",
        "PARSING "
       ]
      },
      {
       "output_type": "stream",
       "stream": "stdout",
       "text": [
        " scotus2002.xml\n",
        "PARSING "
       ]
      },
      {
       "output_type": "stream",
       "stream": "stdout",
       "text": [
        " scotus2003.xml\n",
        "PARSING "
       ]
      },
      {
       "output_type": "stream",
       "stream": "stdout",
       "text": [
        " scotus2004.xml\n",
        "PARSING "
       ]
      },
      {
       "output_type": "stream",
       "stream": "stdout",
       "text": [
        " scotus2005.xml\n",
        "PARSING "
       ]
      },
      {
       "output_type": "stream",
       "stream": "stdout",
       "text": [
        " scotus2006.xml\n",
        "PARSING "
       ]
      },
      {
       "output_type": "stream",
       "stream": "stdout",
       "text": [
        " scotus2007.xml\n",
        "PARSING "
       ]
      },
      {
       "output_type": "stream",
       "stream": "stdout",
       "text": [
        " scotus2008.xml\n",
        "PARSING "
       ]
      },
      {
       "output_type": "stream",
       "stream": "stdout",
       "text": [
        " scotus2009.xml\n",
        "PARSING "
       ]
      },
      {
       "output_type": "stream",
       "stream": "stdout",
       "text": [
        " scotus2010.xml\n",
        "PARSING "
       ]
      },
      {
       "output_type": "stream",
       "stream": "stdout",
       "text": [
        " scotus2011.xml\n",
        "PARSING "
       ]
      },
      {
       "output_type": "stream",
       "stream": "stdout",
       "text": [
        " scotus2012.xml\n"
       ]
      }
     ],
     "prompt_number": 4
    },
    {
     "cell_type": "code",
     "collapsed": false,
     "input": [
      "data_frame_dictionary = {'usCite':[],\n",
      "                         'case_name':[],\n",
      "                         'cl_id':[],\n",
      "                         'cl_cited_by':[],\n",
      "                         'usCite_cited_by':[]}\n",
      "\n",
      "clid_to_us_cite_map = {}\n",
      "\n",
      "for uscite in opinions_dict:\n",
      "    scop = opinions_dict[uscite]\n",
      "    \n",
      "    data_frame_dictionary['usCite'].append(uscite)\n",
      "    data_frame_dictionary['case_name'].append(scop.case_name)\n",
      "    data_frame_dictionary['cl_id'].append(scop.cl_id)\n",
      "    data_frame_dictionary['cl_cited_by'].append(scop.cl_cited_by)\n",
      "    data_frame_dictionary['usCite_cited_by'].append('')\n",
      "    \n",
      "    for cls in scop.cl_id:\n",
      "        clid_to_us_cite_map[cls] = uscite\n",
      "        \n",
      "\n",
      "scotus_df = pd.DataFrame.from_dict(data_frame_dictionary)"
     ],
     "language": "python",
     "metadata": {},
     "outputs": [],
     "prompt_number": 5
    },
    {
     "cell_type": "code",
     "collapsed": false,
     "input": [
      "# fill in usCite_cited_by with usCite values for cases we understand\n",
      "def cl_to_uscite(row):\n",
      "    us_cites = set()\n",
      "    for cl_id in row['cl_cited_by']:\n",
      "        cite_val = clid_to_us_cite_map.get(cl_id, None)\n",
      "        if cite_val is not None:\n",
      "            us_cites.update([cite_val])\n",
      "    return us_cites\n",
      "\n",
      "us_cite_rows  = scotus_df.apply(cl_to_uscite, axis=1)\n",
      "scotus_df['usCite_cited_by'] =  us_cite_rows\n",
      "scotus_df.head(5)"
     ],
     "language": "python",
     "metadata": {},
     "outputs": [
      {
       "html": [
        "<div style=\"max-height:1000px;max-width:1500px;overflow:auto;\">\n",
        "<table border=\"1\" class=\"dataframe\">\n",
        "  <thead>\n",
        "    <tr style=\"text-align: right;\">\n",
        "      <th></th>\n",
        "      <th>case_name</th>\n",
        "      <th>cl_cited_by</th>\n",
        "      <th>cl_id</th>\n",
        "      <th>usCite</th>\n",
        "      <th>usCite_cited_by</th>\n",
        "    </tr>\n",
        "  </thead>\n",
        "  <tbody>\n",
        "    <tr>\n",
        "      <th>0</th>\n",
        "      <td>                                     Doe v. Miller</td>\n",
        "      <td>                               set([])</td>\n",
        "      <td>                                    set([1992699])</td>\n",
        "      <td> 126 S. Ct. 757</td>\n",
        "      <td>                                           set([])</td>\n",
        "    </tr>\n",
        "    <tr>\n",
        "      <th>1</th>\n",
        "      <td> Betty Evans, Individually and as Next Friend A...</td>\n",
        "      <td> set([110151, 112418, 110051, 446964])</td>\n",
        "      <td>                                     set([110050])</td>\n",
        "      <td>   440 U.S. 987</td>\n",
        "      <td> set([495 U.S. 149, 440 U.S. 1301, 443 U.S. 1306])</td>\n",
        "    </tr>\n",
        "    <tr>\n",
        "      <th>2</th>\n",
        "      <td>                         Estrada v. Garcia, Warden</td>\n",
        "      <td>                               set([])</td>\n",
        "      <td> set([123584, 123583, 123582, 123581, 123580, 1...</td>\n",
        "      <td>   537 U.S. 904</td>\n",
        "      <td>                                           set([])</td>\n",
        "    </tr>\n",
        "    <tr>\n",
        "      <th>3</th>\n",
        "      <td>                  Carlos Marcello v. United States</td>\n",
        "      <td>                               set([])</td>\n",
        "      <td>                                     set([108259])</td>\n",
        "      <td>  400 U.S. 1208</td>\n",
        "      <td>                                           set([])</td>\n",
        "    </tr>\n",
        "    <tr>\n",
        "      <th>4</th>\n",
        "      <td>                               Crowley v. McKinney</td>\n",
        "      <td>                               set([])</td>\n",
        "      <td>                                    set([1991630])</td>\n",
        "      <td> 126 S. Ct. 750</td>\n",
        "      <td>                                           set([])</td>\n",
        "    </tr>\n",
        "  </tbody>\n",
        "</table>\n",
        "</div>"
       ],
       "metadata": {},
       "output_type": "pyout",
       "prompt_number": 6,
       "text": [
        "                                           case_name                            cl_cited_by                                              cl_id          usCite                                    usCite_cited_by\n",
        "0                                      Doe v. Miller                                set([])                                     set([1992699])  126 S. Ct. 757                                            set([])\n",
        "1  Betty Evans, Individually and as Next Friend A...  set([110151, 112418, 110051, 446964])                                      set([110050])    440 U.S. 987  set([495 U.S. 149, 440 U.S. 1301, 443 U.S. 1306])\n",
        "2                          Estrada v. Garcia, Warden                                set([])  set([123584, 123583, 123582, 123581, 123580, 1...    537 U.S. 904                                            set([])\n",
        "3                   Carlos Marcello v. United States                                set([])                                      set([108259])   400 U.S. 1208                                            set([])\n",
        "4                                Crowley v. McKinney                                set([])                                     set([1991630])  126 S. Ct. 750                                            set([])"
       ]
      }
     ],
     "prompt_number": 6
    },
    {
     "cell_type": "code",
     "collapsed": false,
     "input": [
      "# create a directed graph for the citations\n",
      "import networkx as nx\n",
      "cite_graph = nx.DiGraph()\n",
      "\n",
      "for row in scotus_df.iterrows():\n",
      "    for cite_by in row[1]['usCite_cited_by']:\n",
      "        if cite_by != '' and row[1]['usCite']!='':\n",
      "            \n",
      "            # add directed edge from citing case to this case\n",
      "            cite_graph.add_edge(cite_by, row[1]['usCite'])\n",
      "            #cite_graph[row[1]['usCite']]['case_name'] = row[1]['case_name']"
     ],
     "language": "python",
     "metadata": {},
     "outputs": [],
     "prompt_number": 7
    },
    {
     "cell_type": "code",
     "collapsed": false,
     "input": [
      "#calculate page rank for each case\n",
      "pr = nx.algorithms.pagerank(cite_graph)\n",
      "#   = nx.algorithms."
     ],
     "language": "python",
     "metadata": {},
     "outputs": [],
     "prompt_number": 8
    },
    {
     "cell_type": "code",
     "collapsed": false,
     "input": [
      "nx.write_gexf(cite_graph, 'cites_gephi.gexf')"
     ],
     "language": "python",
     "metadata": {},
     "outputs": [],
     "prompt_number": 10
    },
    {
     "cell_type": "code",
     "collapsed": false,
     "input": [
      "import operator\n",
      "pr_sorted = sorted(pr.iteritems(), key=operator.itemgetter(1), reverse=True)\n",
      "pr_df = pd.DataFrame(pr_sorted, columns=['usCite','page_rank'])\n",
      "\n",
      "scotus_df = pr_df.merge(scotus_df, on=['usCite'])\n",
      "scotus_df.head(5)"
     ],
     "language": "python",
     "metadata": {},
     "outputs": [
      {
       "html": [
        "<div style=\"max-height:1000px;max-width:1500px;overflow:auto;\">\n",
        "<table border=\"1\" class=\"dataframe\">\n",
        "  <thead>\n",
        "    <tr style=\"text-align: right;\">\n",
        "      <th></th>\n",
        "      <th>usCite</th>\n",
        "      <th>page_rank</th>\n",
        "      <th>case_name</th>\n",
        "      <th>cl_cited_by</th>\n",
        "      <th>cl_id</th>\n",
        "      <th>usCite_cited_by</th>\n",
        "    </tr>\n",
        "  </thead>\n",
        "  <tbody>\n",
        "    <tr>\n",
        "      <th>0</th>\n",
        "      <td> 327 U.S. 686</td>\n",
        "      <td> 0.022154</td>\n",
        "      <td>       North American Co. v. SEC</td>\n",
        "      <td> set([229852, 104307, 107622, 76023, 184398, 10...</td>\n",
        "      <td>          set([104273])</td>\n",
        "      <td> set([413 U.S. 139, 330 U.S. 422, 419 U.S. 102,...</td>\n",
        "    </tr>\n",
        "    <tr>\n",
        "      <th>1</th>\n",
        "      <td> 337 U.S. 656</td>\n",
        "      <td> 0.009033</td>\n",
        "      <td>       NLRB v. Pittsburgh SS Co.</td>\n",
        "      <td> set([106373, 236817, 245469, 317631, 273718, 2...</td>\n",
        "      <td> set([104698, 1205949])</td>\n",
        "      <td> set([402 U.S. 313, 340 U.S. 474, 367 U.S. 1, 3...</td>\n",
        "    </tr>\n",
        "    <tr>\n",
        "      <th>2</th>\n",
        "      <td> 327 U.S. 608</td>\n",
        "      <td> 0.007328</td>\n",
        "      <td>         Jacob Siegel Co. v. FTC</td>\n",
        "      <td> set([380426, 442980, 290500, 480765, 265877, 5...</td>\n",
        "      <td>          set([104266])</td>\n",
        "      <td> set([505 U.S. 377, 381 U.S. 357, 332 U.S. 392,...</td>\n",
        "    </tr>\n",
        "    <tr>\n",
        "      <th>3</th>\n",
        "      <td> 327 U.S. 358</td>\n",
        "      <td> 0.006430</td>\n",
        "      <td> Social Security Bd. v. Nierotko</td>\n",
        "      <td> set([1258750, 1532499, 104456, 352543, 109807,...</td>\n",
        "      <td>          set([104247])</td>\n",
        "      <td> set([351 U.S. 49, 532 U.S. 200, 435 U.S. 21, 3...</td>\n",
        "    </tr>\n",
        "    <tr>\n",
        "      <th>4</th>\n",
        "      <td> 326 U.S. 607</td>\n",
        "      <td> 0.005781</td>\n",
        "      <td>     Bollenbach v. United States</td>\n",
        "      <td> set([286002, 265264, 777508, 508210, 1040615, ...</td>\n",
        "      <td>          set([104224])</td>\n",
        "      <td> set([491 U.S. 263, 500 U.S. 391, 339 U.S. 349,...</td>\n",
        "    </tr>\n",
        "  </tbody>\n",
        "</table>\n",
        "</div>"
       ],
       "metadata": {},
       "output_type": "pyout",
       "prompt_number": 9,
       "text": [
        "         usCite  page_rank                        case_name  \\\n",
        "0  327 U.S. 686   0.022154        North American Co. v. SEC   \n",
        "1  337 U.S. 656   0.009033        NLRB v. Pittsburgh SS Co.   \n",
        "2  327 U.S. 608   0.007328          Jacob Siegel Co. v. FTC   \n",
        "3  327 U.S. 358   0.006430  Social Security Bd. v. Nierotko   \n",
        "4  326 U.S. 607   0.005781      Bollenbach v. United States   \n",
        "\n",
        "                                         cl_cited_by                   cl_id  \\\n",
        "0  set([229852, 104307, 107622, 76023, 184398, 10...           set([104273])   \n",
        "1  set([106373, 236817, 245469, 317631, 273718, 2...  set([104698, 1205949])   \n",
        "2  set([380426, 442980, 290500, 480765, 265877, 5...           set([104266])   \n",
        "3  set([1258750, 1532499, 104456, 352543, 109807,...           set([104247])   \n",
        "4  set([286002, 265264, 777508, 508210, 1040615, ...           set([104224])   \n",
        "\n",
        "                                     usCite_cited_by  \n",
        "0  set([413 U.S. 139, 330 U.S. 422, 419 U.S. 102,...  \n",
        "1  set([402 U.S. 313, 340 U.S. 474, 367 U.S. 1, 3...  \n",
        "2  set([505 U.S. 377, 381 U.S. 357, 332 U.S. 392,...  \n",
        "3  set([351 U.S. 49, 532 U.S. 200, 435 U.S. 21, 3...  \n",
        "4  set([491 U.S. 263, 500 U.S. 391, 339 U.S. 349,...  "
       ]
      }
     ],
     "prompt_number": 9
    },
    {
     "cell_type": "code",
     "collapsed": false,
     "input": [
      "spaeth = pd.read_csv('../SCDB_2013_01_justiceCentered_Citation_Cleaned.csv')\n",
      "spaeth_map = spaeth[['usCite','sctCite']].drop_duplicates()"
     ],
     "language": "python",
     "metadata": {},
     "outputs": [],
     "prompt_number": 10
    },
    {
     "cell_type": "code",
     "collapsed": false,
     "input": [
      "def replace_sct(row):\n",
      "    if \"Ct\" in row['usCite']:\n",
      "        maps = spaeth_map[spaeth_map['sctCite'] == row['usCite']].values\n",
      "        #print maps\n",
      "        if len(maps) > 0:\n",
      "            if not isinstance(maps[0][0], str) or 'U' not in maps[0][0]:\n",
      "                print \"ERROR on \", row[['usCite','cl_id']]\n",
      "            return maps[0][0]\n",
      "        else:\n",
      "            return np.nan\n",
      "            print \"NO KEY ERROR on \", row[['usCite','cl_id']]\n",
      "    else:\n",
      "        return row['usCite']\n",
      "        \n",
      "# introduces a handful of NaNs we need to drop\n",
      "# I examined these cases and they are all very recent (which is why they have\n",
      "# no spaeth or usCite. Thus, they are unlikely to be predictive, so we will\n",
      "# remove them for now.\n",
      "scotus_df['usCite'] = scotus_df.apply(replace_sct, axis=1)\n",
      "scotus_df = scotus_df.dropna(axis=0)"
     ],
     "language": "python",
     "metadata": {},
     "outputs": [
      {
       "output_type": "stream",
       "stream": "stdout",
       "text": [
        "Index([u'usCite', u'page_rank', u'case_name', u'cl_cited_by', u'cl_id', u'usCite_cited_by'], dtype=object)\n"
       ]
      }
     ],
     "prompt_number": 13
    },
    {
     "cell_type": "code",
     "collapsed": false,
     "input": [
      "dropped_cols = scotus_df[['usCite','page_rank', 'cl_id', 'usCite_cited_by']]\n",
      "spaeth = spaeth.merge(dropped_cols, on=['usCite'], how='left')\n",
      "spaeth.to_csv('spaeth_w_pagerank.csv')"
     ],
     "language": "python",
     "metadata": {},
     "outputs": [
      {
       "output_type": "stream",
       "stream": "stdout",
       "text": [
        "Index([u'usCite', u'page_rank', u'case_name', u'cl_cited_by', u'cl_id', u'usCite_cited_by'], dtype=object)\n"
       ]
      }
     ],
     "prompt_number": 15
    },
    {
     "cell_type": "code",
     "collapsed": false,
     "input": [
      "test.head(20)"
     ],
     "language": "python",
     "metadata": {},
     "outputs": [
      {
       "html": [
        "<pre>\n",
        "&lt;class 'pandas.core.frame.DataFrame'&gt;\n",
        "Int64Index: 20 entries, 0 to 19\n",
        "Data columns (total 53 columns):\n",
        "caseId                      20  non-null values\n",
        "docketId                    20  non-null values\n",
        "caseIssuesId                20  non-null values\n",
        "voteId                      20  non-null values\n",
        "dateDecision                20  non-null values\n",
        "usCite                      20  non-null values\n",
        "sctCite                     20  non-null values\n",
        "ledCite                     20  non-null values\n",
        "lexisCite                   20  non-null values\n",
        "term                        20  non-null values\n",
        "chief                       20  non-null values\n",
        "caseName                    20  non-null values\n",
        "petitioner                  20  non-null values\n",
        "petitionerState             0  non-null values\n",
        "respondent                  20  non-null values\n",
        "respondentState             0  non-null values\n",
        "jurisdiction                20  non-null values\n",
        "adminAction                 2  non-null values\n",
        "adminActionState            0  non-null values\n",
        "threeJudgeFdc               20  non-null values\n",
        "caseOrigin                  20  non-null values\n",
        "caseOriginState             20  non-null values\n",
        "caseSource                  20  non-null values\n",
        "caseSourceState             2  non-null values\n",
        "lcDisagreement              20  non-null values\n",
        "certReason                  20  non-null values\n",
        "lcDisposition               18  non-null values\n",
        "lcDispositionDirection      20  non-null values\n",
        "declarationUncon            20  non-null values\n",
        "caseDisposition             20  non-null values\n",
        "partyWinning                20  non-null values\n",
        "precedentAlteration         20  non-null values\n",
        "issueArea                   20  non-null values\n",
        "decisionDirection           20  non-null values\n",
        "decisionDirectionDissent    20  non-null values\n",
        "authorityDecision1          20  non-null values\n",
        "authorityDecision2          0  non-null values\n",
        "lawType                     20  non-null values\n",
        "majOpinWriter               20  non-null values\n",
        "splitVote                   20  non-null values\n",
        "majVotes                    20  non-null values\n",
        "minVotes                    20  non-null values\n",
        "justice                     20  non-null values\n",
        "justiceName                 20  non-null values\n",
        "vote                        20  non-null values\n",
        "opinion                     20  non-null values\n",
        "direction                   20  non-null values\n",
        "majority                    20  non-null values\n",
        "firstAgreement              1  non-null values\n",
        "secondAgreement             0  non-null values\n",
        "page_rank                   20  non-null values\n",
        "cl_id                       20  non-null values\n",
        "usCite_cited_by             20  non-null values\n",
        "dtypes: float64(38), int64(1), object(14)\n",
        "</pre>"
       ],
       "metadata": {},
       "output_type": "pyout",
       "prompt_number": 17,
       "text": [
        "<class 'pandas.core.frame.DataFrame'>\n",
        "Int64Index: 20 entries, 0 to 19\n",
        "Data columns (total 53 columns):\n",
        "caseId                      20  non-null values\n",
        "docketId                    20  non-null values\n",
        "caseIssuesId                20  non-null values\n",
        "voteId                      20  non-null values\n",
        "dateDecision                20  non-null values\n",
        "usCite                      20  non-null values\n",
        "sctCite                     20  non-null values\n",
        "ledCite                     20  non-null values\n",
        "lexisCite                   20  non-null values\n",
        "term                        20  non-null values\n",
        "chief                       20  non-null values\n",
        "caseName                    20  non-null values\n",
        "petitioner                  20  non-null values\n",
        "petitionerState             0  non-null values\n",
        "respondent                  20  non-null values\n",
        "respondentState             0  non-null values\n",
        "jurisdiction                20  non-null values\n",
        "adminAction                 2  non-null values\n",
        "adminActionState            0  non-null values\n",
        "threeJudgeFdc               20  non-null values\n",
        "caseOrigin                  20  non-null values\n",
        "caseOriginState             20  non-null values\n",
        "caseSource                  20  non-null values\n",
        "caseSourceState             2  non-null values\n",
        "lcDisagreement              20  non-null values\n",
        "certReason                  20  non-null values\n",
        "lcDisposition               18  non-null values\n",
        "lcDispositionDirection      20  non-null values\n",
        "declarationUncon            20  non-null values\n",
        "caseDisposition             20  non-null values\n",
        "partyWinning                20  non-null values\n",
        "precedentAlteration         20  non-null values\n",
        "issueArea                   20  non-null values\n",
        "decisionDirection           20  non-null values\n",
        "decisionDirectionDissent    20  non-null values\n",
        "authorityDecision1          20  non-null values\n",
        "authorityDecision2          0  non-null values\n",
        "lawType                     20  non-null values\n",
        "majOpinWriter               20  non-null values\n",
        "splitVote                   20  non-null values\n",
        "majVotes                    20  non-null values\n",
        "minVotes                    20  non-null values\n",
        "justice                     20  non-null values\n",
        "justiceName                 20  non-null values\n",
        "vote                        20  non-null values\n",
        "opinion                     20  non-null values\n",
        "direction                   20  non-null values\n",
        "majority                    20  non-null values\n",
        "firstAgreement              1  non-null values\n",
        "secondAgreement             0  non-null values\n",
        "page_rank                   20  non-null values\n",
        "cl_id                       20  non-null values\n",
        "usCite_cited_by             20  non-null values\n",
        "dtypes: float64(38), int64(1), object(14)"
       ]
      }
     ],
     "prompt_number": 17
    },
    {
     "cell_type": "code",
     "collapsed": false,
     "input": [],
     "language": "python",
     "metadata": {},
     "outputs": []
    }
   ],
   "metadata": {}
  }
 ]
}