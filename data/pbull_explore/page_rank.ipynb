{
 "metadata": {
  "name": ""
 },
 "nbformat": 3,
 "nbformat_minor": 0,
 "worksheets": [
  {
   "cells": [
    {
     "cell_type": "code",
     "collapsed": false,
     "input": [
      "import pandas as pd\n",
      "from xml.etree import ElementTree as etree\n",
      "import os"
     ],
     "language": "python",
     "metadata": {},
     "outputs": [],
     "prompt_number": 1
    },
    {
     "cell_type": "code",
     "collapsed": false,
     "input": [
      "class ScotusOpinion:\n",
      "    def __init__(self, opinion):\n",
      "        self.us_cite = opinion.attrib.get('federal_cite_one', False)        \n",
      "        self.case_name = opinion.attrib.get('case_name', False)\n",
      "        self.cl_id = set([opinion.attrib.get('id', False)])\n",
      "        self.cl_cited_by = set(opinion.attrib.get('cited_by', \",\").split(','))\n",
      "\n",
      "    # if we have to merge, track cl_id and cl_cited_by\n",
      "    def merge(self, other_scop):\n",
      "        #set unions\n",
      "        self.cl_id |= other_scop.cl_id\n",
      "        self.cl_cited_by |= other_scop.cl_cited_by"
     ],
     "language": "python",
     "metadata": {},
     "outputs": [],
     "prompt_number": 2
    },
    {
     "cell_type": "code",
     "collapsed": false,
     "input": [
      "opinions_dict = {}\n",
      "\n",
      "# for all the scotus*.xml files:\n",
      "for scotus_file in os.listdir(\"..\"):\n",
      "    if \"scotus\" in scotus_file:\n",
      "        print \"PARSING \", scotus_file \n",
      "        \n",
      "        # grab/release handles to save memory\n",
      "        with open('../' + scotus_file, 'r') as f:\n",
      "            \n",
      "            # parse the file and get the opinions\n",
      "            et=etree.fromstring(f.read())\n",
      "            opinion_elems = et.findall('./opinion')\n",
      "            \n",
      "            # add the attrs from the opinion to the dict\n",
      "            for opinion in opinion_elems:\n",
      "                scop = ScotusOpinion(opinion)\n",
      "                key = scop.us_cite\n",
      "                \n",
      "                # can't do anything with no citation\n",
      "                # bad data - discard for now, maybe try to clean up later?\n",
      "                if not key or len(key) == 0:\n",
      "                    pass\n",
      "                elif key in opinions_dict.keys():\n",
      "                    opinions_dict[key].merge(scop)\n",
      "                else:\n",
      "                    opinions_dict[key] = scop"
     ],
     "language": "python",
     "metadata": {},
     "outputs": [
      {
       "output_type": "stream",
       "stream": "stdout",
       "text": [
        "PARSING  scotus1946.xml\n",
        "PARSING "
       ]
      },
      {
       "output_type": "stream",
       "stream": "stdout",
       "text": [
        " scotus1947.xml\n",
        "PARSING "
       ]
      },
      {
       "output_type": "stream",
       "stream": "stdout",
       "text": [
        " scotus1948.xml\n",
        "PARSING "
       ]
      },
      {
       "output_type": "stream",
       "stream": "stdout",
       "text": [
        " scotus1949.xml\n",
        "PARSING "
       ]
      },
      {
       "output_type": "stream",
       "stream": "stdout",
       "text": [
        " scotus1950.xml\n",
        "PARSING  scotus1951.xml\n",
        "PARSING "
       ]
      },
      {
       "output_type": "stream",
       "stream": "stdout",
       "text": [
        " scotus1952.xml\n",
        "PARSING  scotus1953.xml\n",
        "PARSING "
       ]
      },
      {
       "output_type": "stream",
       "stream": "stdout",
       "text": [
        " scotus1954.xml\n",
        "PARSING  scotus1955.xml\n",
        "PARSING "
       ]
      },
      {
       "output_type": "stream",
       "stream": "stdout",
       "text": [
        " scotus1956.xml\n",
        "PARSING "
       ]
      },
      {
       "output_type": "stream",
       "stream": "stdout",
       "text": [
        " scotus1957.xml\n",
        "PARSING "
       ]
      },
      {
       "output_type": "stream",
       "stream": "stdout",
       "text": [
        " scotus1958.xml\n",
        "PARSING "
       ]
      },
      {
       "output_type": "stream",
       "stream": "stdout",
       "text": [
        " scotus1959.xml\n",
        "PARSING "
       ]
      },
      {
       "output_type": "stream",
       "stream": "stdout",
       "text": [
        " scotus1960.xml\n",
        "PARSING "
       ]
      },
      {
       "output_type": "stream",
       "stream": "stdout",
       "text": [
        " scotus1961.xml\n",
        "PARSING "
       ]
      },
      {
       "output_type": "stream",
       "stream": "stdout",
       "text": [
        " scotus1962.xml\n",
        "PARSING "
       ]
      },
      {
       "output_type": "stream",
       "stream": "stdout",
       "text": [
        " scotus1963.xml\n",
        "PARSING "
       ]
      },
      {
       "output_type": "stream",
       "stream": "stdout",
       "text": [
        " scotus1964.xml\n",
        "PARSING "
       ]
      },
      {
       "output_type": "stream",
       "stream": "stdout",
       "text": [
        " scotus1965.xml\n",
        "PARSING "
       ]
      },
      {
       "output_type": "stream",
       "stream": "stdout",
       "text": [
        " scotus1966.xml\n",
        "PARSING "
       ]
      },
      {
       "output_type": "stream",
       "stream": "stdout",
       "text": [
        " scotus1967.xml\n",
        "PARSING "
       ]
      },
      {
       "output_type": "stream",
       "stream": "stdout",
       "text": [
        " scotus1968.xml\n",
        "PARSING "
       ]
      },
      {
       "output_type": "stream",
       "stream": "stdout",
       "text": [
        " scotus1969.xml\n",
        "PARSING "
       ]
      },
      {
       "output_type": "stream",
       "stream": "stdout",
       "text": [
        " scotus1970.xml\n",
        "PARSING "
       ]
      },
      {
       "output_type": "stream",
       "stream": "stdout",
       "text": [
        " scotus1971.xml\n",
        "PARSING "
       ]
      },
      {
       "output_type": "stream",
       "stream": "stdout",
       "text": [
        " scotus1972.xml\n",
        "PARSING "
       ]
      },
      {
       "output_type": "stream",
       "stream": "stdout",
       "text": [
        " scotus1973.xml\n",
        "PARSING "
       ]
      },
      {
       "output_type": "stream",
       "stream": "stdout",
       "text": [
        " scotus1974.xml\n",
        "PARSING "
       ]
      },
      {
       "output_type": "stream",
       "stream": "stdout",
       "text": [
        " scotus1975.xml\n",
        "PARSING "
       ]
      },
      {
       "output_type": "stream",
       "stream": "stdout",
       "text": [
        " scotus1976.xml\n",
        "PARSING "
       ]
      },
      {
       "output_type": "stream",
       "stream": "stdout",
       "text": [
        " scotus1977.xml\n",
        "PARSING "
       ]
      },
      {
       "output_type": "stream",
       "stream": "stdout",
       "text": [
        " scotus1978.xml\n",
        "PARSING "
       ]
      },
      {
       "output_type": "stream",
       "stream": "stdout",
       "text": [
        " scotus1979.xml\n",
        "PARSING "
       ]
      },
      {
       "output_type": "stream",
       "stream": "stdout",
       "text": [
        " scotus1980.xml\n",
        "PARSING "
       ]
      },
      {
       "output_type": "stream",
       "stream": "stdout",
       "text": [
        " scotus1981.xml\n",
        "PARSING "
       ]
      },
      {
       "output_type": "stream",
       "stream": "stdout",
       "text": [
        " scotus1982.xml\n",
        "PARSING "
       ]
      },
      {
       "output_type": "stream",
       "stream": "stdout",
       "text": [
        " scotus1983.xml\n",
        "PARSING "
       ]
      },
      {
       "output_type": "stream",
       "stream": "stdout",
       "text": [
        " scotus1984.xml\n",
        "PARSING "
       ]
      },
      {
       "output_type": "stream",
       "stream": "stdout",
       "text": [
        " scotus1985.xml\n",
        "PARSING "
       ]
      },
      {
       "output_type": "stream",
       "stream": "stdout",
       "text": [
        " scotus1986.xml\n",
        "PARSING "
       ]
      },
      {
       "output_type": "stream",
       "stream": "stdout",
       "text": [
        " scotus1987.xml\n",
        "PARSING "
       ]
      },
      {
       "output_type": "stream",
       "stream": "stdout",
       "text": [
        " scotus1988.xml\n",
        "PARSING "
       ]
      },
      {
       "output_type": "stream",
       "stream": "stdout",
       "text": [
        " scotus1989.xml\n",
        "PARSING "
       ]
      },
      {
       "output_type": "stream",
       "stream": "stdout",
       "text": [
        " scotus1990.xml\n",
        "PARSING "
       ]
      },
      {
       "output_type": "stream",
       "stream": "stdout",
       "text": [
        " scotus1991.xml\n",
        "PARSING "
       ]
      },
      {
       "output_type": "stream",
       "stream": "stdout",
       "text": [
        " scotus1992.xml\n",
        "PARSING "
       ]
      },
      {
       "output_type": "stream",
       "stream": "stdout",
       "text": [
        " scotus1993.xml\n",
        "PARSING "
       ]
      },
      {
       "output_type": "stream",
       "stream": "stdout",
       "text": [
        " scotus1994.xml\n",
        "PARSING "
       ]
      },
      {
       "output_type": "stream",
       "stream": "stdout",
       "text": [
        " scotus1995.xml\n",
        "PARSING "
       ]
      },
      {
       "output_type": "stream",
       "stream": "stdout",
       "text": [
        " scotus1996.xml\n",
        "PARSING "
       ]
      },
      {
       "output_type": "stream",
       "stream": "stdout",
       "text": [
        " scotus1997.xml\n",
        "PARSING "
       ]
      },
      {
       "output_type": "stream",
       "stream": "stdout",
       "text": [
        " scotus1998.xml\n",
        "PARSING "
       ]
      },
      {
       "output_type": "stream",
       "stream": "stdout",
       "text": [
        " scotus1999.xml\n",
        "PARSING "
       ]
      },
      {
       "output_type": "stream",
       "stream": "stdout",
       "text": [
        " scotus2000.xml\n",
        "PARSING "
       ]
      },
      {
       "output_type": "stream",
       "stream": "stdout",
       "text": [
        " scotus2001.xml\n",
        "PARSING "
       ]
      },
      {
       "output_type": "stream",
       "stream": "stdout",
       "text": [
        " scotus2002.xml\n",
        "PARSING "
       ]
      },
      {
       "output_type": "stream",
       "stream": "stdout",
       "text": [
        " scotus2003.xml\n",
        "PARSING "
       ]
      },
      {
       "output_type": "stream",
       "stream": "stdout",
       "text": [
        " scotus2004.xml\n",
        "PARSING "
       ]
      },
      {
       "output_type": "stream",
       "stream": "stdout",
       "text": [
        " scotus2005.xml\n",
        "PARSING "
       ]
      },
      {
       "output_type": "stream",
       "stream": "stdout",
       "text": [
        " scotus2006.xml\n",
        "PARSING "
       ]
      },
      {
       "output_type": "stream",
       "stream": "stdout",
       "text": [
        " scotus2007.xml\n",
        "PARSING "
       ]
      },
      {
       "output_type": "stream",
       "stream": "stdout",
       "text": [
        " scotus2008.xml\n",
        "PARSING "
       ]
      },
      {
       "output_type": "stream",
       "stream": "stdout",
       "text": [
        " scotus2009.xml\n",
        "PARSING "
       ]
      },
      {
       "output_type": "stream",
       "stream": "stdout",
       "text": [
        " scotus2010.xml\n",
        "PARSING "
       ]
      },
      {
       "output_type": "stream",
       "stream": "stdout",
       "text": [
        " scotus2011.xml\n",
        "PARSING "
       ]
      },
      {
       "output_type": "stream",
       "stream": "stdout",
       "text": [
        " scotus2012.xml\n"
       ]
      }
     ],
     "prompt_number": 3
    },
    {
     "cell_type": "code",
     "collapsed": false,
     "input": [
      "data_frame_dictionary = {'usCite':[],\n",
      "                         'case_name':[],\n",
      "                         'cl_id':[],\n",
      "                         'cl_cited_by':[],\n",
      "                         'usCite_cited_by':[]}\n",
      "\n",
      "clid_to_us_cite_map = {}\n",
      "\n",
      "for uscite in opinions_dict:\n",
      "    scop = opinions_dict[uscite]\n",
      "    \n",
      "    data_frame_dictionary['usCite'].append(uscite)\n",
      "    data_frame_dictionary['case_name'].append(scop.case_name)\n",
      "    data_frame_dictionary['cl_id'].append(scop.cl_id)\n",
      "    data_frame_dictionary['cl_cited_by'].append(scop.cl_cited_by)\n",
      "    data_frame_dictionary['usCite_cited_by'].append('')\n",
      "    \n",
      "    for cls in scop.cl_id:\n",
      "        clid_to_us_cite_map[cls] = uscite\n",
      "        \n",
      "\n",
      "scotus_df = pd.DataFrame.from_dict(data_frame_dictionary)"
     ],
     "language": "python",
     "metadata": {},
     "outputs": [],
     "prompt_number": 4
    },
    {
     "cell_type": "code",
     "collapsed": false,
     "input": [
      "# fill in usCite_cited_by with usCite values for cases we understand\n",
      "def cl_to_uscite(row):\n",
      "    us_cites = set()\n",
      "    for cl_id in row['cl_cited_by']:\n",
      "        cite_val = clid_to_us_cite_map.get(cl_id, None)\n",
      "        if cite_val is not None:\n",
      "            us_cites.update([cite_val])\n",
      "    return us_cites\n",
      "\n",
      "us_cite_rows  = scotus_df.apply(cl_to_uscite, axis=1)\n",
      "scotus_df['usCite_cited_by'] =  us_cite_rows\n",
      "scotus_df.head(5)"
     ],
     "language": "python",
     "metadata": {},
     "outputs": [
      {
       "html": [
        "<div style=\"max-height:1000px;max-width:1500px;overflow:auto;\">\n",
        "<table border=\"1\" class=\"dataframe\">\n",
        "  <thead>\n",
        "    <tr style=\"text-align: right;\">\n",
        "      <th></th>\n",
        "      <th>case_name</th>\n",
        "      <th>cl_cited_by</th>\n",
        "      <th>cl_id</th>\n",
        "      <th>usCite</th>\n",
        "      <th>usCite_cited_by</th>\n",
        "    </tr>\n",
        "  </thead>\n",
        "  <tbody>\n",
        "    <tr>\n",
        "      <th>0</th>\n",
        "      <td>                                     Doe v. Miller</td>\n",
        "      <td>                               set([])</td>\n",
        "      <td>                                    set([1992699])</td>\n",
        "      <td> 126 S. Ct. 757</td>\n",
        "      <td>                                           set([])</td>\n",
        "    </tr>\n",
        "    <tr>\n",
        "      <th>1</th>\n",
        "      <td> Betty Evans, Individually and as Next Friend A...</td>\n",
        "      <td> set([110151, 112418, 110051, 446964])</td>\n",
        "      <td>                                     set([110050])</td>\n",
        "      <td>   440 U.S. 987</td>\n",
        "      <td> set([495 U.S. 149, 440 U.S. 1301, 443 U.S. 1306])</td>\n",
        "    </tr>\n",
        "    <tr>\n",
        "      <th>2</th>\n",
        "      <td>                         Estrada v. Garcia, Warden</td>\n",
        "      <td>                               set([])</td>\n",
        "      <td> set([123584, 123583, 123582, 123581, 123580, 1...</td>\n",
        "      <td>   537 U.S. 904</td>\n",
        "      <td>                                           set([])</td>\n",
        "    </tr>\n",
        "    <tr>\n",
        "      <th>3</th>\n",
        "      <td>                  Carlos Marcello v. United States</td>\n",
        "      <td>                               set([])</td>\n",
        "      <td>                                     set([108259])</td>\n",
        "      <td>  400 U.S. 1208</td>\n",
        "      <td>                                           set([])</td>\n",
        "    </tr>\n",
        "    <tr>\n",
        "      <th>4</th>\n",
        "      <td>                               Crowley v. McKinney</td>\n",
        "      <td>                               set([])</td>\n",
        "      <td>                                    set([1991630])</td>\n",
        "      <td> 126 S. Ct. 750</td>\n",
        "      <td>                                           set([])</td>\n",
        "    </tr>\n",
        "  </tbody>\n",
        "</table>\n",
        "</div>"
       ],
       "metadata": {},
       "output_type": "pyout",
       "prompt_number": 5,
       "text": [
        "                                           case_name                            cl_cited_by                                              cl_id          usCite                                    usCite_cited_by\n",
        "0                                      Doe v. Miller                                set([])                                     set([1992699])  126 S. Ct. 757                                            set([])\n",
        "1  Betty Evans, Individually and as Next Friend A...  set([110151, 112418, 110051, 446964])                                      set([110050])    440 U.S. 987  set([495 U.S. 149, 440 U.S. 1301, 443 U.S. 1306])\n",
        "2                          Estrada v. Garcia, Warden                                set([])  set([123584, 123583, 123582, 123581, 123580, 1...    537 U.S. 904                                            set([])\n",
        "3                   Carlos Marcello v. United States                                set([])                                      set([108259])   400 U.S. 1208                                            set([])\n",
        "4                                Crowley v. McKinney                                set([])                                     set([1991630])  126 S. Ct. 750                                            set([])"
       ]
      }
     ],
     "prompt_number": 5
    },
    {
     "cell_type": "code",
     "collapsed": false,
     "input": [
      "# create a directed graph for the citations\n",
      "import networkx as nx\n",
      "cite_graph = nx.DiGraph()\n",
      "\n",
      "for row in scotus_df.iterrows():\n",
      "    for cite_by in row[1]['usCite_cited_by']:\n",
      "        if cite_by != '' and row[1]['usCite']!='':\n",
      "            \n",
      "            # add directed edge from citing case to this case\n",
      "            cite_graph.add_edge(cite_by, row[1]['usCite'])"
     ],
     "language": "python",
     "metadata": {},
     "outputs": [],
     "prompt_number": 6
    },
    {
     "cell_type": "code",
     "collapsed": false,
     "input": [
      "#calculate page rank for each case\n",
      "pr = nx.algorithms.pagerank(cite_graph)"
     ],
     "language": "python",
     "metadata": {},
     "outputs": [],
     "prompt_number": 7
    },
    {
     "cell_type": "code",
     "collapsed": false,
     "input": [
      "import operator\n",
      "pr_sorted = sorted(pr.iteritems(), key=operator.itemgetter(1), reverse=True)\n",
      "pr_df = pd.DataFrame(pr_sorted, columns=['usCite','page_rank'])\n",
      "\n",
      "scotus_df = pr_df.merge(scotus_df, on=['usCite'])\n",
      "scotus_df.head(25)"
     ],
     "language": "python",
     "metadata": {},
     "outputs": [
      {
       "html": [
        "<div style=\"max-height:1000px;max-width:1500px;overflow:auto;\">\n",
        "<table border=\"1\" class=\"dataframe\">\n",
        "  <thead>\n",
        "    <tr style=\"text-align: right;\">\n",
        "      <th></th>\n",
        "      <th>usCite</th>\n",
        "      <th>page_rank_x</th>\n",
        "      <th>page_rank_y</th>\n",
        "      <th>case_name</th>\n",
        "      <th>cl_cited_by</th>\n",
        "      <th>cl_id</th>\n",
        "      <th>usCite_cited_by</th>\n",
        "    </tr>\n",
        "  </thead>\n",
        "  <tbody>\n",
        "    <tr>\n",
        "      <th>0 </th>\n",
        "      <td> 327 U.S. 686</td>\n",
        "      <td> 0.022154</td>\n",
        "      <td> 0.022154</td>\n",
        "      <td>                         North American Co. v. SEC</td>\n",
        "      <td> set([229852, 104307, 107622, 76023, 184398, 10...</td>\n",
        "      <td>          set([104273])</td>\n",
        "      <td> set([413 U.S. 139, 330 U.S. 422, 419 U.S. 102,...</td>\n",
        "    </tr>\n",
        "    <tr>\n",
        "      <th>1 </th>\n",
        "      <td> 337 U.S. 656</td>\n",
        "      <td> 0.009033</td>\n",
        "      <td> 0.009033</td>\n",
        "      <td>                         NLRB v. Pittsburgh SS Co.</td>\n",
        "      <td> set([106373, 236817, 245469, 317631, 273718, 2...</td>\n",
        "      <td> set([104698, 1205949])</td>\n",
        "      <td> set([402 U.S. 313, 340 U.S. 474, 367 U.S. 1, 3...</td>\n",
        "    </tr>\n",
        "    <tr>\n",
        "      <th>2 </th>\n",
        "      <td> 327 U.S. 608</td>\n",
        "      <td> 0.007328</td>\n",
        "      <td> 0.007328</td>\n",
        "      <td>                           Jacob Siegel Co. v. FTC</td>\n",
        "      <td> set([380426, 442980, 290500, 480765, 265877, 5...</td>\n",
        "      <td>          set([104266])</td>\n",
        "      <td> set([505 U.S. 377, 381 U.S. 357, 332 U.S. 392,...</td>\n",
        "    </tr>\n",
        "    <tr>\n",
        "      <th>3 </th>\n",
        "      <td> 327 U.S. 358</td>\n",
        "      <td> 0.006430</td>\n",
        "      <td> 0.006430</td>\n",
        "      <td>                   Social Security Bd. v. Nierotko</td>\n",
        "      <td> set([1258750, 1532499, 104456, 352543, 109807,...</td>\n",
        "      <td>          set([104247])</td>\n",
        "      <td> set([351 U.S. 49, 532 U.S. 200, 435 U.S. 21, 3...</td>\n",
        "    </tr>\n",
        "    <tr>\n",
        "      <th>4 </th>\n",
        "      <td> 326 U.S. 607</td>\n",
        "      <td> 0.005781</td>\n",
        "      <td> 0.005781</td>\n",
        "      <td>                       Bollenbach v. United States</td>\n",
        "      <td> set([286002, 265264, 777508, 508210, 1040615, ...</td>\n",
        "      <td>          set([104224])</td>\n",
        "      <td> set([491 U.S. 263, 500 U.S. 391, 339 U.S. 349,...</td>\n",
        "    </tr>\n",
        "    <tr>\n",
        "      <th>5 </th>\n",
        "      <td> 327 U.S. 280</td>\n",
        "      <td> 0.005373</td>\n",
        "      <td> 0.005373</td>\n",
        "      <td>                             Commissioner v. Tower</td>\n",
        "      <td> set([230363, 272546, 109829, 230360, 240507, 2...</td>\n",
        "      <td>          set([104244])</td>\n",
        "      <td> set([357 U.S. 51, 366 U.S. 213, 333 U.S. 591, ...</td>\n",
        "    </tr>\n",
        "    <tr>\n",
        "      <th>6 </th>\n",
        "      <td> 327 U.S. 293</td>\n",
        "      <td> 0.005081</td>\n",
        "      <td> 0.005081</td>\n",
        "      <td>                          Lusthaus v. Commissioner</td>\n",
        "      <td> set([238710, 225414, 104701, 227349, 104520, 2...</td>\n",
        "      <td>          set([104245])</td>\n",
        "      <td> set([333 U.S. 203, 366 U.S. 213, 327 U.S. 280,...</td>\n",
        "    </tr>\n",
        "    <tr>\n",
        "      <th>7 </th>\n",
        "      <td> 326 U.S. 340</td>\n",
        "      <td> 0.004713</td>\n",
        "      <td> 0.004713</td>\n",
        "      <td>                               Fernandez v. Wiener</td>\n",
        "      <td> set([106065, 785742, 104231, 266658, 229909, 2...</td>\n",
        "      <td>          set([104202])</td>\n",
        "      <td> set([363 U.S. 194, 342 U.S. 76, 326 U.S. 340, ...</td>\n",
        "    </tr>\n",
        "    <tr>\n",
        "      <th>8 </th>\n",
        "      <td> 331 U.S. 549</td>\n",
        "      <td> 0.004457</td>\n",
        "      <td> 0.004457</td>\n",
        "      <td>     Rescue Army v. Municipal Court of Los Angeles</td>\n",
        "      <td> set([1652029, 107558, 1572989, 245946, 359039,...</td>\n",
        "      <td>          set([104442])</td>\n",
        "      <td> set([337 U.S. 1, 333 U.S. 257, 339 U.S. 1, 335...</td>\n",
        "    </tr>\n",
        "    <tr>\n",
        "      <th>9 </th>\n",
        "      <td> 327 U.S. 186</td>\n",
        "      <td> 0.004337</td>\n",
        "      <td> 0.004337</td>\n",
        "      <td>          Oklahoma Press Publishing Co. v. Walling</td>\n",
        "      <td> set([108848, 774036, 2345444, 295378, 381890, ...</td>\n",
        "      <td>          set([104239])</td>\n",
        "      <td> set([355 U.S. 9, 460 U.S. 575, 410 U.S. 19, 33...</td>\n",
        "    </tr>\n",
        "    <tr>\n",
        "      <th>10</th>\n",
        "      <td> 335 U.S. 525</td>\n",
        "      <td> 0.004336</td>\n",
        "      <td> 0.004336</td>\n",
        "      <td> Lincoln Federal Labor Union No. 19129, America...</td>\n",
        "      <td> set([104917, 104970, 164344, 104611, 776305, 1...</td>\n",
        "      <td> set([104610, 1679291])</td>\n",
        "      <td> set([336 U.S. 490, 375 U.S. 96, 341 U.S. 622, ...</td>\n",
        "    </tr>\n",
        "    <tr>\n",
        "      <th>11</th>\n",
        "      <td> 326 U.S. 501</td>\n",
        "      <td> 0.003955</td>\n",
        "      <td> 0.003955</td>\n",
        "      <td>                                  Marsh v. Alabama</td>\n",
        "      <td> set([413270, 280925, 808107, 421826, 284071, 1...</td>\n",
        "      <td>          set([104216])</td>\n",
        "      <td> set([407 U.S. 551, 337 U.S. 1, 531 U.S. 288, 5...</td>\n",
        "    </tr>\n",
        "    <tr>\n",
        "      <th>12</th>\n",
        "      <td> 332 U.S. 596</td>\n",
        "      <td> 0.003488</td>\n",
        "      <td> 0.003488</td>\n",
        "      <td>                                     Haley v. Ohio</td>\n",
        "      <td> set([1491265, 1754658, 273818, 282628, 822971,...</td>\n",
        "      <td>          set([104491])</td>\n",
        "      <td> set([507 U.S. 680, 357 U.S. 433, 338 U.S. 49, ...</td>\n",
        "    </tr>\n",
        "    <tr>\n",
        "      <th>13</th>\n",
        "      <td> 333 U.S. 257</td>\n",
        "      <td> 0.003239</td>\n",
        "      <td> 0.003239</td>\n",
        "      <td>                                      In Re Oliver</td>\n",
        "      <td> set([107686, 107685, 1053704, 111434, 111430, ...</td>\n",
        "      <td>          set([104521])</td>\n",
        "      <td> set([394 U.S. 111, 339 U.S. 9, 440 U.S. 367, 3...</td>\n",
        "    </tr>\n",
        "    <tr>\n",
        "      <th>14</th>\n",
        "      <td> 327 U.S. 416</td>\n",
        "      <td> 0.003134</td>\n",
        "      <td> 0.003134</td>\n",
        "      <td>                               Nippert v. Richmond</td>\n",
        "      <td> set([104917, 111244, 104388, 375797, 111158, 1...</td>\n",
        "      <td>          set([104253])</td>\n",
        "      <td> set([445 U.S. 97, 467 U.S. 691, 426 U.S. 794, ...</td>\n",
        "    </tr>\n",
        "    <tr>\n",
        "      <th>15</th>\n",
        "      <td> 327 U.S. 114</td>\n",
        "      <td> 0.002952</td>\n",
        "      <td> 0.002952</td>\n",
        "      <td>                            Estep v. United States</td>\n",
        "      <td> set([282421, 314828, 286940, 257026, 300428, 2...</td>\n",
        "      <td>          set([104234])</td>\n",
        "      <td> set([348 U.S. 407, 403 U.S. 698, 364 U.S. 59, ...</td>\n",
        "    </tr>\n",
        "    <tr>\n",
        "      <th>16</th>\n",
        "      <td> 333 U.S. 740</td>\n",
        "      <td> 0.002905</td>\n",
        "      <td> 0.002905</td>\n",
        "      <td>                           Andres v. United States</td>\n",
        "      <td> set([540128, 696642, 748800, 108186, 108187, 7...</td>\n",
        "      <td>          set([104541])</td>\n",
        "      <td> set([426 U.S. 572, 333 U.S. 740, 485 U.S. 693,...</td>\n",
        "    </tr>\n",
        "    <tr>\n",
        "      <th>17</th>\n",
        "      <td>  332 U.S. 46</td>\n",
        "      <td> 0.002739</td>\n",
        "      <td> 0.002739</td>\n",
        "      <td>                             Adamson v. California</td>\n",
        "      <td> set([104565, 112924, 349946, 1731367, 108186, ...</td>\n",
        "      <td>          set([104455])</td>\n",
        "      <td> set([349 U.S. 58, 381 U.S. 532, 333 U.S. 257, ...</td>\n",
        "    </tr>\n",
        "    <tr>\n",
        "      <th>18</th>\n",
        "      <td> 328 U.S. 331</td>\n",
        "      <td> 0.002732</td>\n",
        "      <td> 0.002732</td>\n",
        "      <td>                              Pennekamp v. Florida</td>\n",
        "      <td> set([696641, 772969, 246290, 460179, 321250, 1...</td>\n",
        "      <td>          set([104304])</td>\n",
        "      <td> set([333 U.S. 571, 381 U.S. 532, 466 U.S. 485,...</td>\n",
        "    </tr>\n",
        "    <tr>\n",
        "      <th>19</th>\n",
        "      <td> 329 U.S. 459</td>\n",
        "      <td> 0.002684</td>\n",
        "      <td> 0.002684</td>\n",
        "      <td>             Louisiana Ex Rel. Francis v. Resweber</td>\n",
        "      <td> set([137749, 290347, 355911, 1263968, 398720, ...</td>\n",
        "      <td>          set([104355])</td>\n",
        "      <td> set([394 U.S. 399, 339 U.S. 9, 354 U.S. 234, 5...</td>\n",
        "    </tr>\n",
        "    <tr>\n",
        "      <th>20</th>\n",
        "      <td> 327 U.S. 678</td>\n",
        "      <td> 0.002501</td>\n",
        "      <td> 0.002501</td>\n",
        "      <td>                                      Bell v. Hood</td>\n",
        "      <td> set([104813, 519603, 296581, 167950, 112696, 1...</td>\n",
        "      <td>          set([104272])</td>\n",
        "      <td> set([337 U.S. 682, 365 U.S. 167, 415 U.S. 528,...</td>\n",
        "    </tr>\n",
        "    <tr>\n",
        "      <th>21</th>\n",
        "      <td> 328 U.S. 495</td>\n",
        "      <td> 0.002487</td>\n",
        "      <td> 0.002487</td>\n",
        "      <td>                          RFC v. Denver &amp; RGWR Co.</td>\n",
        "      <td> set([, 104715, 108198, 108540, 285600, 233991,...</td>\n",
        "      <td> set([1087899, 104310])</td>\n",
        "      <td> set([335 U.S. 211, 406 U.S. 416, 389 U.S. 486,...</td>\n",
        "    </tr>\n",
        "    <tr>\n",
        "      <th>22</th>\n",
        "      <td> 327 U.S. 582</td>\n",
        "      <td> 0.002438</td>\n",
        "      <td> 0.002438</td>\n",
        "      <td>                                     AFL v. Watson</td>\n",
        "      <td> set([245249, 291952, 104563, 2195716, 235871, ...</td>\n",
        "      <td>          set([104265])</td>\n",
        "      <td> set([372 U.S. 682, 389 U.S. 241, 387 U.S. 97, ...</td>\n",
        "    </tr>\n",
        "    <tr>\n",
        "      <th>23</th>\n",
        "      <td> 327 U.S. 404</td>\n",
        "      <td> 0.002410</td>\n",
        "      <td> 0.002410</td>\n",
        "      <td>                            Commissioner v. Wilcox</td>\n",
        "      <td> set([234530, 286028, 370427, 270797, 245037, 2...</td>\n",
        "      <td>          set([104252])</td>\n",
        "      <td> set([343 U.S. 130, 344 U.S. 167, 405 U.S. 394,...</td>\n",
        "    </tr>\n",
        "    <tr>\n",
        "      <th>24</th>\n",
        "      <td> 327 U.S. 178</td>\n",
        "      <td> 0.002377</td>\n",
        "      <td> 0.002377</td>\n",
        "      <td>              Mabee v. White Plains Publishing Co.</td>\n",
        "      <td> set([261993, 233525, 289774, 108848, 235605, 2...</td>\n",
        "      <td>          set([104238])</td>\n",
        "      <td> set([426 U.S. 833, 483 U.S. 27, 499 U.S. 439, ...</td>\n",
        "    </tr>\n",
        "  </tbody>\n",
        "</table>\n",
        "</div>"
       ],
       "metadata": {},
       "output_type": "pyout",
       "prompt_number": 16,
       "text": [
        "          usCite  page_rank_x  page_rank_y  \\\n",
        "0   327 U.S. 686     0.022154     0.022154   \n",
        "1   337 U.S. 656     0.009033     0.009033   \n",
        "2   327 U.S. 608     0.007328     0.007328   \n",
        "3   327 U.S. 358     0.006430     0.006430   \n",
        "4   326 U.S. 607     0.005781     0.005781   \n",
        "5   327 U.S. 280     0.005373     0.005373   \n",
        "6   327 U.S. 293     0.005081     0.005081   \n",
        "7   326 U.S. 340     0.004713     0.004713   \n",
        "8   331 U.S. 549     0.004457     0.004457   \n",
        "9   327 U.S. 186     0.004337     0.004337   \n",
        "10  335 U.S. 525     0.004336     0.004336   \n",
        "11  326 U.S. 501     0.003955     0.003955   \n",
        "12  332 U.S. 596     0.003488     0.003488   \n",
        "13  333 U.S. 257     0.003239     0.003239   \n",
        "14  327 U.S. 416     0.003134     0.003134   \n",
        "15  327 U.S. 114     0.002952     0.002952   \n",
        "16  333 U.S. 740     0.002905     0.002905   \n",
        "17   332 U.S. 46     0.002739     0.002739   \n",
        "18  328 U.S. 331     0.002732     0.002732   \n",
        "19  329 U.S. 459     0.002684     0.002684   \n",
        "20  327 U.S. 678     0.002501     0.002501   \n",
        "21  328 U.S. 495     0.002487     0.002487   \n",
        "22  327 U.S. 582     0.002438     0.002438   \n",
        "23  327 U.S. 404     0.002410     0.002410   \n",
        "24  327 U.S. 178     0.002377     0.002377   \n",
        "\n",
        "                                            case_name  \\\n",
        "0                           North American Co. v. SEC   \n",
        "1                           NLRB v. Pittsburgh SS Co.   \n",
        "2                             Jacob Siegel Co. v. FTC   \n",
        "3                     Social Security Bd. v. Nierotko   \n",
        "4                         Bollenbach v. United States   \n",
        "5                               Commissioner v. Tower   \n",
        "6                            Lusthaus v. Commissioner   \n",
        "7                                 Fernandez v. Wiener   \n",
        "8       Rescue Army v. Municipal Court of Los Angeles   \n",
        "9            Oklahoma Press Publishing Co. v. Walling   \n",
        "10  Lincoln Federal Labor Union No. 19129, America...   \n",
        "11                                   Marsh v. Alabama   \n",
        "12                                      Haley v. Ohio   \n",
        "13                                       In Re Oliver   \n",
        "14                                Nippert v. Richmond   \n",
        "15                             Estep v. United States   \n",
        "16                            Andres v. United States   \n",
        "17                              Adamson v. California   \n",
        "18                               Pennekamp v. Florida   \n",
        "19              Louisiana Ex Rel. Francis v. Resweber   \n",
        "20                                       Bell v. Hood   \n",
        "21                           RFC v. Denver & RGWR Co.   \n",
        "22                                      AFL v. Watson   \n",
        "23                             Commissioner v. Wilcox   \n",
        "24               Mabee v. White Plains Publishing Co.   \n",
        "\n",
        "                                          cl_cited_by                   cl_id  \\\n",
        "0   set([229852, 104307, 107622, 76023, 184398, 10...           set([104273])   \n",
        "1   set([106373, 236817, 245469, 317631, 273718, 2...  set([104698, 1205949])   \n",
        "2   set([380426, 442980, 290500, 480765, 265877, 5...           set([104266])   \n",
        "3   set([1258750, 1532499, 104456, 352543, 109807,...           set([104247])   \n",
        "4   set([286002, 265264, 777508, 508210, 1040615, ...           set([104224])   \n",
        "5   set([230363, 272546, 109829, 230360, 240507, 2...           set([104244])   \n",
        "6   set([238710, 225414, 104701, 227349, 104520, 2...           set([104245])   \n",
        "7   set([106065, 785742, 104231, 266658, 229909, 2...           set([104202])   \n",
        "8   set([1652029, 107558, 1572989, 245946, 359039,...           set([104442])   \n",
        "9   set([108848, 774036, 2345444, 295378, 381890, ...           set([104239])   \n",
        "10  set([104917, 104970, 164344, 104611, 776305, 1...  set([104610, 1679291])   \n",
        "11  set([413270, 280925, 808107, 421826, 284071, 1...           set([104216])   \n",
        "12  set([1491265, 1754658, 273818, 282628, 822971,...           set([104491])   \n",
        "13  set([107686, 107685, 1053704, 111434, 111430, ...           set([104521])   \n",
        "14  set([104917, 111244, 104388, 375797, 111158, 1...           set([104253])   \n",
        "15  set([282421, 314828, 286940, 257026, 300428, 2...           set([104234])   \n",
        "16  set([540128, 696642, 748800, 108186, 108187, 7...           set([104541])   \n",
        "17  set([104565, 112924, 349946, 1731367, 108186, ...           set([104455])   \n",
        "18  set([696641, 772969, 246290, 460179, 321250, 1...           set([104304])   \n",
        "19  set([137749, 290347, 355911, 1263968, 398720, ...           set([104355])   \n",
        "20  set([104813, 519603, 296581, 167950, 112696, 1...           set([104272])   \n",
        "21  set([, 104715, 108198, 108540, 285600, 233991,...  set([1087899, 104310])   \n",
        "22  set([245249, 291952, 104563, 2195716, 235871, ...           set([104265])   \n",
        "23  set([234530, 286028, 370427, 270797, 245037, 2...           set([104252])   \n",
        "24  set([261993, 233525, 289774, 108848, 235605, 2...           set([104238])   \n",
        "\n",
        "                                      usCite_cited_by  \n",
        "0   set([413 U.S. 139, 330 U.S. 422, 419 U.S. 102,...  \n",
        "1   set([402 U.S. 313, 340 U.S. 474, 367 U.S. 1, 3...  \n",
        "2   set([505 U.S. 377, 381 U.S. 357, 332 U.S. 392,...  \n",
        "3   set([351 U.S. 49, 532 U.S. 200, 435 U.S. 21, 3...  \n",
        "4   set([491 U.S. 263, 500 U.S. 391, 339 U.S. 349,...  \n",
        "5   set([357 U.S. 51, 366 U.S. 213, 333 U.S. 591, ...  \n",
        "6   set([333 U.S. 203, 366 U.S. 213, 327 U.S. 280,...  \n",
        "7   set([363 U.S. 194, 342 U.S. 76, 326 U.S. 340, ...  \n",
        "8   set([337 U.S. 1, 333 U.S. 257, 339 U.S. 1, 335...  \n",
        "9   set([355 U.S. 9, 460 U.S. 575, 410 U.S. 19, 33...  \n",
        "10  set([336 U.S. 490, 375 U.S. 96, 341 U.S. 622, ...  \n",
        "11  set([407 U.S. 551, 337 U.S. 1, 531 U.S. 288, 5...  \n",
        "12  set([507 U.S. 680, 357 U.S. 433, 338 U.S. 49, ...  \n",
        "13  set([394 U.S. 111, 339 U.S. 9, 440 U.S. 367, 3...  \n",
        "14  set([445 U.S. 97, 467 U.S. 691, 426 U.S. 794, ...  \n",
        "15  set([348 U.S. 407, 403 U.S. 698, 364 U.S. 59, ...  \n",
        "16  set([426 U.S. 572, 333 U.S. 740, 485 U.S. 693,...  \n",
        "17  set([349 U.S. 58, 381 U.S. 532, 333 U.S. 257, ...  \n",
        "18  set([333 U.S. 571, 381 U.S. 532, 466 U.S. 485,...  \n",
        "19  set([394 U.S. 399, 339 U.S. 9, 354 U.S. 234, 5...  \n",
        "20  set([337 U.S. 682, 365 U.S. 167, 415 U.S. 528,...  \n",
        "21  set([335 U.S. 211, 406 U.S. 416, 389 U.S. 486,...  \n",
        "22  set([372 U.S. 682, 389 U.S. 241, 387 U.S. 97, ...  \n",
        "23  set([343 U.S. 130, 344 U.S. 167, 405 U.S. 394,...  \n",
        "24  set([426 U.S. 833, 483 U.S. 27, 499 U.S. 439, ...  "
       ]
      }
     ],
     "prompt_number": 16
    },
    {
     "cell_type": "code",
     "collapsed": false,
     "input": [
      "spaeth = pd.read_csv('../SCDB_2013_01_justiceCentered_Citation_Cleaned.csv')"
     ],
     "language": "python",
     "metadata": {},
     "outputs": [],
     "prompt_number": 9
    },
    {
     "cell_type": "code",
     "collapsed": false,
     "input": [
      "def get_cl_data(row, val):\n",
      "    if len(scotus_df[scotus_df['usCite'] == row['usCite']]) == 1:\n",
      "        to_add = scotus_df[scotus_df['usCite'] == row['usCite']]\n",
      "        print to_add\n",
      "    elif len(scotus_df[scotus_df['usCite'] == row['sctCite']]) == 1:\n",
      "        to_add = scotus_df[scotus_df['usCite'] == row['sctCite']][0]\n",
      "    \n",
      "    return to_add[val].values\n",
      "\n",
      "data_to_add = spaeth.head(5).apply(get_cl_data, axis=1, args=['page_rank'])"
     ],
     "language": "python",
     "metadata": {},
     "outputs": [
      {
       "output_type": "stream",
       "stream": "stdout",
       "text": [
        "          usCite  page_rank                                     case_name  \\\n",
        "2580  329 U.S. 1   0.000076  Halliburton Oil Well Cementing Co. v. Walker   \n",
        "\n",
        "                                            cl_cited_by          cl_id  \\\n",
        "2580  set([243346, 239557, 230348, 251861, 243403, 2...  set([104323])   \n",
        "\n",
        "                                     usCite_cited_by  \n",
        "2580  set([450 U.S. 175, 520 U.S. 17, 338 U.S. 267])  \n",
        "          usCite  page_rank                                     case_name  \\\n",
        "2580  329 U.S. 1   0.000076  Halliburton Oil Well Cementing Co. v. Walker   \n",
        "\n",
        "                                            cl_cited_by          cl_id  \\\n",
        "2580  set([243346, 239557, 230348, 251861, 243403, 2...  set([104323])   \n",
        "\n",
        "                                     usCite_cited_by  \n",
        "2580  set([450 U.S. 175, 520 U.S. 17, 338 U.S. 267])  \n",
        "          usCite  page_rank                                     case_name  \\\n",
        "2580  329 U.S. 1   0.000076  Halliburton Oil Well Cementing Co. v. Walker   \n",
        "\n",
        "                                            cl_cited_by          cl_id  \\\n",
        "2580  set([243346, 239557, 230348, 251861, 243403, 2...  set([104323])   \n",
        "\n",
        "                                     usCite_cited_by  \n",
        "2580  set([450 U.S. 175, 520 U.S. 17, 338 U.S. 267])  \n",
        "          usCite  page_rank                                     case_name  \\\n",
        "2580  329 U.S. 1   0.000076  Halliburton Oil Well Cementing Co. v. Walker   \n",
        "\n",
        "                                            cl_cited_by          cl_id  \\\n",
        "2580  set([243346, 239557, 230348, 251861, 243403, 2...  set([104323])   \n",
        "\n",
        "                                     usCite_cited_by  \n",
        "2580  set([450 U.S. 175, 520 U.S. 17, 338 U.S. 267])  \n",
        "          usCite  page_rank                                     case_name  \\\n",
        "2580  329 U.S. 1   0.000076  Halliburton Oil Well Cementing Co. v. Walker   \n",
        "\n",
        "                                            cl_cited_by          cl_id  \\\n",
        "2580  set([243346, 239557, 230348, 251861, 243403, 2...  set([104323])   \n",
        "\n",
        "                                     usCite_cited_by  \n",
        "2580  set([450 U.S. 175, 520 U.S. 17, 338 U.S. 267])  "
       ]
      },
      {
       "output_type": "stream",
       "stream": "stdout",
       "text": [
        "\n"
       ]
      }
     ],
     "prompt_number": 15
    },
    {
     "cell_type": "code",
     "collapsed": false,
     "input": [
      "print data_to_add"
     ],
     "language": "python",
     "metadata": {},
     "outputs": [
      {
       "output_type": "stream",
       "stream": "stdout",
       "text": [
        "<class 'pandas.core.frame.DataFrame'>\n",
        "Int64Index: 30 entries, 0 to 29\n",
        "Data columns (total 50 columns):\n",
        "caseId                      30  non-null values\n",
        "docketId                    30  non-null values\n",
        "caseIssuesId                30  non-null values\n",
        "voteId                      30  non-null values\n",
        "dateDecision                30  non-null values\n",
        "usCite                      30  non-null values\n",
        "sctCite                     30  non-null values\n",
        "ledCite                     30  non-null values\n",
        "lexisCite                   30  non-null values\n",
        "term                        30  non-null values\n",
        "chief                       30  non-null values\n",
        "caseName                    30  non-null values\n",
        "petitioner                  30  non-null values\n",
        "petitionerState             30  non-null values\n",
        "respondent                  30  non-null values\n",
        "respondentState             30  non-null values\n",
        "jurisdiction                30  non-null values\n",
        "adminAction                 30  non-null values\n",
        "adminActionState            30  non-null values\n",
        "threeJudgeFdc               30  non-null values\n",
        "caseOrigin                  30  non-null values\n",
        "caseOriginState             30  non-null values\n",
        "caseSource                  30  non-null values\n",
        "caseSourceState             30  non-null values\n",
        "lcDisagreement              30  non-null values\n",
        "certReason                  30  non-null values\n",
        "lcDisposition               30  non-null values\n",
        "lcDispositionDirection      30  non-null values\n",
        "declarationUncon            30  non-null values\n",
        "caseDisposition             30  non-null values\n",
        "partyWinning                30  non-null values\n",
        "precedentAlteration         30  non-null values\n",
        "issueArea                   30  non-null values\n",
        "decisionDirection           30  non-null values\n",
        "decisionDirectionDissent    30  non-null values\n",
        "authorityDecision1          30  non-null values\n",
        "authorityDecision2          30  non-null values\n",
        "lawType                     30  non-null values\n",
        "majOpinWriter               30  non-null values\n",
        "splitVote                   30  non-null values\n",
        "majVotes                    30  non-null values\n",
        "minVotes                    30  non-null values\n",
        "justice                     30  non-null values\n",
        "justiceName                 30  non-null values\n",
        "vote                        30  non-null values\n",
        "opinion                     30  non-null values\n",
        "direction                   30  non-null values\n",
        "majority                    30  non-null values\n",
        "firstAgreement              30  non-null values\n",
        "secondAgreement             30  non-null values\n",
        "dtypes: float64(50)\n"
       ]
      }
     ],
     "prompt_number": 11
    },
    {
     "cell_type": "code",
     "collapsed": false,
     "input": [
      "dropped_cols = scotus_df[['usCite','page_rank', 'cl_id', 'usCite_cited_by']]\n",
      "\n",
      "def get_cites(row, ret_which):\n",
      "    sct = None\n",
      "    usc = None\n",
      "    if 'Ct' in row['usCite']:\n",
      "        sct = row['usCite']\n",
      "    elif 'U.S.' in row['usCite']:\n",
      "        usc = row['usCite']\n",
      "    else:\n",
      "        print row['usCite']\n",
      "        1\n",
      "    if ret_which == 'u':\n",
      "        return usc\n",
      "    else:\n",
      "        return sct\n",
      "\n",
      "uscs = dropped_cols.apply(get_cites, axis=1, args=('u'))\n",
      "scts = dropped_cols.apply(get_cites, axis=1, args=('s'))\n",
      "\n",
      "#print uscs\n",
      "#print scts\n",
      "\n",
      "dropped_cols['usCite2'] = uscs\n",
      "dropped_cols['sctCite'] = scts\n",
      "\n",
      "dropped_cols.rename(columns={'usCite':'oldCite', 'usCite2':'usCite'}, inplace=True)\n",
      "dropped_cols = dropped_cols[['usCite','sctCite','page_rank', 'cl_id', 'usCite_cited_by']]\n",
      "\n",
      "#test = spaeth.merge(dropped_cols[['usCite','page_rank', 'cl_id', 'usCite_cited_by']], on=['usCite'], how='left')\n",
      "#print test.columns\n",
      "#print dropped_cols.columns\n",
      "#test = test.merge(dropped_cols[['sctCite','page_rank', 'cl_id', 'usCite_cited_by']], on=['sctCite'], how='right')\n"
     ],
     "language": "python",
     "metadata": {},
     "outputs": [
      {
       "output_type": "stream",
       "stream": "stdout",
       "text": [
        "None\n",
        "99-1908\n",
        "00-549\n",
        "98-1189\n",
        "None"
       ]
      },
      {
       "output_type": "stream",
       "stream": "stdout",
       "text": [
        "\n",
        "99-1908\n",
        "00-549\n",
        "98-1189\n"
       ]
      }
     ],
     "prompt_number": 10
    },
    {
     "cell_type": "code",
     "collapsed": false,
     "input": [
      "dropped_cols.head(50)"
     ],
     "language": "python",
     "metadata": {},
     "outputs": [
      {
       "ename": "NameError",
       "evalue": "name 'dropped_cols' is not defined",
       "output_type": "pyerr",
       "traceback": [
        "\u001b[0;31m---------------------------------------------------------------------------\u001b[0m\n\u001b[0;31mNameError\u001b[0m                                 Traceback (most recent call last)",
        "\u001b[0;32m<ipython-input-42-78f8bfbef808>\u001b[0m in \u001b[0;36m<module>\u001b[0;34m()\u001b[0m\n\u001b[0;32m----> 1\u001b[0;31m \u001b[0mdropped_cols\u001b[0m\u001b[0;34m.\u001b[0m\u001b[0mhead\u001b[0m\u001b[0;34m(\u001b[0m\u001b[0;36m50\u001b[0m\u001b[0;34m)\u001b[0m\u001b[0;34m\u001b[0m\u001b[0m\n\u001b[0m",
        "\u001b[0;31mNameError\u001b[0m: name 'dropped_cols' is not defined"
       ]
      }
     ],
     "prompt_number": 42
    },
    {
     "cell_type": "code",
     "collapsed": false,
     "input": [
      "#spaeth.sctCite.fillna('').str.match('128.*436')\n",
      "spaeth[spaeth.sctCite.fillna('').str.match('128.*436')]"
     ],
     "language": "python",
     "metadata": {},
     "outputs": [
      {
       "ename": "KeyError",
       "evalue": "u'no item named True'",
       "output_type": "pyerr",
       "traceback": [
        "\u001b[0;31m---------------------------------------------------------------------------\u001b[0m\n\u001b[0;31mKeyError\u001b[0m                                  Traceback (most recent call last)",
        "\u001b[0;32m<ipython-input-41-3439fe2e698a>\u001b[0m in \u001b[0;36m<module>\u001b[0;34m()\u001b[0m\n\u001b[1;32m      1\u001b[0m \u001b[0;31m#spaeth.sctCite.fillna('').str.match('128.*436')\u001b[0m\u001b[0;34m\u001b[0m\u001b[0;34m\u001b[0m\u001b[0m\n\u001b[0;32m----> 2\u001b[0;31m \u001b[0mspaeth\u001b[0m\u001b[0;34m[\u001b[0m\u001b[0mlen\u001b[0m\u001b[0;34m(\u001b[0m\u001b[0mspaeth\u001b[0m\u001b[0;34m.\u001b[0m\u001b[0msctCite\u001b[0m\u001b[0;34m.\u001b[0m\u001b[0mfillna\u001b[0m\u001b[0;34m(\u001b[0m\u001b[0;34m''\u001b[0m\u001b[0;34m)\u001b[0m\u001b[0;34m.\u001b[0m\u001b[0mstr\u001b[0m\u001b[0;34m.\u001b[0m\u001b[0mmatch\u001b[0m\u001b[0;34m(\u001b[0m\u001b[0;34m'128.*436'\u001b[0m\u001b[0;34m)\u001b[0m\u001b[0;34m)\u001b[0m \u001b[0;34m>\u001b[0m \u001b[0;36m0\u001b[0m\u001b[0;34m]\u001b[0m\u001b[0;34m\u001b[0m\u001b[0m\n\u001b[0m",
        "\u001b[0;32m/Users/bull/anaconda/lib/python2.7/site-packages/pandas/core/frame.pyc\u001b[0m in \u001b[0;36m__getitem__\u001b[0;34m(self, key)\u001b[0m\n\u001b[1;32m   2001\u001b[0m             \u001b[0;31m# get column\u001b[0m\u001b[0;34m\u001b[0m\u001b[0;34m\u001b[0m\u001b[0m\n\u001b[1;32m   2002\u001b[0m             \u001b[0;32mif\u001b[0m \u001b[0mself\u001b[0m\u001b[0;34m.\u001b[0m\u001b[0mcolumns\u001b[0m\u001b[0;34m.\u001b[0m\u001b[0mis_unique\u001b[0m\u001b[0;34m:\u001b[0m\u001b[0;34m\u001b[0m\u001b[0m\n\u001b[0;32m-> 2003\u001b[0;31m                 \u001b[0;32mreturn\u001b[0m \u001b[0mself\u001b[0m\u001b[0;34m.\u001b[0m\u001b[0m_get_item_cache\u001b[0m\u001b[0;34m(\u001b[0m\u001b[0mkey\u001b[0m\u001b[0;34m)\u001b[0m\u001b[0;34m\u001b[0m\u001b[0m\n\u001b[0m\u001b[1;32m   2004\u001b[0m \u001b[0;34m\u001b[0m\u001b[0m\n\u001b[1;32m   2005\u001b[0m             \u001b[0;31m# duplicate columns\u001b[0m\u001b[0;34m\u001b[0m\u001b[0;34m\u001b[0m\u001b[0m\n",
        "\u001b[0;32m/Users/bull/anaconda/lib/python2.7/site-packages/pandas/core/generic.pyc\u001b[0m in \u001b[0;36m_get_item_cache\u001b[0;34m(self, item)\u001b[0m\n\u001b[1;32m    665\u001b[0m             \u001b[0;32mreturn\u001b[0m \u001b[0mcache\u001b[0m\u001b[0;34m[\u001b[0m\u001b[0mitem\u001b[0m\u001b[0;34m]\u001b[0m\u001b[0;34m\u001b[0m\u001b[0m\n\u001b[1;32m    666\u001b[0m         \u001b[0;32mexcept\u001b[0m \u001b[0mException\u001b[0m\u001b[0;34m:\u001b[0m\u001b[0;34m\u001b[0m\u001b[0m\n\u001b[0;32m--> 667\u001b[0;31m             \u001b[0mvalues\u001b[0m \u001b[0;34m=\u001b[0m \u001b[0mself\u001b[0m\u001b[0;34m.\u001b[0m\u001b[0m_data\u001b[0m\u001b[0;34m.\u001b[0m\u001b[0mget\u001b[0m\u001b[0;34m(\u001b[0m\u001b[0mitem\u001b[0m\u001b[0;34m)\u001b[0m\u001b[0;34m\u001b[0m\u001b[0m\n\u001b[0m\u001b[1;32m    668\u001b[0m             \u001b[0mres\u001b[0m \u001b[0;34m=\u001b[0m \u001b[0mself\u001b[0m\u001b[0;34m.\u001b[0m\u001b[0m_box_item_values\u001b[0m\u001b[0;34m(\u001b[0m\u001b[0mitem\u001b[0m\u001b[0;34m,\u001b[0m \u001b[0mvalues\u001b[0m\u001b[0;34m)\u001b[0m\u001b[0;34m\u001b[0m\u001b[0m\n\u001b[1;32m    669\u001b[0m             \u001b[0mcache\u001b[0m\u001b[0;34m[\u001b[0m\u001b[0mitem\u001b[0m\u001b[0;34m]\u001b[0m \u001b[0;34m=\u001b[0m \u001b[0mres\u001b[0m\u001b[0;34m\u001b[0m\u001b[0m\n",
        "\u001b[0;32m/Users/bull/anaconda/lib/python2.7/site-packages/pandas/core/internals.pyc\u001b[0m in \u001b[0;36mget\u001b[0;34m(self, item)\u001b[0m\n\u001b[1;32m   1653\u001b[0m     \u001b[0;32mdef\u001b[0m \u001b[0mget\u001b[0m\u001b[0;34m(\u001b[0m\u001b[0mself\u001b[0m\u001b[0;34m,\u001b[0m \u001b[0mitem\u001b[0m\u001b[0;34m)\u001b[0m\u001b[0;34m:\u001b[0m\u001b[0;34m\u001b[0m\u001b[0m\n\u001b[1;32m   1654\u001b[0m         \u001b[0;32mif\u001b[0m \u001b[0mself\u001b[0m\u001b[0;34m.\u001b[0m\u001b[0mitems\u001b[0m\u001b[0;34m.\u001b[0m\u001b[0mis_unique\u001b[0m\u001b[0;34m:\u001b[0m\u001b[0;34m\u001b[0m\u001b[0m\n\u001b[0;32m-> 1655\u001b[0;31m             \u001b[0m_\u001b[0m\u001b[0;34m,\u001b[0m \u001b[0mblock\u001b[0m \u001b[0;34m=\u001b[0m \u001b[0mself\u001b[0m\u001b[0;34m.\u001b[0m\u001b[0m_find_block\u001b[0m\u001b[0;34m(\u001b[0m\u001b[0mitem\u001b[0m\u001b[0;34m)\u001b[0m\u001b[0;34m\u001b[0m\u001b[0m\n\u001b[0m\u001b[1;32m   1656\u001b[0m             \u001b[0;32mreturn\u001b[0m \u001b[0mblock\u001b[0m\u001b[0;34m.\u001b[0m\u001b[0mget\u001b[0m\u001b[0;34m(\u001b[0m\u001b[0mitem\u001b[0m\u001b[0;34m)\u001b[0m\u001b[0;34m\u001b[0m\u001b[0m\n\u001b[1;32m   1657\u001b[0m         \u001b[0;32melse\u001b[0m\u001b[0;34m:\u001b[0m\u001b[0;34m\u001b[0m\u001b[0m\n",
        "\u001b[0;32m/Users/bull/anaconda/lib/python2.7/site-packages/pandas/core/internals.pyc\u001b[0m in \u001b[0;36m_find_block\u001b[0;34m(self, item)\u001b[0m\n\u001b[1;32m   1933\u001b[0m \u001b[0;34m\u001b[0m\u001b[0m\n\u001b[1;32m   1934\u001b[0m     \u001b[0;32mdef\u001b[0m \u001b[0m_find_block\u001b[0m\u001b[0;34m(\u001b[0m\u001b[0mself\u001b[0m\u001b[0;34m,\u001b[0m \u001b[0mitem\u001b[0m\u001b[0;34m)\u001b[0m\u001b[0;34m:\u001b[0m\u001b[0;34m\u001b[0m\u001b[0m\n\u001b[0;32m-> 1935\u001b[0;31m         \u001b[0mself\u001b[0m\u001b[0;34m.\u001b[0m\u001b[0m_check_have\u001b[0m\u001b[0;34m(\u001b[0m\u001b[0mitem\u001b[0m\u001b[0;34m)\u001b[0m\u001b[0;34m\u001b[0m\u001b[0m\n\u001b[0m\u001b[1;32m   1936\u001b[0m         \u001b[0;32mfor\u001b[0m \u001b[0mi\u001b[0m\u001b[0;34m,\u001b[0m \u001b[0mblock\u001b[0m \u001b[0;32min\u001b[0m \u001b[0menumerate\u001b[0m\u001b[0;34m(\u001b[0m\u001b[0mself\u001b[0m\u001b[0;34m.\u001b[0m\u001b[0mblocks\u001b[0m\u001b[0;34m)\u001b[0m\u001b[0;34m:\u001b[0m\u001b[0;34m\u001b[0m\u001b[0m\n\u001b[1;32m   1937\u001b[0m             \u001b[0;32mif\u001b[0m \u001b[0mitem\u001b[0m \u001b[0;32min\u001b[0m \u001b[0mblock\u001b[0m\u001b[0;34m:\u001b[0m\u001b[0;34m\u001b[0m\u001b[0m\n",
        "\u001b[0;32m/Users/bull/anaconda/lib/python2.7/site-packages/pandas/core/internals.pyc\u001b[0m in \u001b[0;36m_check_have\u001b[0;34m(self, item)\u001b[0m\n\u001b[1;32m   1940\u001b[0m     \u001b[0;32mdef\u001b[0m \u001b[0m_check_have\u001b[0m\u001b[0;34m(\u001b[0m\u001b[0mself\u001b[0m\u001b[0;34m,\u001b[0m \u001b[0mitem\u001b[0m\u001b[0;34m)\u001b[0m\u001b[0;34m:\u001b[0m\u001b[0;34m\u001b[0m\u001b[0m\n\u001b[1;32m   1941\u001b[0m         \u001b[0;32mif\u001b[0m \u001b[0mitem\u001b[0m \u001b[0;32mnot\u001b[0m \u001b[0;32min\u001b[0m \u001b[0mself\u001b[0m\u001b[0;34m.\u001b[0m\u001b[0mitems\u001b[0m\u001b[0;34m:\u001b[0m\u001b[0;34m\u001b[0m\u001b[0m\n\u001b[0;32m-> 1942\u001b[0;31m             \u001b[0;32mraise\u001b[0m \u001b[0mKeyError\u001b[0m\u001b[0;34m(\u001b[0m\u001b[0;34m'no item named %s'\u001b[0m \u001b[0;34m%\u001b[0m \u001b[0mcom\u001b[0m\u001b[0;34m.\u001b[0m\u001b[0mpprint_thing\u001b[0m\u001b[0;34m(\u001b[0m\u001b[0mitem\u001b[0m\u001b[0;34m)\u001b[0m\u001b[0;34m)\u001b[0m\u001b[0;34m\u001b[0m\u001b[0m\n\u001b[0m\u001b[1;32m   1943\u001b[0m \u001b[0;34m\u001b[0m\u001b[0m\n\u001b[1;32m   1944\u001b[0m     \u001b[0;32mdef\u001b[0m \u001b[0mreindex_axis\u001b[0m\u001b[0;34m(\u001b[0m\u001b[0mself\u001b[0m\u001b[0;34m,\u001b[0m \u001b[0mnew_axis\u001b[0m\u001b[0;34m,\u001b[0m \u001b[0mmethod\u001b[0m\u001b[0;34m=\u001b[0m\u001b[0mNone\u001b[0m\u001b[0;34m,\u001b[0m \u001b[0maxis\u001b[0m\u001b[0;34m=\u001b[0m\u001b[0;36m0\u001b[0m\u001b[0;34m,\u001b[0m \u001b[0mcopy\u001b[0m\u001b[0;34m=\u001b[0m\u001b[0mTrue\u001b[0m\u001b[0;34m)\u001b[0m\u001b[0;34m:\u001b[0m\u001b[0;34m\u001b[0m\u001b[0m\n",
        "\u001b[0;31mKeyError\u001b[0m: u'no item named True'"
       ]
      }
     ],
     "prompt_number": 41
    },
    {
     "cell_type": "code",
     "collapsed": false,
     "input": [
      "def update_citation(row):\n",
      "    if row['usCite'] is None:\n",
      "        if row['sctCite'] is not None:\n",
      "            val = spaeth[spaeth.sctCite == row['sctCite']]\n",
      "            if len (val['usCite'].values) > 0:\n",
      "                row.usCite = val['usCite'].values[0]\n",
      "            else:\n",
      "                print \"ERRROR: \", row['sctCite'] \n",
      "            \n",
      "#dropped_cols.apply(update_citation, axis=1)\n",
      "drop"
     ],
     "language": "python",
     "metadata": {},
     "outputs": [
      {
       "output_type": "stream",
       "stream": "stdout",
       "text": [
        "ERRROR:  128 S. Ct. 436\n",
        "ERRROR:  128 S. Ct. 741\n",
        "ERRROR: "
       ]
      },
      {
       "output_type": "stream",
       "stream": "stdout",
       "text": [
        " 126 S. Ct. 1776\n",
        "ERRROR:  127 S. Ct. 2875\n",
        "ERRROR: "
       ]
      },
      {
       "output_type": "stream",
       "stream": "stdout",
       "text": [
        " 128 S. Ct. 1657\n",
        "ERRROR: "
       ]
      },
      {
       "output_type": "stream",
       "stream": "stdout",
       "text": [
        " 127 S. Ct. 2098\n",
        "ERRROR:  127 S. Ct. 1325\n",
        "ERRROR: "
       ]
      },
      {
       "output_type": "stream",
       "stream": "stdout",
       "text": [
        " 128 S. Ct. 65\n",
        "ERRROR: "
       ]
      },
      {
       "output_type": "stream",
       "stream": "stdout",
       "text": [
        " 130 S. Ct. 541\n"
       ]
      },
      {
       "metadata": {},
       "output_type": "pyout",
       "prompt_number": 15,
       "text": [
        "0     None\n",
        "1     None\n",
        "2     None\n",
        "3     None\n",
        "4     None\n",
        "5     None\n",
        "6     None\n",
        "7     None\n",
        "8     None\n",
        "9     None\n",
        "10    None\n",
        "11    None\n",
        "12    None\n",
        "13    None\n",
        "14    None\n",
        "...\n",
        "9537    None\n",
        "9538    None\n",
        "9539    None\n",
        "9540    None\n",
        "9541    None\n",
        "9542    None\n",
        "9543    None\n",
        "9544    None\n",
        "9545    None\n",
        "9546    None\n",
        "9547    None\n",
        "9548    None\n",
        "9549    None\n",
        "9550    None\n",
        "9551    None\n",
        "Length: 9552, dtype: object"
       ]
      }
     ],
     "prompt_number": 15
    },
    {
     "cell_type": "code",
     "collapsed": false,
     "input": [
      "spaeth['sctCite'].head(50)"
     ],
     "language": "python",
     "metadata": {},
     "outputs": [
      {
       "metadata": {},
       "output_type": "pyout",
       "prompt_number": 16,
       "text": [
        "0       67 S. Ct. 6\n",
        "1       67 S. Ct. 6\n",
        "2       67 S. Ct. 6\n",
        "3       67 S. Ct. 6\n",
        "4       67 S. Ct. 6\n",
        "5       67 S. Ct. 6\n",
        "6       67 S. Ct. 6\n",
        "7       67 S. Ct. 6\n",
        "8       67 S. Ct. 6\n",
        "9      67 S. Ct. 13\n",
        "10     67 S. Ct. 13\n",
        "11     67 S. Ct. 13\n",
        "12     67 S. Ct. 13\n",
        "13     67 S. Ct. 13\n",
        "14     67 S. Ct. 13\n",
        "15     67 S. Ct. 13\n",
        "16     67 S. Ct. 13\n",
        "17     67 S. Ct. 13\n",
        "18      67 S. Ct. 1\n",
        "19      67 S. Ct. 1\n",
        "20      67 S. Ct. 1\n",
        "21      67 S. Ct. 1\n",
        "22      67 S. Ct. 1\n",
        "23      67 S. Ct. 1\n",
        "24      67 S. Ct. 1\n",
        "25      67 S. Ct. 1\n",
        "26      67 S. Ct. 1\n",
        "27    67 S. Ct. 167\n",
        "28    67 S. Ct. 167\n",
        "29    67 S. Ct. 167\n",
        "30    67 S. Ct. 167\n",
        "31    67 S. Ct. 167\n",
        "32    67 S. Ct. 167\n",
        "33    67 S. Ct. 167\n",
        "34    67 S. Ct. 167\n",
        "35    67 S. Ct. 167\n",
        "36    67 S. Ct. 154\n",
        "37    67 S. Ct. 154\n",
        "38    67 S. Ct. 154\n",
        "39    67 S. Ct. 154\n",
        "40    67 S. Ct. 154\n",
        "41    67 S. Ct. 154\n",
        "42    67 S. Ct. 154\n",
        "43    67 S. Ct. 154\n",
        "44    67 S. Ct. 154\n",
        "45    67 S. Ct. 156\n",
        "46    67 S. Ct. 156\n",
        "47    67 S. Ct. 156\n",
        "48    67 S. Ct. 156\n",
        "49    67 S. Ct. 156\n",
        "Name: sctCite, dtype: object"
       ]
      }
     ],
     "prompt_number": 16
    },
    {
     "cell_type": "code",
     "collapsed": false,
     "input": [
      "spaeth[spaeth.columns[:10]].head(10)2"
     ],
     "language": "python",
     "metadata": {},
     "outputs": [
      {
       "html": [
        "<div style=\"max-height:1000px;max-width:1500px;overflow:auto;\">\n",
        "<table border=\"1\" class=\"dataframe\">\n",
        "  <thead>\n",
        "    <tr style=\"text-align: right;\">\n",
        "      <th></th>\n",
        "      <th>caseId</th>\n",
        "      <th>docketId</th>\n",
        "      <th>caseIssuesId</th>\n",
        "      <th>voteId</th>\n",
        "      <th>dateDecision</th>\n",
        "      <th>usCite</th>\n",
        "      <th>sctCite</th>\n",
        "      <th>ledCite</th>\n",
        "      <th>lexisCite</th>\n",
        "      <th>term</th>\n",
        "    </tr>\n",
        "  </thead>\n",
        "  <tbody>\n",
        "    <tr>\n",
        "      <th>0</th>\n",
        "      <td> 1946-001</td>\n",
        "      <td> 1946-001-01</td>\n",
        "      <td> 1946-001-01-01</td>\n",
        "      <td> 1946-001-01-01-01-01</td>\n",
        "      <td> 11/18/1946</td>\n",
        "      <td>  329 U.S. 1</td>\n",
        "      <td>  67 S. Ct. 6</td>\n",
        "      <td>  91 L. Ed. 3</td>\n",
        "      <td> 1946 U.S. LEXIS 1724</td>\n",
        "      <td> 1946</td>\n",
        "    </tr>\n",
        "    <tr>\n",
        "      <th>1</th>\n",
        "      <td> 1946-001</td>\n",
        "      <td> 1946-001-01</td>\n",
        "      <td> 1946-001-01-01</td>\n",
        "      <td> 1946-001-01-01-01-02</td>\n",
        "      <td> 11/18/1946</td>\n",
        "      <td>  329 U.S. 1</td>\n",
        "      <td>  67 S. Ct. 6</td>\n",
        "      <td>  91 L. Ed. 3</td>\n",
        "      <td> 1946 U.S. LEXIS 1724</td>\n",
        "      <td> 1946</td>\n",
        "    </tr>\n",
        "    <tr>\n",
        "      <th>2</th>\n",
        "      <td> 1946-001</td>\n",
        "      <td> 1946-001-01</td>\n",
        "      <td> 1946-001-01-01</td>\n",
        "      <td> 1946-001-01-01-01-03</td>\n",
        "      <td> 11/18/1946</td>\n",
        "      <td>  329 U.S. 1</td>\n",
        "      <td>  67 S. Ct. 6</td>\n",
        "      <td>  91 L. Ed. 3</td>\n",
        "      <td> 1946 U.S. LEXIS 1724</td>\n",
        "      <td> 1946</td>\n",
        "    </tr>\n",
        "    <tr>\n",
        "      <th>3</th>\n",
        "      <td> 1946-001</td>\n",
        "      <td> 1946-001-01</td>\n",
        "      <td> 1946-001-01-01</td>\n",
        "      <td> 1946-001-01-01-01-04</td>\n",
        "      <td> 11/18/1946</td>\n",
        "      <td>  329 U.S. 1</td>\n",
        "      <td>  67 S. Ct. 6</td>\n",
        "      <td>  91 L. Ed. 3</td>\n",
        "      <td> 1946 U.S. LEXIS 1724</td>\n",
        "      <td> 1946</td>\n",
        "    </tr>\n",
        "    <tr>\n",
        "      <th>4</th>\n",
        "      <td> 1946-001</td>\n",
        "      <td> 1946-001-01</td>\n",
        "      <td> 1946-001-01-01</td>\n",
        "      <td> 1946-001-01-01-01-05</td>\n",
        "      <td> 11/18/1946</td>\n",
        "      <td>  329 U.S. 1</td>\n",
        "      <td>  67 S. Ct. 6</td>\n",
        "      <td>  91 L. Ed. 3</td>\n",
        "      <td> 1946 U.S. LEXIS 1724</td>\n",
        "      <td> 1946</td>\n",
        "    </tr>\n",
        "    <tr>\n",
        "      <th>5</th>\n",
        "      <td> 1946-001</td>\n",
        "      <td> 1946-001-01</td>\n",
        "      <td> 1946-001-01-01</td>\n",
        "      <td> 1946-001-01-01-01-06</td>\n",
        "      <td> 11/18/1946</td>\n",
        "      <td>  329 U.S. 1</td>\n",
        "      <td>  67 S. Ct. 6</td>\n",
        "      <td>  91 L. Ed. 3</td>\n",
        "      <td> 1946 U.S. LEXIS 1724</td>\n",
        "      <td> 1946</td>\n",
        "    </tr>\n",
        "    <tr>\n",
        "      <th>6</th>\n",
        "      <td> 1946-001</td>\n",
        "      <td> 1946-001-01</td>\n",
        "      <td> 1946-001-01-01</td>\n",
        "      <td> 1946-001-01-01-01-07</td>\n",
        "      <td> 11/18/1946</td>\n",
        "      <td>  329 U.S. 1</td>\n",
        "      <td>  67 S. Ct. 6</td>\n",
        "      <td>  91 L. Ed. 3</td>\n",
        "      <td> 1946 U.S. LEXIS 1724</td>\n",
        "      <td> 1946</td>\n",
        "    </tr>\n",
        "    <tr>\n",
        "      <th>7</th>\n",
        "      <td> 1946-001</td>\n",
        "      <td> 1946-001-01</td>\n",
        "      <td> 1946-001-01-01</td>\n",
        "      <td> 1946-001-01-01-01-08</td>\n",
        "      <td> 11/18/1946</td>\n",
        "      <td>  329 U.S. 1</td>\n",
        "      <td>  67 S. Ct. 6</td>\n",
        "      <td>  91 L. Ed. 3</td>\n",
        "      <td> 1946 U.S. LEXIS 1724</td>\n",
        "      <td> 1946</td>\n",
        "    </tr>\n",
        "    <tr>\n",
        "      <th>8</th>\n",
        "      <td> 1946-001</td>\n",
        "      <td> 1946-001-01</td>\n",
        "      <td> 1946-001-01-01</td>\n",
        "      <td> 1946-001-01-01-01-09</td>\n",
        "      <td> 11/18/1946</td>\n",
        "      <td>  329 U.S. 1</td>\n",
        "      <td>  67 S. Ct. 6</td>\n",
        "      <td>  91 L. Ed. 3</td>\n",
        "      <td> 1946 U.S. LEXIS 1724</td>\n",
        "      <td> 1946</td>\n",
        "    </tr>\n",
        "    <tr>\n",
        "      <th>9</th>\n",
        "      <td> 1946-002</td>\n",
        "      <td> 1946-002-01</td>\n",
        "      <td> 1946-002-01-01</td>\n",
        "      <td> 1946-002-01-01-01-01</td>\n",
        "      <td> 11/18/1946</td>\n",
        "      <td> 329 U.S. 14</td>\n",
        "      <td> 67 S. Ct. 13</td>\n",
        "      <td> 91 L. Ed. 12</td>\n",
        "      <td> 1946 U.S. LEXIS 1725</td>\n",
        "      <td> 1946</td>\n",
        "    </tr>\n",
        "  </tbody>\n",
        "</table>\n",
        "</div>"
       ],
       "metadata": {},
       "output_type": "pyout",
       "prompt_number": 16,
       "text": [
        "     caseId     docketId    caseIssuesId                voteId dateDecision  \\\n",
        "0  1946-001  1946-001-01  1946-001-01-01  1946-001-01-01-01-01   11/18/1946   \n",
        "1  1946-001  1946-001-01  1946-001-01-01  1946-001-01-01-01-02   11/18/1946   \n",
        "2  1946-001  1946-001-01  1946-001-01-01  1946-001-01-01-01-03   11/18/1946   \n",
        "3  1946-001  1946-001-01  1946-001-01-01  1946-001-01-01-01-04   11/18/1946   \n",
        "4  1946-001  1946-001-01  1946-001-01-01  1946-001-01-01-01-05   11/18/1946   \n",
        "5  1946-001  1946-001-01  1946-001-01-01  1946-001-01-01-01-06   11/18/1946   \n",
        "6  1946-001  1946-001-01  1946-001-01-01  1946-001-01-01-01-07   11/18/1946   \n",
        "7  1946-001  1946-001-01  1946-001-01-01  1946-001-01-01-01-08   11/18/1946   \n",
        "8  1946-001  1946-001-01  1946-001-01-01  1946-001-01-01-01-09   11/18/1946   \n",
        "9  1946-002  1946-002-01  1946-002-01-01  1946-002-01-01-01-01   11/18/1946   \n",
        "\n",
        "        usCite       sctCite       ledCite             lexisCite  term  \n",
        "0   329 U.S. 1   67 S. Ct. 6   91 L. Ed. 3  1946 U.S. LEXIS 1724  1946  \n",
        "1   329 U.S. 1   67 S. Ct. 6   91 L. Ed. 3  1946 U.S. LEXIS 1724  1946  \n",
        "2   329 U.S. 1   67 S. Ct. 6   91 L. Ed. 3  1946 U.S. LEXIS 1724  1946  \n",
        "3   329 U.S. 1   67 S. Ct. 6   91 L. Ed. 3  1946 U.S. LEXIS 1724  1946  \n",
        "4   329 U.S. 1   67 S. Ct. 6   91 L. Ed. 3  1946 U.S. LEXIS 1724  1946  \n",
        "5   329 U.S. 1   67 S. Ct. 6   91 L. Ed. 3  1946 U.S. LEXIS 1724  1946  \n",
        "6   329 U.S. 1   67 S. Ct. 6   91 L. Ed. 3  1946 U.S. LEXIS 1724  1946  \n",
        "7   329 U.S. 1   67 S. Ct. 6   91 L. Ed. 3  1946 U.S. LEXIS 1724  1946  \n",
        "8   329 U.S. 1   67 S. Ct. 6   91 L. Ed. 3  1946 U.S. LEXIS 1724  1946  \n",
        "9  329 U.S. 14  67 S. Ct. 13  91 L. Ed. 12  1946 U.S. LEXIS 1725  1946  "
       ]
      }
     ],
     "prompt_number": 16
    },
    {
     "cell_type": "code",
     "collapsed": false,
     "input": [],
     "language": "python",
     "metadata": {},
     "outputs": []
    }
   ],
   "metadata": {}
  }
 ]
}