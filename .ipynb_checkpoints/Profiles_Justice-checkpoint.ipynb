{
 "metadata": {
  "name": ""
 },
 "nbformat": 3,
 "nbformat_minor": 0,
 "worksheets": [
  {
   "cells": [
    {
     "cell_type": "code",
     "collapsed": false,
     "input": [
      "%matplotlib inline\n",
      "import json\n",
      "import fnmatch\n",
      "import numpy as np\n",
      "import networkx as nx\n",
      "import requests\n",
      "from pattern import web\n",
      "import re\n",
      "import matplotlib.pyplot as plt\n",
      "from itertools import combinations \n",
      "import operator\n",
      "import pandas as pd\n",
      "import numpy as np\n",
      "df = pd.read_csv('data/SCDB_2013_01_justiceCentered_Citation_Cleaned.csv')\n",
      "\n",
      "import prettyplotlib as pplt\n",
      "\n",
      "def remove_border(axes=None, top=False, right=False, left=True, bottom=True):\n",
      "    \"\"\"\n",
      "    Minimize chartjunk by stripping out unnecessary plot borders and axis ticks\n",
      "    \n",
      "    The top/right/left/bottom keywords toggle whether the corresponding plot border is drawn\n",
      "    \"\"\"\n",
      "    ax = axes or plt.gca()\n",
      "    ax.spines['top'].set_visible(top)\n",
      "    ax.spines['right'].set_visible(right)\n",
      "    ax.spines['left'].set_visible(left)\n",
      "    ax.spines['bottom'].set_visible(bottom)\n",
      "    \n",
      "    #turn off all ticks\n",
      "    ax.yaxis.set_ticks_position('none')\n",
      "    ax.xaxis.set_ticks_position('none')\n",
      "    \n",
      "    #now re-enable visibles\n",
      "    if top:\n",
      "        ax.xaxis.tick_top()\n",
      "    if bottom:\n",
      "        ax.xaxis.tick_bottom()\n",
      "    if left:\n",
      "        ax.yaxis.tick_left()\n",
      "    if right:\n",
      "        ax.yaxis.tick_right()"
     ],
     "language": "python",
     "metadata": {},
     "outputs": [],
     "prompt_number": 2
    },
    {
     "cell_type": "markdown",
     "metadata": {},
     "source": [
      "##Create Dictionary to Convert Numerical Justice ID's to Names via webscrape"
     ]
    },
    {
     "cell_type": "code",
     "collapsed": false,
     "input": [
      "URL = 'http://scdb.wustl.edu/documentation.php?var=justice'\n",
      "xml = requests.get(URL).text.encode('ascii', 'ignore')\n",
      "dom = web.DOM(xml)\n",
      "body = dom.body\n",
      "states = []\n",
      "\n",
      "data_list = []\n",
      "for table in body.by_tag('table'):\n",
      "    if len(table) >20:\n",
      "        for data in table.by_tag('tr'):\n",
      "            for item in data.by_tag('td'):\n",
      "                a =  item.content\n",
      "                a = a.replace('\\t', '')\n",
      "                a = str(a.replace('\\n', ''))\n",
      "                data_list.append(a)\n",
      "count = 0\n",
      "number_to_name= {}\n",
      "for item in data_list:\n",
      "    if count%2 == 0:\n",
      "        number = item\n",
      "    if count%2 != 0:\n",
      "        number_to_name[number] = item\n",
      "    count += 1\n",
      "    \n",
      "#print number_to_name"
     ],
     "language": "python",
     "metadata": {},
     "outputs": [],
     "prompt_number": 3
    },
    {
     "cell_type": "code",
     "collapsed": false,
     "input": [
      "df_byJustice = df.groupby('justice')\n",
      "votes_by_Justice = []\n",
      "Justices = []\n",
      "for ID, subframe in df_byJustice:\n",
      "    print number_to_name[str(int(ID))]\n",
      "    votes = []\n",
      "    Justices.append(number_to_name[str(int(ID))])\n",
      "    subgroup = subframe.groupby('caseId')\n",
      "    cases = subframe['caseId'].unique()\n",
      "    for case in cases:\n",
      "         votes.append((subframe[(subframe.caseId==case)].issueArea.values, subframe[(subframe.caseId==case)].direction.values))\n",
      "    votes_by_Justice.append(votes)\n",
      "    \n",
      "    \n"
     ],
     "language": "python",
     "metadata": {},
     "outputs": [
      {
       "output_type": "stream",
       "stream": "stdout",
       "text": [
        "HLBlack\n",
        "SFReed"
       ]
      },
      {
       "output_type": "stream",
       "stream": "stdout",
       "text": [
        "\n",
        "FFrankfurter"
       ]
      },
      {
       "output_type": "stream",
       "stream": "stdout",
       "text": [
        "\n",
        "WODouglas"
       ]
      },
      {
       "output_type": "stream",
       "stream": "stdout",
       "text": [
        "\n",
        "FMurphy"
       ]
      },
      {
       "output_type": "stream",
       "stream": "stdout",
       "text": [
        "\n",
        "RHJackson"
       ]
      },
      {
       "output_type": "stream",
       "stream": "stdout",
       "text": [
        "\n",
        "WBRutledge"
       ]
      },
      {
       "output_type": "stream",
       "stream": "stdout",
       "text": [
        "\n",
        "HHBurton"
       ]
      },
      {
       "output_type": "stream",
       "stream": "stdout",
       "text": [
        "\n",
        "FMVinson"
       ]
      },
      {
       "output_type": "stream",
       "stream": "stdout",
       "text": [
        "\n",
        "TCClark"
       ]
      },
      {
       "output_type": "stream",
       "stream": "stdout",
       "text": [
        "\n",
        "SMinton"
       ]
      },
      {
       "output_type": "stream",
       "stream": "stdout",
       "text": [
        "\n",
        "EWarren"
       ]
      },
      {
       "output_type": "stream",
       "stream": "stdout",
       "text": [
        "\n",
        "JHarlan2"
       ]
      },
      {
       "output_type": "stream",
       "stream": "stdout",
       "text": [
        "\n",
        "WJBrennan"
       ]
      },
      {
       "output_type": "stream",
       "stream": "stdout",
       "text": [
        "\n",
        "CEWhittaker"
       ]
      },
      {
       "output_type": "stream",
       "stream": "stdout",
       "text": [
        "\n",
        "PStewart"
       ]
      },
      {
       "output_type": "stream",
       "stream": "stdout",
       "text": [
        "\n",
        "BRWhite"
       ]
      },
      {
       "output_type": "stream",
       "stream": "stdout",
       "text": [
        "\n",
        "AJGoldberg"
       ]
      },
      {
       "output_type": "stream",
       "stream": "stdout",
       "text": [
        "\n",
        "AFortas"
       ]
      },
      {
       "output_type": "stream",
       "stream": "stdout",
       "text": [
        "\n",
        "TMarshall"
       ]
      },
      {
       "output_type": "stream",
       "stream": "stdout",
       "text": [
        "\n",
        "WEBurger"
       ]
      },
      {
       "output_type": "stream",
       "stream": "stdout",
       "text": [
        "\n",
        "HABlackmun"
       ]
      },
      {
       "output_type": "stream",
       "stream": "stdout",
       "text": [
        "\n",
        "LFPowell"
       ]
      },
      {
       "output_type": "stream",
       "stream": "stdout",
       "text": [
        "\n",
        "WHRehnquist"
       ]
      },
      {
       "output_type": "stream",
       "stream": "stdout",
       "text": [
        "\n",
        "JPStevens"
       ]
      },
      {
       "output_type": "stream",
       "stream": "stdout",
       "text": [
        "\n",
        "SDOConnor"
       ]
      },
      {
       "output_type": "stream",
       "stream": "stdout",
       "text": [
        "\n",
        "AScalia"
       ]
      },
      {
       "output_type": "stream",
       "stream": "stdout",
       "text": [
        "\n",
        "AMKennedy"
       ]
      },
      {
       "output_type": "stream",
       "stream": "stdout",
       "text": [
        "\n",
        "DHSouter"
       ]
      },
      {
       "output_type": "stream",
       "stream": "stdout",
       "text": [
        "\n",
        "CThomas"
       ]
      },
      {
       "output_type": "stream",
       "stream": "stdout",
       "text": [
        "\n",
        "RBGinsburg"
       ]
      },
      {
       "output_type": "stream",
       "stream": "stdout",
       "text": [
        "\n",
        "SGBreyer"
       ]
      },
      {
       "output_type": "stream",
       "stream": "stdout",
       "text": [
        "\n",
        "JGRoberts"
       ]
      },
      {
       "output_type": "stream",
       "stream": "stdout",
       "text": [
        "\n",
        "SAAlito"
       ]
      },
      {
       "output_type": "stream",
       "stream": "stdout",
       "text": [
        "\n",
        "SSotomayor"
       ]
      },
      {
       "output_type": "stream",
       "stream": "stdout",
       "text": [
        "\n",
        "EKagan"
       ]
      },
      {
       "output_type": "stream",
       "stream": "stdout",
       "text": [
        "\n"
       ]
      }
     ],
     "prompt_number": 4
    },
    {
     "cell_type": "markdown",
     "metadata": {},
     "source": [
      "##Create dictionary of Issue Area\n",
      "------------\n",
      "\n",
      "- hi\n",
      "- cool"
     ]
    },
    {
     "cell_type": "code",
     "collapsed": false,
     "input": [
      "URL = 'http://scdb.wustl.edu/documentation.php?var=issueArea'\n",
      "xml = requests.get(URL).text.encode('ascii', 'ignore')\n",
      "dom = web.DOM(xml)\n",
      "body = dom.body\n",
      "states = []\n",
      "\n",
      "data_list = []\n",
      "for table in body.by_tag('table'):\n",
      "    if len(table) >20:\n",
      "        for data in table.by_tag('tr'):\n",
      "            for item in data.by_tag('td'):\n",
      "                a =  item.content\n",
      "                a = a.replace('\\t', '')\n",
      "                a = str(a.replace('\\n', ''))\n",
      "                data_list.append(a)\n",
      "count = 0\n",
      "number_to_issArea= {}\n",
      "for item in data_list:\n",
      "    if count%2 == 0:\n",
      "        number = item\n",
      "    if count%2 != 0:\n",
      "        number_to_issArea[number] = item\n",
      "    count += 1\n",
      "    \n",
      "print number_to_issArea"
     ],
     "language": "python",
     "metadata": {},
     "outputs": [
      {
       "output_type": "stream",
       "stream": "stdout",
       "text": [
        "{'11': 'Interstate Relations', '10': 'Federalism', '13': 'Miscellaneous', '12': 'Federal Taxation', '14': 'Private Action', '1': 'Criminal Procedure', '3': 'First Amendment', '2': 'Civil Rights', '5': 'Privacy', '4': 'Due Process', '7': 'Unions', '6': 'Attorneys', '9': 'Judicial Power', '8': 'Economic Activity'}\n"
       ]
      }
     ],
     "prompt_number": 5
    },
    {
     "cell_type": "code",
     "collapsed": false,
     "input": [
      "print Justices"
     ],
     "language": "python",
     "metadata": {},
     "outputs": [
      {
       "output_type": "stream",
       "stream": "stdout",
       "text": [
        "['HLBlack', 'SFReed', 'FFrankfurter', 'WODouglas', 'FMurphy', 'RHJackson', 'WBRutledge', 'HHBurton', 'FMVinson', 'TCClark', 'SMinton', 'EWarren', 'JHarlan2', 'WJBrennan', 'CEWhittaker', 'PStewart', 'BRWhite', 'AJGoldberg', 'AFortas', 'TMarshall', 'WEBurger', 'HABlackmun', 'LFPowell', 'WHRehnquist', 'JPStevens', 'SDOConnor', 'AScalia', 'AMKennedy', 'DHSouter', 'CThomas', 'RBGinsburg', 'SGBreyer', 'JGRoberts', 'SAAlito', 'SSotomayor', 'EKagan']\n"
       ]
      }
     ],
     "prompt_number": 6
    },
    {
     "cell_type": "code",
     "collapsed": false,
     "input": [
      "def create_plot(name, total_votes, ideal_votes, AreaDict):\n",
      "    keys = total_votes.keys()\n",
      "    probs = {}\n",
      "    names = []\n",
      "    counts = []\n",
      "    #total = np.sum(total_votes.values())\n",
      "    #alphas = []\n",
      "    for i in xrange(len(keys)):\n",
      "        index = str(keys[i])\n",
      "        if total_votes[index] != 0:\n",
      "            counts.append(ideal_votes[index]/float(total_votes[index]))\n",
      "            names.append(AreaDict[index])\n",
      "           # alphas.append(ideal_votes[index]/float(int(total)))\n",
      "    y_pos = np.arange(len(names))\n",
      "    fig, ax = plt.subplots()\n",
      "    pplt.bar(ax, counts, y_pos, orientation='horizontal', align='center')  \n",
      "    plt.yticks(y_pos,names)\n",
      "    fig.set_size_inches(5, .2*len(names))\n",
      "    plt.ylim([-1, len(names)])\n",
      "    plt.xlim([0, 1.0])\n",
      "    plt.xlabel('Probability of voting Conservatively')\n",
      "    plt.title('Profile for {0}'.format(name))\n",
      "    remove_border()\n",
      "    plt.show()\n",
      "        "
     ],
     "language": "python",
     "metadata": {},
     "outputs": [],
     "prompt_number": 11
    },
    {
     "cell_type": "code",
     "collapsed": false,
     "input": [
      "for justice in xrange(len(Justices)):\n",
      "    name = Justices[justice]\n",
      "    Areas_counts = {}\n",
      "    Conservative_Areas_counts = {}\n",
      "    keys = number_to_issArea.keys()\n",
      "    for i in range(len(keys)):\n",
      "        count = str(keys[i])\n",
      "        Areas_counts[count] = 0\n",
      "        Conservative_Areas_counts[count] = 0\n",
      "    justice_votes = votes_by_Justice[justice]\n",
      "    for vote in justice_votes:\n",
      "        if not np.isnan(vote[0]) and not np.isnan(vote[1]):\n",
      "            issueArea = str(int(vote[0]))\n",
      "            direction = int(vote[1])\n",
      "            Areas_counts[issueArea] += 1\n",
      "            if direction == 1:\n",
      "                Conservative_Areas_counts[issueArea] += 1\n",
      "    create_plot(name, Areas_counts, Conservative_Areas_counts,number_to_issArea)"
     ],
     "language": "python",
     "metadata": {},
     "outputs": [
      {
       "ename": "AssertionError",
       "evalue": "incompatible sizes: argument 'left' must be length 1 or scalar",
       "output_type": "pyerr",
       "traceback": [
        "\u001b[0;31m---------------------------------------------------------------------------\u001b[0m\n\u001b[0;31mAssertionError\u001b[0m                            Traceback (most recent call last)",
        "\u001b[0;32m<ipython-input-12-0b2051b9c199>\u001b[0m in \u001b[0;36m<module>\u001b[0;34m()\u001b[0m\n\u001b[1;32m     16\u001b[0m             \u001b[0;32mif\u001b[0m \u001b[0mdirection\u001b[0m \u001b[0;34m==\u001b[0m \u001b[0;36m1\u001b[0m\u001b[0;34m:\u001b[0m\u001b[0;34m\u001b[0m\u001b[0m\n\u001b[1;32m     17\u001b[0m                 \u001b[0mConservative_Areas_counts\u001b[0m\u001b[0;34m[\u001b[0m\u001b[0missueArea\u001b[0m\u001b[0;34m]\u001b[0m \u001b[0;34m+=\u001b[0m \u001b[0;36m1\u001b[0m\u001b[0;34m\u001b[0m\u001b[0m\n\u001b[0;32m---> 18\u001b[0;31m     \u001b[0mcreate_plot\u001b[0m\u001b[0;34m(\u001b[0m\u001b[0mname\u001b[0m\u001b[0;34m,\u001b[0m \u001b[0mAreas_counts\u001b[0m\u001b[0;34m,\u001b[0m \u001b[0mConservative_Areas_counts\u001b[0m\u001b[0;34m,\u001b[0m\u001b[0mnumber_to_issArea\u001b[0m\u001b[0;34m)\u001b[0m\u001b[0;34m\u001b[0m\u001b[0m\n\u001b[0m",
        "\u001b[0;32m<ipython-input-11-12456681fe4c>\u001b[0m in \u001b[0;36mcreate_plot\u001b[0;34m(name, total_votes, ideal_votes, AreaDict)\u001b[0m\n\u001b[1;32m     14\u001b[0m     \u001b[0my_pos\u001b[0m \u001b[0;34m=\u001b[0m \u001b[0mnp\u001b[0m\u001b[0;34m.\u001b[0m\u001b[0marange\u001b[0m\u001b[0;34m(\u001b[0m\u001b[0mlen\u001b[0m\u001b[0;34m(\u001b[0m\u001b[0mnames\u001b[0m\u001b[0;34m)\u001b[0m\u001b[0;34m)\u001b[0m\u001b[0;34m\u001b[0m\u001b[0m\n\u001b[1;32m     15\u001b[0m     \u001b[0mfig\u001b[0m\u001b[0;34m,\u001b[0m \u001b[0max\u001b[0m \u001b[0;34m=\u001b[0m \u001b[0mplt\u001b[0m\u001b[0;34m.\u001b[0m\u001b[0msubplots\u001b[0m\u001b[0;34m(\u001b[0m\u001b[0;34m)\u001b[0m\u001b[0;34m\u001b[0m\u001b[0m\n\u001b[0;32m---> 16\u001b[0;31m     \u001b[0mpplt\u001b[0m\u001b[0;34m.\u001b[0m\u001b[0mbar\u001b[0m\u001b[0;34m(\u001b[0m\u001b[0max\u001b[0m\u001b[0;34m,\u001b[0m \u001b[0my_pos\u001b[0m\u001b[0;34m,\u001b[0m \u001b[0mcounts\u001b[0m\u001b[0;34m,\u001b[0m \u001b[0morientation\u001b[0m\u001b[0;34m=\u001b[0m\u001b[0;34m'horizontal'\u001b[0m\u001b[0;34m,\u001b[0m \u001b[0malign\u001b[0m\u001b[0;34m=\u001b[0m\u001b[0;34m'center'\u001b[0m\u001b[0;34m)\u001b[0m\u001b[0;34m\u001b[0m\u001b[0m\n\u001b[0m\u001b[1;32m     17\u001b[0m     \u001b[0mplt\u001b[0m\u001b[0;34m.\u001b[0m\u001b[0myticks\u001b[0m\u001b[0;34m(\u001b[0m\u001b[0my_pos\u001b[0m\u001b[0;34m,\u001b[0m\u001b[0mnames\u001b[0m\u001b[0;34m)\u001b[0m\u001b[0;34m\u001b[0m\u001b[0m\n\u001b[1;32m     18\u001b[0m     \u001b[0mfig\u001b[0m\u001b[0;34m.\u001b[0m\u001b[0mset_size_inches\u001b[0m\u001b[0;34m(\u001b[0m\u001b[0;36m5\u001b[0m\u001b[0;34m,\u001b[0m \u001b[0;36m.2\u001b[0m\u001b[0;34m*\u001b[0m\u001b[0mlen\u001b[0m\u001b[0;34m(\u001b[0m\u001b[0mnames\u001b[0m\u001b[0;34m)\u001b[0m\u001b[0;34m)\u001b[0m\u001b[0;34m\u001b[0m\u001b[0m\n",
        "\u001b[0;32m/Users/bull/anaconda/lib/python2.7/site-packages/prettyplotlib/__init__.pyc\u001b[0m in \u001b[0;36mbar\u001b[0;34m(ax, left, height, **kwargs)\u001b[0m\n\u001b[1;32m     89\u001b[0m     \u001b[0mgrid\u001b[0m \u001b[0;34m=\u001b[0m \u001b[0mkwargs\u001b[0m\u001b[0;34m.\u001b[0m\u001b[0mpop\u001b[0m\u001b[0;34m(\u001b[0m\u001b[0;34m'grid'\u001b[0m\u001b[0;34m,\u001b[0m \u001b[0mNone\u001b[0m\u001b[0;34m)\u001b[0m\u001b[0;34m\u001b[0m\u001b[0m\n\u001b[1;32m     90\u001b[0m \u001b[0;34m\u001b[0m\u001b[0m\n\u001b[0;32m---> 91\u001b[0;31m     \u001b[0max\u001b[0m\u001b[0;34m.\u001b[0m\u001b[0mbar\u001b[0m\u001b[0;34m(\u001b[0m\u001b[0mleft\u001b[0m\u001b[0;34m,\u001b[0m \u001b[0mheight\u001b[0m\u001b[0;34m,\u001b[0m \u001b[0;34m**\u001b[0m\u001b[0mkwargs\u001b[0m\u001b[0;34m)\u001b[0m\u001b[0;34m\u001b[0m\u001b[0m\n\u001b[0m\u001b[1;32m     92\u001b[0m \u001b[0;34m\u001b[0m\u001b[0m\n\u001b[1;32m     93\u001b[0m     \u001b[0;31m# add whitespace padding on left\u001b[0m\u001b[0;34m\u001b[0m\u001b[0;34m\u001b[0m\u001b[0m\n",
        "\u001b[0;32m/Users/bull/anaconda/lib/python2.7/site-packages/matplotlib/axes.pyc\u001b[0m in \u001b[0;36mbar\u001b[0;34m(self, left, height, width, bottom, **kwargs)\u001b[0m\n\u001b[1;32m   4994\u001b[0m         \u001b[0;31m# raising ValueError; don't use assert for this.\u001b[0m\u001b[0;34m\u001b[0m\u001b[0;34m\u001b[0m\u001b[0m\n\u001b[1;32m   4995\u001b[0m         assert len(left) == nbars, (\"incompatible sizes: argument 'left' must \"\n\u001b[0;32m-> 4996\u001b[0;31m                                     \"be length %d or scalar\" % nbars)\n\u001b[0m\u001b[1;32m   4997\u001b[0m         assert len(height) == nbars, (\"incompatible sizes: argument 'height' \"\n\u001b[1;32m   4998\u001b[0m                                       \u001b[0;34m\"must be length %d or scalar\"\u001b[0m \u001b[0;34m%\u001b[0m\u001b[0;34m\u001b[0m\u001b[0m\n",
        "\u001b[0;31mAssertionError\u001b[0m: incompatible sizes: argument 'left' must be length 1 or scalar"
       ]
      },
      {
       "metadata": {},
       "output_type": "display_data",
       "png": "[encoded data removed]",
       "text": [
        "<matplotlib.figure.Figure at 0x10c86bed0>"
       ]
      }
     ],
     "prompt_number": 12
    },
    {
     "cell_type": "code",
     "collapsed": false,
     "input": [],
     "language": "python",
     "metadata": {},
     "outputs": [],
     "prompt_number": 63
    },
    {
     "cell_type": "code",
     "collapsed": false,
     "input": [],
     "language": "python",
     "metadata": {},
     "outputs": []
    }
   ],
   "metadata": {}
  }
 ]
}