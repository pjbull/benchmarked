{
 "metadata": {
  "name": ""
 },
 "nbformat": 3,
 "nbformat_minor": 0,
 "worksheets": [
  {
   "cells": [
    {
     "cell_type": "code",
     "collapsed": false,
     "input": [
      "from __future__ import division\n",
      "import sklearn\n",
      "import numpy as np\n",
      "import pandas as pd\n",
      "import sklearn_pandas\n",
      "import scipy.stats as stat"
     ],
     "language": "python",
     "metadata": {},
     "outputs": [],
     "prompt_number": 1
    },
    {
     "cell_type": "code",
     "collapsed": false,
     "input": [
      "pr_df = pd.read_csv('data/pbull_explore/spaeth_w_pagerank.csv')"
     ],
     "language": "python",
     "metadata": {},
     "outputs": [],
     "prompt_number": 2
    },
    {
     "cell_type": "code",
     "collapsed": false,
     "input": [
      "cite_df = pd.read_csv('cite_graph_03_04.csv')"
     ],
     "language": "python",
     "metadata": {},
     "outputs": [],
     "prompt_number": 3
    },
    {
     "cell_type": "code",
     "collapsed": false,
     "input": [
      "pr_df.head()"
     ],
     "language": "python",
     "metadata": {},
     "outputs": [
      {
       "output_type": "stream",
       "stream": "stderr",
       "text": [
        "/Users/bull/anaconda/lib/python2.7/site-packages/pandas/core/config.py:570: DeprecationWarning: height has been deprecated.\n",
        "\n",
        "  warnings.warn(d.msg, DeprecationWarning)\n",
        "/Users/bull/anaconda/lib/python2.7/site-packages/pandas/core/config.py:570: DeprecationWarning: height has been deprecated.\n",
        "\n",
        "  warnings.warn(d.msg, DeprecationWarning)\n",
        "/Users/bull/anaconda/lib/python2.7/site-packages/pandas/core/config.py:570: DeprecationWarning: height has been deprecated.\n",
        "\n",
        "  warnings.warn(d.msg, DeprecationWarning)\n"
       ]
      },
      {
       "html": [
        "<pre>\n",
        "&lt;class 'pandas.core.frame.DataFrame'&gt;\n",
        "Int64Index: 5 entries, 0 to 4\n",
        "Data columns (total 59 columns):\n",
        "Unnamed: 0                  5  non-null values\n",
        "caseId                      5  non-null values\n",
        "docketId                    5  non-null values\n",
        "caseIssuesId                5  non-null values\n",
        "voteId                      5  non-null values\n",
        "dateDecision                5  non-null values\n",
        "usCite                      5  non-null values\n",
        "sctCite                     5  non-null values\n",
        "ledCite                     5  non-null values\n",
        "lexisCite                   5  non-null values\n",
        "term                        5  non-null values\n",
        "chief                       5  non-null values\n",
        "caseName                    5  non-null values\n",
        "petitioner                  5  non-null values\n",
        "petitionerState             0  non-null values\n",
        "respondent                  5  non-null values\n",
        "respondentState             0  non-null values\n",
        "jurisdiction                5  non-null values\n",
        "adminAction                 0  non-null values\n",
        "adminActionState            0  non-null values\n",
        "threeJudgeFdc               5  non-null values\n",
        "caseOrigin                  5  non-null values\n",
        "caseOriginState             5  non-null values\n",
        "caseSource                  5  non-null values\n",
        "caseSourceState             0  non-null values\n",
        "lcDisagreement              5  non-null values\n",
        "certReason                  5  non-null values\n",
        "lcDisposition               5  non-null values\n",
        "lcDispositionDirection      5  non-null values\n",
        "declarationUncon            5  non-null values\n",
        "caseDisposition             5  non-null values\n",
        "partyWinning                5  non-null values\n",
        "precedentAlteration         5  non-null values\n",
        "issueArea                   5  non-null values\n",
        "decisionDirection           5  non-null values\n",
        "decisionDirectionDissent    5  non-null values\n",
        "authorityDecision1          5  non-null values\n",
        "authorityDecision2          0  non-null values\n",
        "lawType                     5  non-null values\n",
        "majOpinWriter               5  non-null values\n",
        "splitVote                   5  non-null values\n",
        "majVotes                    5  non-null values\n",
        "minVotes                    5  non-null values\n",
        "justice                     5  non-null values\n",
        "justiceName                 5  non-null values\n",
        "vote                        5  non-null values\n",
        "opinion                     5  non-null values\n",
        "direction                   5  non-null values\n",
        "majority                    5  non-null values\n",
        "firstAgreement              0  non-null values\n",
        "secondAgreement             0  non-null values\n",
        "page_rank                   5  non-null values\n",
        "cl_id                       5  non-null values\n",
        "usCite_cited_by             5  non-null values\n",
        "betweeness                  5  non-null values\n",
        "closeness                   5  non-null values\n",
        "eigen_vec                   5  non-null values\n",
        "katz                        5  non-null values\n",
        "in_deg                      5  non-null values\n",
        "dtypes: float64(43), int64(2), object(14)\n",
        "</pre>"
       ],
       "metadata": {},
       "output_type": "pyout",
       "prompt_number": 4,
       "text": [
        "<class 'pandas.core.frame.DataFrame'>\n",
        "Int64Index: 5 entries, 0 to 4\n",
        "Data columns (total 59 columns):\n",
        "Unnamed: 0                  5  non-null values\n",
        "caseId                      5  non-null values\n",
        "docketId                    5  non-null values\n",
        "caseIssuesId                5  non-null values\n",
        "voteId                      5  non-null values\n",
        "dateDecision                5  non-null values\n",
        "usCite                      5  non-null values\n",
        "sctCite                     5  non-null values\n",
        "ledCite                     5  non-null values\n",
        "lexisCite                   5  non-null values\n",
        "term                        5  non-null values\n",
        "chief                       5  non-null values\n",
        "caseName                    5  non-null values\n",
        "petitioner                  5  non-null values\n",
        "petitionerState             0  non-null values\n",
        "respondent                  5  non-null values\n",
        "respondentState             0  non-null values\n",
        "jurisdiction                5  non-null values\n",
        "adminAction                 0  non-null values\n",
        "adminActionState            0  non-null values\n",
        "threeJudgeFdc               5  non-null values\n",
        "caseOrigin                  5  non-null values\n",
        "caseOriginState             5  non-null values\n",
        "caseSource                  5  non-null values\n",
        "caseSourceState             0  non-null values\n",
        "lcDisagreement              5  non-null values\n",
        "certReason                  5  non-null values\n",
        "lcDisposition               5  non-null values\n",
        "lcDispositionDirection      5  non-null values\n",
        "declarationUncon            5  non-null values\n",
        "caseDisposition             5  non-null values\n",
        "partyWinning                5  non-null values\n",
        "precedentAlteration         5  non-null values\n",
        "issueArea                   5  non-null values\n",
        "decisionDirection           5  non-null values\n",
        "decisionDirectionDissent    5  non-null values\n",
        "authorityDecision1          5  non-null values\n",
        "authorityDecision2          0  non-null values\n",
        "lawType                     5  non-null values\n",
        "majOpinWriter               5  non-null values\n",
        "splitVote                   5  non-null values\n",
        "majVotes                    5  non-null values\n",
        "minVotes                    5  non-null values\n",
        "justice                     5  non-null values\n",
        "justiceName                 5  non-null values\n",
        "vote                        5  non-null values\n",
        "opinion                     5  non-null values\n",
        "direction                   5  non-null values\n",
        "majority                    5  non-null values\n",
        "firstAgreement              0  non-null values\n",
        "secondAgreement             0  non-null values\n",
        "page_rank                   5  non-null values\n",
        "cl_id                       5  non-null values\n",
        "usCite_cited_by             5  non-null values\n",
        "betweeness                  5  non-null values\n",
        "closeness                   5  non-null values\n",
        "eigen_vec                   5  non-null values\n",
        "katz                        5  non-null values\n",
        "in_deg                      5  non-null values\n",
        "dtypes: float64(43), int64(2), object(14)"
       ]
      }
     ],
     "prompt_number": 4
    },
    {
     "cell_type": "code",
     "collapsed": false,
     "input": [
      "def total_score(row, feature):\n",
      "    cites = eval(row['citations'])\n",
      "    val = 0\n",
      "    for c in cites:\n",
      "        prs = pr_df[pr_df['usCite']==c][feature]\n",
      "        \n",
      "        # special case degree\n",
      "        if feat == 'usCite_cited_by':\n",
      "            print type(prs.values[0])\n",
      "            val += len(prs)\n",
      "        else:\n",
      "            if len(prs.index) > 0 and not np.isnan(prs.values[0]):\n",
      "                val += prs.values[0]\n",
      "            \n",
      "    normed = val/len(cites) if len(cites) > 0 else 0\n",
      "    return normed\n",
      "\n",
      "cite_copy = cite_df.copy()\n",
      "\n",
      "#network features\n",
      "ntwk_features = ['usCite_cited_by', 'page_rank', 'betweeness','closeness','eigen_vec','katz','in_deg']\n",
      "\n",
      "for feat in ntwk_features:\n",
      "    cite_copy[feat+'_sum'] = cite_copy.head(5).apply(lambda x: total_score(x, feat), axis=1)"
     ],
     "language": "python",
     "metadata": {},
     "outputs": [
      {
       "output_type": "stream",
       "stream": "stdout",
       "text": [
        "<class 'pandas.core.series.Series'>\n",
        "<class 'pandas.core.series.Series'>\n",
        "<class 'pandas.core.series.Series'>\n",
        "<class 'pandas.core.series.Series'>"
       ]
      },
      {
       "output_type": "stream",
       "stream": "stdout",
       "text": [
        "\n",
        "<class 'pandas.core.series.Series'>\n",
        "<class 'pandas.core.series.Series'>\n",
        "<class 'pandas.core.series.Series'>"
       ]
      },
      {
       "output_type": "stream",
       "stream": "stdout",
       "text": [
        "\n",
        "<class 'pandas.core.series.Series'>\n",
        "<class 'pandas.core.series.Series'>\n",
        "<class 'pandas.core.series.Series'>"
       ]
      },
      {
       "output_type": "stream",
       "stream": "stdout",
       "text": [
        "\n",
        "<class 'pandas.core.series.Series'>\n",
        "<class 'pandas.core.series.Series'>\n",
        "<class 'pandas.core.series.Series'>"
       ]
      },
      {
       "output_type": "stream",
       "stream": "stdout",
       "text": [
        "\n",
        "<class 'pandas.core.series.Series'>\n",
        "<class 'pandas.core.series.Series'>\n",
        "<class 'pandas.core.series.Series'>"
       ]
      },
      {
       "output_type": "stream",
       "stream": "stdout",
       "text": [
        "\n",
        "<class 'pandas.core.series.Series'>\n",
        "<class 'pandas.core.series.Series'>\n",
        "<class 'pandas.core.series.Series'>"
       ]
      },
      {
       "output_type": "stream",
       "stream": "stdout",
       "text": [
        "\n",
        "<class 'pandas.core.series.Series'>\n",
        "<class 'pandas.core.series.Series'>\n",
        "<class 'pandas.core.series.Series'>"
       ]
      },
      {
       "output_type": "stream",
       "stream": "stdout",
       "text": [
        "\n",
        "<class 'pandas.core.series.Series'>\n",
        "<class 'pandas.core.series.Series'>\n",
        "<class 'pandas.core.series.Series'>"
       ]
      },
      {
       "output_type": "stream",
       "stream": "stdout",
       "text": [
        "\n",
        "<class 'pandas.core.series.Series'>\n",
        "<class 'pandas.core.series.Series'>\n",
        "<class 'pandas.core.series.Series'>"
       ]
      },
      {
       "output_type": "stream",
       "stream": "stdout",
       "text": [
        "\n",
        "<class 'pandas.core.series.Series'>\n",
        "<class 'pandas.core.series.Series'>\n",
        "<class 'pandas.core.series.Series'>"
       ]
      },
      {
       "output_type": "stream",
       "stream": "stdout",
       "text": [
        "\n",
        "<class 'pandas.core.series.Series'>\n",
        "<class 'pandas.core.series.Series'>\n",
        "<class 'pandas.core.series.Series'>"
       ]
      },
      {
       "output_type": "stream",
       "stream": "stdout",
       "text": [
        "\n",
        "<class 'pandas.core.series.Series'>\n",
        "<class 'pandas.core.series.Series'>\n",
        "<class 'pandas.core.series.Series'>"
       ]
      },
      {
       "output_type": "stream",
       "stream": "stdout",
       "text": [
        "\n",
        "<class 'pandas.core.series.Series'>\n",
        "<class 'pandas.core.series.Series'>\n",
        "<class 'pandas.core.series.Series'>"
       ]
      },
      {
       "output_type": "stream",
       "stream": "stdout",
       "text": [
        "\n",
        "<class 'pandas.core.series.Series'>\n",
        "<class 'pandas.core.series.Series'>\n",
        "<class 'pandas.core.series.Series'>"
       ]
      },
      {
       "output_type": "stream",
       "stream": "stdout",
       "text": [
        "\n",
        "<class 'pandas.core.series.Series'>\n",
        "<class 'pandas.core.series.Series'>\n",
        "<class 'pandas.core.series.Series'>"
       ]
      },
      {
       "output_type": "stream",
       "stream": "stdout",
       "text": [
        "\n",
        "<class 'pandas.core.series.Series'>\n",
        "<class 'pandas.core.series.Series'>\n",
        "<class 'pandas.core.series.Series'>"
       ]
      },
      {
       "output_type": "stream",
       "stream": "stdout",
       "text": [
        "\n",
        "<class 'pandas.core.series.Series'>\n",
        "<class 'pandas.core.series.Series'>\n",
        "<class 'pandas.core.series.Series'>"
       ]
      },
      {
       "output_type": "stream",
       "stream": "stdout",
       "text": [
        "\n",
        "<class 'pandas.core.series.Series'>\n",
        "<class 'pandas.core.series.Series'>\n",
        "<class 'pandas.core.series.Series'>"
       ]
      },
      {
       "output_type": "stream",
       "stream": "stdout",
       "text": [
        "\n",
        "<class 'pandas.core.series.Series'>\n",
        "<class 'pandas.core.series.Series'>\n",
        "<class 'pandas.core.series.Series'>"
       ]
      },
      {
       "output_type": "stream",
       "stream": "stdout",
       "text": [
        "\n",
        "<class 'pandas.core.series.Series'>\n",
        "<class 'pandas.core.series.Series'>\n",
        "<class 'pandas.core.series.Series'>"
       ]
      },
      {
       "output_type": "stream",
       "stream": "stdout",
       "text": [
        "\n",
        "<class 'pandas.core.series.Series'>\n",
        "<class 'pandas.core.series.Series'>\n",
        "<class 'pandas.core.series.Series'>"
       ]
      },
      {
       "output_type": "stream",
       "stream": "stdout",
       "text": [
        "\n",
        "<class 'pandas.core.series.Series'>\n",
        "<class 'pandas.core.series.Series'>\n",
        "<class 'pandas.core.series.Series'>"
       ]
      },
      {
       "output_type": "stream",
       "stream": "stdout",
       "text": [
        "\n",
        "<class 'pandas.core.series.Series'>\n",
        "<class 'pandas.core.series.Series'>\n",
        "<class 'pandas.core.series.Series'>"
       ]
      },
      {
       "output_type": "stream",
       "stream": "stdout",
       "text": [
        "\n",
        "<class 'pandas.core.series.Series'>\n",
        "<class 'pandas.core.series.Series'>\n",
        "<class 'pandas.core.series.Series'>"
       ]
      },
      {
       "output_type": "stream",
       "stream": "stdout",
       "text": [
        "\n",
        "<class 'pandas.core.series.Series'>\n",
        "<class 'pandas.core.series.Series'>\n",
        "<class 'pandas.core.series.Series'>"
       ]
      },
      {
       "output_type": "stream",
       "stream": "stdout",
       "text": [
        "\n",
        "<class 'pandas.core.series.Series'>\n",
        "<class 'pandas.core.series.Series'>\n",
        "<class 'pandas.core.series.Series'>"
       ]
      },
      {
       "output_type": "stream",
       "stream": "stdout",
       "text": [
        "\n",
        "<class 'pandas.core.series.Series'>\n",
        "<class 'pandas.core.series.Series'>\n",
        "<class 'pandas.core.series.Series'>"
       ]
      },
      {
       "output_type": "stream",
       "stream": "stdout",
       "text": [
        "\n",
        "<class 'pandas.core.series.Series'>\n",
        "<class 'pandas.core.series.Series'>\n",
        "<class 'pandas.core.series.Series'>"
       ]
      },
      {
       "output_type": "stream",
       "stream": "stdout",
       "text": [
        "\n",
        "<class 'pandas.core.series.Series'>\n",
        "<class 'pandas.core.series.Series'>\n",
        "<class 'pandas.core.series.Series'>"
       ]
      },
      {
       "output_type": "stream",
       "stream": "stdout",
       "text": [
        "\n",
        "<class 'pandas.core.series.Series'>\n",
        "<class 'pandas.core.series.Series'>\n",
        "<class 'pandas.core.series.Series'>"
       ]
      },
      {
       "output_type": "stream",
       "stream": "stdout",
       "text": [
        "\n",
        "<class 'pandas.core.series.Series'>\n",
        "<class 'pandas.core.series.Series'>\n",
        "<class 'pandas.core.series.Series'>"
       ]
      },
      {
       "output_type": "stream",
       "stream": "stdout",
       "text": [
        "\n",
        "<class 'pandas.core.series.Series'>\n",
        "<class 'pandas.core.series.Series'>\n",
        "<class 'pandas.core.series.Series'>"
       ]
      },
      {
       "output_type": "stream",
       "stream": "stdout",
       "text": [
        "\n",
        "<class 'pandas.core.series.Series'>\n",
        "<class 'pandas.core.series.Series'>\n",
        "<class 'pandas.core.series.Series'>"
       ]
      },
      {
       "output_type": "stream",
       "stream": "stdout",
       "text": [
        "\n",
        "<class 'pandas.core.series.Series'>\n",
        "<class 'pandas.core.series.Series'>\n",
        "<class 'pandas.core.series.Series'>"
       ]
      },
      {
       "output_type": "stream",
       "stream": "stdout",
       "text": [
        "\n",
        "<class 'pandas.core.series.Series'>\n",
        "<class 'pandas.core.series.Series'>\n",
        "<class 'pandas.core.series.Series'>"
       ]
      },
      {
       "output_type": "stream",
       "stream": "stdout",
       "text": [
        "\n",
        "<class 'pandas.core.series.Series'>\n",
        "<class 'pandas.core.series.Series'>\n",
        "<class 'pandas.core.series.Series'>"
       ]
      },
      {
       "output_type": "stream",
       "stream": "stdout",
       "text": [
        "\n",
        "<class 'pandas.core.series.Series'>\n",
        "<class 'pandas.core.series.Series'>\n",
        "<class 'pandas.core.series.Series'>"
       ]
      },
      {
       "output_type": "stream",
       "stream": "stdout",
       "text": [
        "\n",
        "<class 'pandas.core.series.Series'>\n",
        "<class 'pandas.core.series.Series'>\n",
        "<class 'pandas.core.series.Series'>"
       ]
      },
      {
       "output_type": "stream",
       "stream": "stdout",
       "text": [
        "\n",
        "<class 'pandas.core.series.Series'>\n",
        "<class 'pandas.core.series.Series'>\n",
        "<class 'pandas.core.series.Series'>"
       ]
      },
      {
       "output_type": "stream",
       "stream": "stdout",
       "text": [
        "\n",
        "<class 'pandas.core.series.Series'>\n",
        "<class 'pandas.core.series.Series'>\n",
        "<class 'pandas.core.series.Series'>"
       ]
      },
      {
       "output_type": "stream",
       "stream": "stdout",
       "text": [
        "\n",
        "<class 'pandas.core.series.Series'>\n",
        "<class 'pandas.core.series.Series'>\n",
        "<class 'pandas.core.series.Series'>"
       ]
      },
      {
       "output_type": "stream",
       "stream": "stdout",
       "text": [
        "\n",
        "<class 'pandas.core.series.Series'>\n",
        "<class 'pandas.core.series.Series'>\n",
        "<class 'pandas.core.series.Series'>"
       ]
      },
      {
       "output_type": "stream",
       "stream": "stdout",
       "text": [
        "\n",
        "<class 'pandas.core.series.Series'>\n",
        "<class 'pandas.core.series.Series'>\n",
        "<class 'pandas.core.series.Series'>"
       ]
      },
      {
       "output_type": "stream",
       "stream": "stdout",
       "text": [
        "\n",
        "<class 'pandas.core.series.Series'>\n",
        "<class 'pandas.core.series.Series'>\n",
        "<class 'pandas.core.series.Series'>"
       ]
      },
      {
       "output_type": "stream",
       "stream": "stdout",
       "text": [
        "\n",
        "<class 'pandas.core.series.Series'>\n",
        "<class 'pandas.core.series.Series'>\n",
        "<class 'pandas.core.series.Series'>"
       ]
      },
      {
       "output_type": "stream",
       "stream": "stdout",
       "text": [
        "\n",
        "<class 'pandas.core.series.Series'>\n",
        "<class 'pandas.core.series.Series'>\n",
        "<class 'pandas.core.series.Series'>"
       ]
      },
      {
       "output_type": "stream",
       "stream": "stdout",
       "text": [
        "\n",
        "<class 'pandas.core.series.Series'>\n",
        "<class 'pandas.core.series.Series'>\n",
        "<class 'pandas.core.series.Series'>"
       ]
      },
      {
       "output_type": "stream",
       "stream": "stdout",
       "text": [
        "\n",
        "<class 'pandas.core.series.Series'>\n",
        "<class 'pandas.core.series.Series'>\n",
        "<class 'pandas.core.series.Series'>"
       ]
      },
      {
       "output_type": "stream",
       "stream": "stdout",
       "text": [
        "\n",
        "<class 'pandas.core.series.Series'>\n",
        "<class 'pandas.core.series.Series'>\n",
        "<class 'pandas.core.series.Series'>"
       ]
      },
      {
       "output_type": "stream",
       "stream": "stdout",
       "text": [
        "\n",
        "<class 'pandas.core.series.Series'>\n",
        "<class 'pandas.core.series.Series'>\n",
        "<class 'pandas.core.series.Series'>"
       ]
      },
      {
       "output_type": "stream",
       "stream": "stdout",
       "text": [
        "\n",
        "<class 'pandas.core.series.Series'>\n",
        "<class 'pandas.core.series.Series'>\n",
        "<class 'pandas.core.series.Series'>"
       ]
      },
      {
       "output_type": "stream",
       "stream": "stdout",
       "text": [
        "\n",
        "<class 'pandas.core.series.Series'>\n",
        "<class 'pandas.core.series.Series'>\n",
        "<class 'pandas.core.series.Series'>"
       ]
      },
      {
       "output_type": "stream",
       "stream": "stdout",
       "text": [
        "\n",
        "<class 'pandas.core.series.Series'>\n",
        "<class 'pandas.core.series.Series'>\n",
        "<class 'pandas.core.series.Series'>"
       ]
      },
      {
       "output_type": "stream",
       "stream": "stdout",
       "text": [
        "\n",
        "<class 'pandas.core.series.Series'>\n",
        "<class 'pandas.core.series.Series'>\n",
        "<class 'pandas.core.series.Series'>"
       ]
      },
      {
       "output_type": "stream",
       "stream": "stdout",
       "text": [
        "\n",
        "<class 'pandas.core.series.Series'>\n",
        "<class 'pandas.core.series.Series'>\n",
        "<class 'pandas.core.series.Series'>"
       ]
      },
      {
       "output_type": "stream",
       "stream": "stdout",
       "text": [
        "\n",
        "<class 'pandas.core.series.Series'>\n",
        "<class 'pandas.core.series.Series'>\n",
        "<class 'pandas.core.series.Series'>"
       ]
      },
      {
       "output_type": "stream",
       "stream": "stdout",
       "text": [
        "\n",
        "<class 'pandas.core.series.Series'>\n",
        "<class 'pandas.core.series.Series'>\n",
        "<class 'pandas.core.series.Series'>"
       ]
      },
      {
       "output_type": "stream",
       "stream": "stdout",
       "text": [
        "\n",
        "<class 'pandas.core.series.Series'>\n",
        "<class 'pandas.core.series.Series'>\n",
        "<class 'pandas.core.series.Series'>"
       ]
      },
      {
       "output_type": "stream",
       "stream": "stdout",
       "text": [
        "\n",
        "<class 'pandas.core.series.Series'>\n",
        "<class 'pandas.core.series.Series'>\n",
        "<class 'pandas.core.series.Series'>"
       ]
      },
      {
       "output_type": "stream",
       "stream": "stdout",
       "text": [
        "\n",
        "<class 'pandas.core.series.Series'>\n",
        "<class 'pandas.core.series.Series'>\n",
        "<class 'pandas.core.series.Series'>"
       ]
      },
      {
       "output_type": "stream",
       "stream": "stdout",
       "text": [
        "\n",
        "<class 'pandas.core.series.Series'>\n",
        "<class 'pandas.core.series.Series'>\n",
        "<class 'pandas.core.series.Series'>"
       ]
      },
      {
       "output_type": "stream",
       "stream": "stdout",
       "text": [
        "\n",
        "<class 'pandas.core.series.Series'>\n",
        "<class 'pandas.core.series.Series'>\n",
        "<class 'pandas.core.series.Series'>"
       ]
      },
      {
       "output_type": "stream",
       "stream": "stdout",
       "text": [
        "\n",
        "<class 'pandas.core.series.Series'>\n",
        "<class 'pandas.core.series.Series'>\n",
        "<class 'pandas.core.series.Series'>"
       ]
      },
      {
       "output_type": "stream",
       "stream": "stdout",
       "text": [
        "\n",
        "<class 'pandas.core.series.Series'>\n",
        "<class 'pandas.core.series.Series'>\n",
        "<class 'pandas.core.series.Series'>"
       ]
      },
      {
       "output_type": "stream",
       "stream": "stdout",
       "text": [
        "\n",
        "<class 'pandas.core.series.Series'>\n",
        "<class 'pandas.core.series.Series'>\n",
        "<class 'pandas.core.series.Series'>"
       ]
      },
      {
       "output_type": "stream",
       "stream": "stdout",
       "text": [
        "\n",
        "<class 'pandas.core.series.Series'>\n",
        "<class 'pandas.core.series.Series'>\n",
        "<class 'pandas.core.series.Series'>"
       ]
      },
      {
       "output_type": "stream",
       "stream": "stdout",
       "text": [
        "\n",
        "<class 'pandas.core.series.Series'>\n",
        "<class 'pandas.core.series.Series'>\n",
        "<class 'pandas.core.series.Series'>"
       ]
      },
      {
       "output_type": "stream",
       "stream": "stdout",
       "text": [
        "\n",
        "<class 'pandas.core.series.Series'>\n",
        "<class 'pandas.core.series.Series'>\n",
        "<class 'pandas.core.series.Series'>"
       ]
      },
      {
       "output_type": "stream",
       "stream": "stdout",
       "text": [
        "\n",
        "<class 'pandas.core.series.Series'>\n",
        "<class 'pandas.core.series.Series'>\n",
        "<class 'pandas.core.series.Series'>"
       ]
      },
      {
       "output_type": "stream",
       "stream": "stdout",
       "text": [
        "\n",
        "<class 'pandas.core.series.Series'>\n",
        "<class 'pandas.core.series.Series'>\n",
        "<class 'pandas.core.series.Series'>"
       ]
      },
      {
       "output_type": "stream",
       "stream": "stdout",
       "text": [
        "\n",
        "<class 'pandas.core.series.Series'>\n",
        "<class 'pandas.core.series.Series'>\n",
        "<class 'pandas.core.series.Series'>"
       ]
      },
      {
       "output_type": "stream",
       "stream": "stdout",
       "text": [
        "\n",
        "<class 'pandas.core.series.Series'>\n",
        "<class 'pandas.core.series.Series'>\n",
        "<class 'pandas.core.series.Series'>"
       ]
      },
      {
       "output_type": "stream",
       "stream": "stdout",
       "text": [
        "\n",
        "<class 'pandas.core.series.Series'>\n",
        "<class 'pandas.core.series.Series'>\n",
        "<class 'pandas.core.series.Series'>"
       ]
      },
      {
       "output_type": "stream",
       "stream": "stdout",
       "text": [
        "\n",
        "<class 'pandas.core.series.Series'>\n",
        "<class 'pandas.core.series.Series'>\n",
        "<class 'pandas.core.series.Series'>"
       ]
      },
      {
       "output_type": "stream",
       "stream": "stdout",
       "text": [
        "\n",
        "<class 'pandas.core.series.Series'>\n",
        "<class 'pandas.core.series.Series'>\n",
        "<class 'pandas.core.series.Series'>"
       ]
      },
      {
       "output_type": "stream",
       "stream": "stdout",
       "text": [
        "\n",
        "<class 'pandas.core.series.Series'>\n",
        "<class 'pandas.core.series.Series'>\n",
        "<class 'pandas.core.series.Series'>"
       ]
      },
      {
       "output_type": "stream",
       "stream": "stdout",
       "text": [
        "\n",
        "<class 'pandas.core.series.Series'>\n",
        "<class 'pandas.core.series.Series'>\n",
        "<class 'pandas.core.series.Series'>"
       ]
      },
      {
       "output_type": "stream",
       "stream": "stdout",
       "text": [
        "\n",
        "<class 'pandas.core.series.Series'>\n",
        "<class 'pandas.core.series.Series'>\n",
        "<class 'pandas.core.series.Series'>"
       ]
      },
      {
       "output_type": "stream",
       "stream": "stdout",
       "text": [
        "\n",
        "<class 'pandas.core.series.Series'>\n",
        "<class 'pandas.core.series.Series'>\n",
        "<class 'pandas.core.series.Series'>"
       ]
      },
      {
       "output_type": "stream",
       "stream": "stdout",
       "text": [
        "\n",
        "<class 'pandas.core.series.Series'>\n",
        "<class 'pandas.core.series.Series'>\n",
        "<class 'pandas.core.series.Series'>"
       ]
      },
      {
       "output_type": "stream",
       "stream": "stdout",
       "text": [
        "\n",
        "<class 'pandas.core.series.Series'>\n",
        "<class 'pandas.core.series.Series'>\n",
        "<class 'pandas.core.series.Series'>"
       ]
      },
      {
       "output_type": "stream",
       "stream": "stdout",
       "text": [
        "\n",
        "<class 'pandas.core.series.Series'>\n",
        "<class 'pandas.core.series.Series'>\n",
        "<class 'pandas.core.series.Series'>"
       ]
      },
      {
       "output_type": "stream",
       "stream": "stdout",
       "text": [
        "\n",
        "<class 'pandas.core.series.Series'>\n",
        "<class 'pandas.core.series.Series'>\n",
        "<class 'pandas.core.series.Series'>"
       ]
      },
      {
       "output_type": "stream",
       "stream": "stdout",
       "text": [
        "\n",
        "<class 'pandas.core.series.Series'>\n",
        "<class 'pandas.core.series.Series'>\n",
        "<class 'pandas.core.series.Series'>"
       ]
      },
      {
       "output_type": "stream",
       "stream": "stdout",
       "text": [
        "\n",
        "<class 'pandas.core.series.Series'>\n",
        "<class 'pandas.core.series.Series'>\n",
        "<class 'pandas.core.series.Series'>"
       ]
      },
      {
       "output_type": "stream",
       "stream": "stdout",
       "text": [
        "\n",
        "<class 'pandas.core.series.Series'>\n",
        "<class 'pandas.core.series.Series'>\n",
        "<class 'pandas.core.series.Series'>"
       ]
      },
      {
       "output_type": "stream",
       "stream": "stdout",
       "text": [
        "\n",
        "<class 'pandas.core.series.Series'>\n",
        "<class 'pandas.core.series.Series'>\n",
        "<class 'pandas.core.series.Series'>"
       ]
      },
      {
       "ename": "KeyboardInterrupt",
       "evalue": "",
       "output_type": "pyerr",
       "traceback": [
        "\u001b[0;31m---------------------------------------------------------------------------\u001b[0m\n\u001b[0;31mKeyboardInterrupt\u001b[0m                         Traceback (most recent call last)",
        "\u001b[0;32m<ipython-input-44-206bbf308f20>\u001b[0m in \u001b[0;36m<module>\u001b[0;34m()\u001b[0m\n\u001b[1;32m     22\u001b[0m \u001b[0;34m\u001b[0m\u001b[0m\n\u001b[1;32m     23\u001b[0m \u001b[0;32mfor\u001b[0m \u001b[0mfeat\u001b[0m \u001b[0;32min\u001b[0m \u001b[0mntwk_features\u001b[0m\u001b[0;34m:\u001b[0m\u001b[0;34m\u001b[0m\u001b[0m\n\u001b[0;32m---> 24\u001b[0;31m     \u001b[0mcite_copy\u001b[0m\u001b[0;34m[\u001b[0m\u001b[0mfeat\u001b[0m\u001b[0;34m+\u001b[0m\u001b[0;34m'_sum'\u001b[0m\u001b[0;34m]\u001b[0m \u001b[0;34m=\u001b[0m \u001b[0mcite_copy\u001b[0m\u001b[0;34m.\u001b[0m\u001b[0mhead\u001b[0m\u001b[0;34m(\u001b[0m\u001b[0;36m5\u001b[0m\u001b[0;34m)\u001b[0m\u001b[0;34m.\u001b[0m\u001b[0mapply\u001b[0m\u001b[0;34m(\u001b[0m\u001b[0;32mlambda\u001b[0m \u001b[0mx\u001b[0m\u001b[0;34m:\u001b[0m \u001b[0mtotal_score\u001b[0m\u001b[0;34m(\u001b[0m\u001b[0mx\u001b[0m\u001b[0;34m,\u001b[0m \u001b[0mfeat\u001b[0m\u001b[0;34m)\u001b[0m\u001b[0;34m,\u001b[0m \u001b[0maxis\u001b[0m\u001b[0;34m=\u001b[0m\u001b[0;36m1\u001b[0m\u001b[0;34m)\u001b[0m\u001b[0;34m\u001b[0m\u001b[0m\n\u001b[0m",
        "\u001b[0;32m/Users/bull/anaconda/lib/python2.7/site-packages/pandas/core/frame.pyc\u001b[0m in \u001b[0;36mapply\u001b[0;34m(self, func, axis, broadcast, raw, args, **kwds)\u001b[0m\n\u001b[1;32m   4414\u001b[0m                     \u001b[0;32mreturn\u001b[0m \u001b[0mself\u001b[0m\u001b[0;34m.\u001b[0m\u001b[0m_apply_raw\u001b[0m\u001b[0;34m(\u001b[0m\u001b[0mf\u001b[0m\u001b[0;34m,\u001b[0m \u001b[0maxis\u001b[0m\u001b[0;34m)\u001b[0m\u001b[0;34m\u001b[0m\u001b[0m\n\u001b[1;32m   4415\u001b[0m                 \u001b[0;32melse\u001b[0m\u001b[0;34m:\u001b[0m\u001b[0;34m\u001b[0m\u001b[0m\n\u001b[0;32m-> 4416\u001b[0;31m                     \u001b[0;32mreturn\u001b[0m \u001b[0mself\u001b[0m\u001b[0;34m.\u001b[0m\u001b[0m_apply_standard\u001b[0m\u001b[0;34m(\u001b[0m\u001b[0mf\u001b[0m\u001b[0;34m,\u001b[0m \u001b[0maxis\u001b[0m\u001b[0;34m)\u001b[0m\u001b[0;34m\u001b[0m\u001b[0m\n\u001b[0m\u001b[1;32m   4417\u001b[0m             \u001b[0;32melse\u001b[0m\u001b[0;34m:\u001b[0m\u001b[0;34m\u001b[0m\u001b[0m\n\u001b[1;32m   4418\u001b[0m                 \u001b[0;32mreturn\u001b[0m \u001b[0mself\u001b[0m\u001b[0;34m.\u001b[0m\u001b[0m_apply_broadcast\u001b[0m\u001b[0;34m(\u001b[0m\u001b[0mf\u001b[0m\u001b[0;34m,\u001b[0m \u001b[0maxis\u001b[0m\u001b[0;34m)\u001b[0m\u001b[0;34m\u001b[0m\u001b[0m\n",
        "\u001b[0;32m/Users/bull/anaconda/lib/python2.7/site-packages/pandas/core/frame.pyc\u001b[0m in \u001b[0;36m_apply_standard\u001b[0;34m(self, func, axis, ignore_failures)\u001b[0m\n\u001b[1;32m   4478\u001b[0m             \u001b[0;32mtry\u001b[0m\u001b[0;34m:\u001b[0m\u001b[0;34m\u001b[0m\u001b[0m\n\u001b[1;32m   4479\u001b[0m                 \u001b[0;32mfor\u001b[0m \u001b[0mi\u001b[0m\u001b[0;34m,\u001b[0m \u001b[0mv\u001b[0m \u001b[0;32min\u001b[0m \u001b[0menumerate\u001b[0m\u001b[0;34m(\u001b[0m\u001b[0mseries_gen\u001b[0m\u001b[0;34m)\u001b[0m\u001b[0;34m:\u001b[0m\u001b[0;34m\u001b[0m\u001b[0m\n\u001b[0;32m-> 4480\u001b[0;31m                     \u001b[0mresults\u001b[0m\u001b[0;34m[\u001b[0m\u001b[0mi\u001b[0m\u001b[0;34m]\u001b[0m \u001b[0;34m=\u001b[0m \u001b[0mfunc\u001b[0m\u001b[0;34m(\u001b[0m\u001b[0mv\u001b[0m\u001b[0;34m)\u001b[0m\u001b[0;34m\u001b[0m\u001b[0m\n\u001b[0m\u001b[1;32m   4481\u001b[0m                     \u001b[0mkeys\u001b[0m\u001b[0;34m.\u001b[0m\u001b[0mappend\u001b[0m\u001b[0;34m(\u001b[0m\u001b[0mv\u001b[0m\u001b[0;34m.\u001b[0m\u001b[0mname\u001b[0m\u001b[0;34m)\u001b[0m\u001b[0;34m\u001b[0m\u001b[0m\n\u001b[1;32m   4482\u001b[0m             \u001b[0;32mexcept\u001b[0m \u001b[0mException\u001b[0m\u001b[0;34m,\u001b[0m \u001b[0me\u001b[0m\u001b[0;34m:\u001b[0m\u001b[0;34m\u001b[0m\u001b[0m\n",
        "\u001b[0;32m<ipython-input-44-206bbf308f20>\u001b[0m in \u001b[0;36m<lambda>\u001b[0;34m(x)\u001b[0m\n\u001b[1;32m     22\u001b[0m \u001b[0;34m\u001b[0m\u001b[0m\n\u001b[1;32m     23\u001b[0m \u001b[0;32mfor\u001b[0m \u001b[0mfeat\u001b[0m \u001b[0;32min\u001b[0m \u001b[0mntwk_features\u001b[0m\u001b[0;34m:\u001b[0m\u001b[0;34m\u001b[0m\u001b[0m\n\u001b[0;32m---> 24\u001b[0;31m     \u001b[0mcite_copy\u001b[0m\u001b[0;34m[\u001b[0m\u001b[0mfeat\u001b[0m\u001b[0;34m+\u001b[0m\u001b[0;34m'_sum'\u001b[0m\u001b[0;34m]\u001b[0m \u001b[0;34m=\u001b[0m \u001b[0mcite_copy\u001b[0m\u001b[0;34m.\u001b[0m\u001b[0mhead\u001b[0m\u001b[0;34m(\u001b[0m\u001b[0;36m5\u001b[0m\u001b[0;34m)\u001b[0m\u001b[0;34m.\u001b[0m\u001b[0mapply\u001b[0m\u001b[0;34m(\u001b[0m\u001b[0;32mlambda\u001b[0m \u001b[0mx\u001b[0m\u001b[0;34m:\u001b[0m \u001b[0mtotal_score\u001b[0m\u001b[0;34m(\u001b[0m\u001b[0mx\u001b[0m\u001b[0;34m,\u001b[0m \u001b[0mfeat\u001b[0m\u001b[0;34m)\u001b[0m\u001b[0;34m,\u001b[0m \u001b[0maxis\u001b[0m\u001b[0;34m=\u001b[0m\u001b[0;36m1\u001b[0m\u001b[0;34m)\u001b[0m\u001b[0;34m\u001b[0m\u001b[0m\n\u001b[0m",
        "\u001b[0;32m<ipython-input-44-206bbf308f20>\u001b[0m in \u001b[0;36mtotal_score\u001b[0;34m(row, feature)\u001b[0m\n\u001b[1;32m      3\u001b[0m     \u001b[0mval\u001b[0m \u001b[0;34m=\u001b[0m \u001b[0;36m0\u001b[0m\u001b[0;34m\u001b[0m\u001b[0m\n\u001b[1;32m      4\u001b[0m     \u001b[0;32mfor\u001b[0m \u001b[0mc\u001b[0m \u001b[0;32min\u001b[0m \u001b[0mcites\u001b[0m\u001b[0;34m:\u001b[0m\u001b[0;34m\u001b[0m\u001b[0m\n\u001b[0;32m----> 5\u001b[0;31m         \u001b[0mprs\u001b[0m \u001b[0;34m=\u001b[0m \u001b[0mpr_df\u001b[0m\u001b[0;34m[\u001b[0m\u001b[0mpr_df\u001b[0m\u001b[0;34m[\u001b[0m\u001b[0;34m'usCite'\u001b[0m\u001b[0;34m]\u001b[0m\u001b[0;34m==\u001b[0m\u001b[0mc\u001b[0m\u001b[0;34m]\u001b[0m\u001b[0;34m[\u001b[0m\u001b[0mfeature\u001b[0m\u001b[0;34m]\u001b[0m\u001b[0;34m\u001b[0m\u001b[0m\n\u001b[0m\u001b[1;32m      6\u001b[0m \u001b[0;34m\u001b[0m\u001b[0m\n\u001b[1;32m      7\u001b[0m         \u001b[0;31m# special case degree\u001b[0m\u001b[0;34m\u001b[0m\u001b[0;34m\u001b[0m\u001b[0m\n",
        "\u001b[0;32m/Users/bull/anaconda/lib/python2.7/site-packages/pandas/core/series.pyc\u001b[0m in \u001b[0;36mwrapper\u001b[0;34m(self, other)\u001b[0m\n\u001b[1;32m    235\u001b[0m \u001b[0;34m\u001b[0m\u001b[0m\n\u001b[1;32m    236\u001b[0m             \u001b[0;31m# scalars\u001b[0m\u001b[0;34m\u001b[0m\u001b[0;34m\u001b[0m\u001b[0m\n\u001b[0;32m--> 237\u001b[0;31m             \u001b[0mres\u001b[0m \u001b[0;34m=\u001b[0m \u001b[0mna_op\u001b[0m\u001b[0;34m(\u001b[0m\u001b[0mvalues\u001b[0m\u001b[0;34m,\u001b[0m \u001b[0mother\u001b[0m\u001b[0;34m)\u001b[0m\u001b[0;34m\u001b[0m\u001b[0m\n\u001b[0m\u001b[1;32m    238\u001b[0m             \u001b[0;32mif\u001b[0m \u001b[0mnp\u001b[0m\u001b[0;34m.\u001b[0m\u001b[0misscalar\u001b[0m\u001b[0;34m(\u001b[0m\u001b[0mres\u001b[0m\u001b[0;34m)\u001b[0m\u001b[0;34m:\u001b[0m\u001b[0;34m\u001b[0m\u001b[0m\n\u001b[1;32m    239\u001b[0m                 raise TypeError('Could not compare %s type with Series'\n",
        "\u001b[0;32m/Users/bull/anaconda/lib/python2.7/site-packages/pandas/core/series.pyc\u001b[0m in \u001b[0;36mna_op\u001b[0;34m(x, y)\u001b[0m\n\u001b[1;32m    205\u001b[0m                     \u001b[0mresult\u001b[0m \u001b[0;34m=\u001b[0m \u001b[0mlib\u001b[0m\u001b[0;34m.\u001b[0m\u001b[0mvec_compare\u001b[0m\u001b[0;34m(\u001b[0m\u001b[0mx\u001b[0m\u001b[0;34m,\u001b[0m \u001b[0my\u001b[0m\u001b[0;34m,\u001b[0m \u001b[0mop\u001b[0m\u001b[0;34m)\u001b[0m\u001b[0;34m\u001b[0m\u001b[0m\n\u001b[1;32m    206\u001b[0m             \u001b[0;32melse\u001b[0m\u001b[0;34m:\u001b[0m\u001b[0;34m\u001b[0m\u001b[0m\n\u001b[0;32m--> 207\u001b[0;31m                 \u001b[0mresult\u001b[0m \u001b[0;34m=\u001b[0m \u001b[0mlib\u001b[0m\u001b[0;34m.\u001b[0m\u001b[0mscalar_compare\u001b[0m\u001b[0;34m(\u001b[0m\u001b[0mx\u001b[0m\u001b[0;34m,\u001b[0m \u001b[0my\u001b[0m\u001b[0;34m,\u001b[0m \u001b[0mop\u001b[0m\u001b[0;34m)\u001b[0m\u001b[0;34m\u001b[0m\u001b[0m\n\u001b[0m\u001b[1;32m    208\u001b[0m         \u001b[0;32melse\u001b[0m\u001b[0;34m:\u001b[0m\u001b[0;34m\u001b[0m\u001b[0m\n\u001b[1;32m    209\u001b[0m             \u001b[0mresult\u001b[0m \u001b[0;34m=\u001b[0m \u001b[0mop\u001b[0m\u001b[0;34m(\u001b[0m\u001b[0mx\u001b[0m\u001b[0;34m,\u001b[0m \u001b[0my\u001b[0m\u001b[0;34m)\u001b[0m\u001b[0;34m\u001b[0m\u001b[0m\n",
        "\u001b[0;31mKeyboardInterrupt\u001b[0m: "
       ]
      },
      {
       "output_type": "stream",
       "stream": "stdout",
       "text": [
        "\n",
        "<class 'pandas.core.series.Series'>\n",
        "<class 'pandas.core.series.Series'>\n"
       ]
      }
     ],
     "prompt_number": 44
    },
    {
     "cell_type": "code",
     "collapsed": false,
     "input": [
      "def pet_win(row):\n",
      "    cite = row['us_cite']\n",
      "    return pr_df[pr_df['usCite']==cite]['partyWinning'].values[0]\n",
      "\n",
      "cite_copy['pet_win'] = cite_copy.apply(pet_win, axis=1)   "
     ],
     "language": "python",
     "metadata": {},
     "outputs": [],
     "prompt_number": 21
    },
    {
     "cell_type": "code",
     "collapsed": false,
     "input": [
      "for feat in ntwk_features:\n",
      "    res = []\n",
      "    for cite in cite_copy.us_cite:\n",
      "        temp = cite_copy[cite_copy.us_cite==cite]\n",
      "        res.append(sum(temp[feat+'_sum'][temp.pet_resp==1]) - sum(temp[feat+'_sum'][temp.pet_resp==0]))\n",
      "    cite_copy[feat+'_diff'] = res"
     ],
     "language": "python",
     "metadata": {},
     "outputs": [],
     "prompt_number": 22
    },
    {
     "cell_type": "code",
     "collapsed": false,
     "input": [],
     "language": "python",
     "metadata": {},
     "outputs": [],
     "prompt_number": 23
    },
    {
     "cell_type": "code",
     "collapsed": false,
     "input": [
      "cite_copy.sort(columns=['us_cite','pet_resp'], inplace=True)"
     ],
     "language": "python",
     "metadata": {},
     "outputs": [],
     "prompt_number": 24
    },
    {
     "cell_type": "code",
     "collapsed": false,
     "input": [
      "cite_cases = cite_copy.groupby('us_cite').first()"
     ],
     "language": "python",
     "metadata": {},
     "outputs": [],
     "prompt_number": 25
    },
    {
     "cell_type": "code",
     "collapsed": false,
     "input": [
      "for feat in ntwk_features:\n",
      "    print \"CORRELATION COEFFICIENT FOR: \", feat\n",
      "    print np.corrcoef(cite_cases.[feat+'_diff'].values, cite_cases.pet_win.values)"
     ],
     "language": "python",
     "metadata": {},
     "outputs": [
      {
       "metadata": {},
       "output_type": "pyout",
       "prompt_number": 31,
       "text": [
        "array([[ 1.        , -0.23799544],\n",
        "       [-0.23799544,  1.        ]])"
       ]
      }
     ],
     "prompt_number": 31
    },
    {
     "cell_type": "code",
     "collapsed": false,
     "input": [],
     "language": "python",
     "metadata": {},
     "outputs": []
    }
   ],
   "metadata": {}
  }
 ]
}